{
 "metadata": {
  "language_info": {
   "codemirror_mode": {
    "name": "ipython",
    "version": 3
   },
   "file_extension": ".py",
   "mimetype": "text/x-python",
   "name": "python",
   "nbconvert_exporter": "python",
   "pygments_lexer": "ipython3",
   "version": "3.8.2-final"
  },
  "orig_nbformat": 2,
  "kernelspec": {
   "name": "Python 3.8.2 32-bit",
   "display_name": "Python 3.8.2 32-bit",
   "metadata": {
    "interpreter": {
     "hash": "7a542ca580817fc4dd55327026e074e2fa0cd470fc5dee9350c2d8b13822db8d"
    }
   }
  }
 },
 "nbformat": 4,
 "nbformat_minor": 2,
 "cells": [
  {
   "source": [
    "# Query Wikidata for Belgian Museums"
   ],
   "cell_type": "markdown",
   "metadata": {}
  },
  {
   "cell_type": "code",
   "execution_count": 21,
   "metadata": {},
   "outputs": [],
   "source": [
    "from datetime import datetime as dt\n",
    "\n",
    "from SPARQLWrapper import SPARQLWrapper, JSON"
   ]
  },
  {
   "source": [
    "## Fonctions"
   ],
   "cell_type": "markdown",
   "metadata": {}
  },
  {
   "cell_type": "code",
   "execution_count": 22,
   "metadata": {},
   "outputs": [],
   "source": [
    "def get_rows():\n",
    "    \"\"\"Retrieve results from SPARQL\"\"\"\n",
    "    endpoint = \"https://query.wikidata.org/bigdata/namespace/wdq/sparql\"\n",
    "    sparql = SPARQLWrapper(endpoint)\n",
    "\n",
    "    statement = \"\"\"\n",
    "  SELECT ?museum ?museumLabel ?museumaddress ?location WHERE {\n",
    "         ?museum (wdt:P31/(wdt:P279*)) wd:Q33506.\n",
    "         ?museum   wdt:P131 wd:Q239.\n",
    "         ?museum   wdt:P6375 ?museumaddress.\n",
    "         ?museum   wdt:P625 ?location.\n",
    "  SERVICE wikibase:label { bd:serviceParam wikibase:language \"en\". }\n",
    "}\n",
    "ORDER BY (?museumLabel)\n",
    "               \n",
    "    \"\"\"\n",
    "    sparql.setQuery(statement)\n",
    "    sparql.setReturnFormat(JSON)\n",
    "    results = sparql.query().convert()\n",
    "\n",
    "    rows = results['results']['bindings']\n",
    "    print(f\"\\n{len(rows)} Museums found\\n\")\n",
    "    return rows"
   ]
  },
  {
   "cell_type": "code",
   "execution_count": 23,
   "metadata": {},
   "outputs": [],
   "source": [
    "def show(rows, name_filter=None,n=10):\n",
    "    \"\"\"Display n museums (default=10)\"\"\"\n",
    "    if name_filter:\n",
    "        rows = [row for row in rows if name_filter in row['museumLabel']['value'].lower()]\n",
    "    print(f\"Displaying the first {n}:\\n\")\n",
    "    for row in rows[:n]:\n",
    "        try:\n",
    "            museumLabel = row['museumLabel']['value']\n",
    "        except ValueError:\n",
    "            museumLabel = \"====\"\n",
    "        try:\n",
    "            museumAddress = row['museumaddress']['value']\n",
    "        except ValueError: \n",
    "            museumAddress = \"====\"\n",
    "        try:\n",
    "            loc = row['location']['value']\n",
    "        except ValueError: \n",
    "            museumAddress = \"====\"\n",
    "        print(museumLabel + \"/ \" + museumAddress + \"/ \"  + loc)"
   ]
  },
  {
   "source": [
    "## Obtenir une liste des musees belges depuis Wiki Data "
   ],
   "cell_type": "markdown",
   "metadata": {}
  },
  {
   "cell_type": "code",
   "execution_count": 24,
   "metadata": {
    "tags": []
   },
   "outputs": [
    {
     "output_type": "stream",
     "name": "stdout",
     "text": [
      "\n40 Museums found\n\n"
     ]
    }
   ],
   "source": [
    "rows = get_rows()"
   ]
  },
  {
   "cell_type": "code",
   "execution_count": 29,
   "metadata": {},
   "outputs": [
    {
     "output_type": "execute_result",
     "data": {
      "text/plain": [
       "{'museum': {'type': 'uri',\n",
       "  'value': 'http://www.wikidata.org/entity/Q29563969'},\n",
       " 'museumaddress': {'xml:lang': 'nl',\n",
       "  'type': 'literal',\n",
       "  'value': 'Bourgetlaan 20'},\n",
       " 'location': {'datatype': 'http://www.opengis.net/ont/geosparql#wktLiteral',\n",
       "  'type': 'literal',\n",
       "  'value': 'Point(4.4184 50.877034)'},\n",
       " 'museumLabel': {'xml:lang': 'en',\n",
       "  'type': 'literal',\n",
       "  'value': 'Computer Museum'}}"
      ]
     },
     "metadata": {},
     "execution_count": 29
    }
   ],
   "source": [
    "rows[15]"
   ]
  },
  {
   "source": [
    "## Imprimer les 10 premiers musees"
   ],
   "cell_type": "markdown",
   "metadata": {}
  },
  {
   "cell_type": "code",
   "execution_count": 30,
   "metadata": {
    "tags": []
   },
   "outputs": [
    {
     "output_type": "stream",
     "name": "stdout",
     "text": [
      "Displaying the first 30:\n\nQ16665628/ rue Sainte-Anne 32, 1000 Bruxelles/ Point(4.35562 50.84129)\nQ42418336/ Rue Du Musee 5 - 9, Rue De La Regence 3 - 5/ Point(4.358502777 50.841922222)\nQ42418336/ Museumstraat 5 - 9, Regentschapsstraat 3 - 5, Brussel/ Point(4.358502777 50.841922222)\nArt & Design Atomium Museum/ Belgiëplein 1/ Point(4.341944 50.8975)\nArt & History Museum/ Parc Du Cinquantenaire 2, Parc Du Cinquantenaire 10, Parc Du Cinquantenaire 1A, Parc Du/ Point(4.39187 50.83903)\nArt & History Museum/ Jubelpark 2, Jubelpark 10, Jubelpark 1A, Jubelpark 9, Jubelpark 10A, Jubelpark 13, Jubelpark 12, Brussel/ Point(4.39187 50.83903)\nArt & History Museum/ Parc Du Cinquantenaire 2, Parc Du Cinquantenaire 10, Parc Du Cinquantenaire 1A, Parc Du/ Point(4.39187 50.83903)\nArt & History Museum/ Jubelpark 2, Jubelpark 10, Jubelpark 1A, Jubelpark 9, Jubelpark 10A, Jubelpark 13, Jubelpark 12, Brussel/ Point(4.39187 50.83903)\nBELvue Museum/ Place des Palais 7/ Point(4.36049 50.84264)\nCentre for Fine Arts, Brussels/ Rue Ravenstein 23/ Point(4.359775 50.843713888)\nCentre for Fine Arts, Brussels/ Rue Ravenstein 5, Rue Ravenstein 23, Rue Royale 6 -10/ Point(4.359775 50.843713888)\nCentre for Fine Arts, Brussels/ Ravensteinstraat 23/ Point(4.359775 50.843713888)\nCentre for Fine Arts, Brussels/ Ravensteinstraat 5 , Ravensteinstraat 23 , Koningsstraat, Brussel/ Point(4.359775 50.843713888)\nCollections of the Public Social Welfare Centre/ Rue Haute 298A/ Point(4.347167 50.835278)\nCollections of the Public Social Welfare Centre/ Hoogstraat 298A/ Point(4.347167 50.835278)\nComputer Museum/ Bourgetlaan 20/ Point(4.4184 50.877034)\nHalle Gate/ Boulevard Du Midi/ Point(4.34489395 50.8330149)\nHalle Gate/ Zuidlaan, Brussel/ Point(4.34489395 50.8330149)\nHistorium/ Place de la Monnaie, 1000 Bruxelles/ Point(4.352004 50.849592)\nHouse of European History/ rue Bélliard, Parco Leopoldo/ Point(4.378761111 50.839938888)\nKanal - Centre Pompidou/ 21 Sainctelettesquare, 1000 Brussel/ Point(4.348333333 50.858527777)\nKanal - Centre Pompidou/ 21 Square Sainctelette, 1000 Bruxelles/ Point(4.348333333 50.858527777)\nKanal - Centre Pompidou/ 21 Sainctelettesquare, 1000 Brussel/ Point(4.347777777 50.858611111)\nKanal - Centre Pompidou/ 21 Square Sainctelette, 1000 Bruxelles/ Point(4.347777777 50.858611111)\nKanal - Centre Pompidou/ 21 Sainctelettesquare, 1000 Brussel/ Point(4.348333333 50.858527777)\nKanal - Centre Pompidou/ 21 Square Sainctelette, 1000 Bruxelles/ Point(4.348333333 50.858527777)\nKanal - Centre Pompidou/ 21 Sainctelettesquare, 1000 Brussel/ Point(4.347777777 50.858611111)\nKanal - Centre Pompidou/ 21 Square Sainctelette, 1000 Bruxelles/ Point(4.347777777 50.858611111)\nMagritte Museum/ Koningsplein 1/ Point(4.35861111 50.84222222)\nMuseum of Costume and Lace/ Rue de la Violette 12 1000 Bruxelles/ Point(4.351953 50.845778)\n"
     ]
    }
   ],
   "source": [
    "show(rows,n=30)"
   ]
  },
  {
   "source": [
    "## Filter pour afficher seulement les noms contenant \"elio\""
   ],
   "cell_type": "markdown",
   "metadata": {}
  },
  {
   "cell_type": "code",
   "execution_count": 31,
   "metadata": {
    "tags": []
   },
   "outputs": [
    {
     "output_type": "stream",
     "name": "stdout",
     "text": [
      "Displaying the first 10:\n\n"
     ]
    }
   ],
   "source": [
    "show(rows,\"Art\")"
   ]
  },
  {
   "cell_type": "code",
   "execution_count": null,
   "metadata": {},
   "outputs": [],
   "source": []
  }
 ]
}