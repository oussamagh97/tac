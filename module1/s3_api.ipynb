{
 "metadata": {
  "language_info": {
   "codemirror_mode": {
    "name": "ipython",
    "version": 3
   },
   "file_extension": ".py",
   "mimetype": "text/x-python",
   "name": "python",
   "nbconvert_exporter": "python",
   "pygments_lexer": "ipython3",
   "version": "3.8.2-final"
  },
  "orig_nbformat": 2,
  "kernelspec": {
   "name": "Python 3.8.2 32-bit",
   "display_name": "Python 3.8.2 32-bit",
   "metadata": {
    "interpreter": {
     "hash": "7a542ca580817fc4dd55327026e074e2fa0cd470fc5dee9350c2d8b13822db8d"
    }
   }
  }
 },
 "nbformat": 4,
 "nbformat_minor": 2,
 "cells": [
  {
   "source": [
    "# Testing web APIs with HTTP GET method"
   ],
   "cell_type": "markdown",
   "metadata": {}
  },
  {
   "cell_type": "code",
   "execution_count": 511,
   "metadata": {},
   "outputs": [],
   "source": [
    "import json\n",
    "import sys\n",
    "\n",
    "import requests"
   ]
  },
  {
   "source": [
    "## Fonctions"
   ],
   "cell_type": "markdown",
   "metadata": {}
  },
  {
   "cell_type": "code",
   "execution_count": 512,
   "metadata": {},
   "outputs": [],
   "source": [
    "def print_coord(lieu):\n",
    "  ##Fonction pour avoir des informations sur les lieux culturels de bruxelles\n",
    "  url = \"https://opendata.bruxelles.be/api/records/1.0/search/\"\n",
    "  data = {'dataset': 'bruxelles_lieux_culturels', 'q' : lieu, 'format':'json'}\n",
    "  response = requests.get(url, data)\n",
    "  json_list = response.json()\n",
    "  for item in json_list['records']:\n",
    "      codePostal=item['fields']['code_postal']\n",
    "      adresse=item['fields']['adresse']\n",
    "      description=item['fields']['description']\n",
    "      lieu=item['fields']['lieu']\n",
    "      print(f\"{description} ({adresse} - {lieu} - {codePostal})\")\n"
   ]
  },
  {
   "cell_type": "code",
   "execution_count": 539,
   "metadata": {},
   "outputs": [],
   "source": [
    "def print_info(theatre):\n",
    " ##Fonction pour des informations sur les theatres a bruxelles\n",
    " url = \"https://opendata.bruxelles.be/api/records/1.0/search/\"\n",
    " data = {'dataset': 'theatres', 'q' : theatre, 'format':'json'}\n",
    " response = requests.get(url, data)\n",
    " json_list = response.json()\n",
    " for item in json_list['records']:\n",
    "      theatreName=item['fields']['nom']\n",
    "      rue=item['fields']['rue']\n",
    "      telephone=item['fields']['telephone_telefoon']\n",
    "      code_postal=item['fields']['code_postal_postcode']\n",
    "      siteWeb=item['fields']['site_web_website']\n",
    "      try:\n",
    "             facebook=item['fields']['facebook']\n",
    "             print(f\"{theatreName} ({rue} - {telephone} - {code_postal} - {siteWeb} - {facebook})\")\n",
    "      except KeyError:\n",
    "          pass\n",
    "      print(f\"{theatreName} ({rue} - {telephone} - {code_postal} - {siteWeb}\")"
   ]
  },
  {
   "cell_type": "code",
   "execution_count": null,
   "metadata": {},
   "outputs": [],
   "source": []
  },
  {
   "source": [
    "print_coord('Centre Pôle nord')"
   ],
   "cell_type": "code",
   "metadata": {},
   "execution_count": 518,
   "outputs": [
    {
     "output_type": "stream",
     "name": "stdout",
     "text": [
      "Centre Pôle nord (Chaussée d'Anvers 208 - Bruxelles - 1000)\n"
     ]
    }
   ]
  },
  {
   "cell_type": "code",
   "execution_count": 542,
   "metadata": {},
   "outputs": [
    {
     "output_type": "stream",
     "name": "stdout",
     "text": [
      "(Le) Jardin de ma Soeur (Rue du Grand Hospice - 02 217 65 82 - 1000 - www.lejardindemasoeur.be\n"
     ]
    }
   ],
   "source": [
    "print_info('(Le) Jardin de ma Soeur')"
   ]
  },
  {
   "cell_type": "code",
   "execution_count": null,
   "metadata": {},
   "outputs": [],
   "source": []
  }
 ]
}