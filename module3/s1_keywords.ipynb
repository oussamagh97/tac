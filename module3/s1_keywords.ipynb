{
 "metadata": {
  "language_info": {
   "codemirror_mode": {
    "name": "ipython",
    "version": 3
   },
   "file_extension": ".py",
   "mimetype": "text/x-python",
   "name": "python",
   "nbconvert_exporter": "python",
   "pygments_lexer": "ipython3",
   "version": "3.7.7-final"
  },
  "orig_nbformat": 2,
  "kernelspec": {
   "name": "Python 3.7.7 64-bit",
   "display_name": "Python 3.7.7 64-bit",
   "metadata": {
    "interpreter": {
     "hash": "0600588c3b5f4418cbe7b5ebc6825b479f3bc010269d8b60d75058cdd010adfe"
    }
   }
  }
 },
 "nbformat": 4,
 "nbformat_minor": 2,
 "cells": [
  {
   "source": [
    "# Testing keyword extraction with YAKE"
   ],
   "cell_type": "markdown",
   "metadata": {}
  },
  {
   "cell_type": "code",
   "execution_count": 5,
   "metadata": {},
   "outputs": [],
   "source": [
    "import os\n",
    "import yake"
   ]
  },
  {
   "source": [
    "## Extraire les mots clés des documents avec YAKE"
   ],
   "cell_type": "markdown",
   "metadata": {}
  },
  {
   "cell_type": "code",
   "execution_count": 8,
   "metadata": {
    "tags": []
   },
   "outputs": [
    {
     "output_type": "stream",
     "name": "stdout",
     "text": [
      "Bxl_1909_Tome_I2_1_Part_1.txt mentions these keywords: camille huysmans, ligne place, ligne bourse-place, d'une ligne, ligne porte, d'une ligne porte...\n",
      "Bxl_1909_Tome_I2_1_Part_10.txt mentions these keywords: recevoir les subsides, délégué pour recevoir...\n",
      "Bxl_1909_Tome_I2_1_Part_2.txt mentions these keywords: l'école professionnelle, dépense dépenses date, date dépense dépenses, dépenses date dépense, avis favorable...\n",
      "Bxl_1909_Tome_I2_1_Part_3.txt mentions these keywords: recettes extraordinaires, service extraordinaire, chapitre extraordinaire, exercice service, service ordinaire, recettes nature...\n",
      "Bxl_1909_Tome_I2_1_Part_4.txt mentions these keywords: avis favorable, hospices sollicite l'autorisation, hospices sollicite, collège a l'honneur...\n",
      "Bxl_1909_Tome_I2_1_Part_5.txt mentions these keywords: divisions territoriales, classe pauvre, divisions territoriales donne...\n",
      "Bxl_1909_Tome_I2_1_Part_6.txt mentions these keywords: décès décès maladies, voie publique, rue van maerlant, rue van, rue van eyck, rue grétry, décès maladies zymotiques, décès décès...\n",
      "Bxl_1909_Tome_I2_1_Part_7.txt mentions these keywords: incarvillea delavayi, fuchsia riccartoni, iris kaempferi, l'école moyenne, gypsophila paniculata simples, frais généraux...\n",
      "Bxl_1909_Tome_I2_1_Part_8.txt mentions these keywords: écoles primaires, jardins d'enfants, école ecoles normales, cours cours spéciaux, personnel enseignant...\n",
      "Bxl_1909_Tome_I2_1_Part_9.txt mentions these keywords: ecole professionnelle, population moyenne, cours publics, cours professionnels...\n",
      "Bxl_1909_Tome_I2_2_Part_1.txt mentions these keywords: camille huysmans, léon lepage...\n",
      "Bxl_1909_Tome_I2_2_Part_10.txt mentions these keywords: concession de terrain, conseiller communal, terrain rue...\n",
      "Bxl_1909_Tome_I2_2_Part_2.txt mentions these keywords: dépenses ordinaires, recettes ordinaires, dépenses extraordinaires, recettes extraordinaires, chapitre extraordinaire...\n",
      "Bxl_1909_Tome_I2_2_Part_3.txt mentions these keywords: camille huysmans, chapitre extraordinaire...\n",
      "Bxl_1909_Tome_I2_2_Part_4.txt mentions these keywords: ville de bruxelles, l'echevin grimard...\n",
      "Bxl_1909_Tome_I2_2_Part_5.txt mentions these keywords: revenu cadastral, d'un revenu cadastral, immeubles d'un revenu, d'un revenu, propriétés d'un revenu, taxe communale...\n",
      "Bxl_1909_Tome_I2_2_Part_6.txt mentions these keywords: camille huysmans, allocations dépenses allocations, allocations dépenses...\n",
      "Bxl_1909_Tome_I2_2_Part_7.txt mentions these keywords: entretien des toitures, entretien des appareils, travaux de jardinage, entretien ordinaire...\n",
      "Bxl_1909_Tome_I2_2_Part_8.txt mentions these keywords: voir bulletin communal, bulletin communal, dette belge, voir bulletin, donation comprend, maison rue...\n",
      "Bxl_1909_Tome_I2_2_Part_9.txt mentions these keywords: maison rue, maison rue van, avis favorable, rue van artevelde, recettes extraordinaires, maison rue haute...\n",
      "Bxl_1909_Tome_II1_Part_1.txt mentions these keywords: bourgmestre et echevins, emile collège, l'hôtel de ville, collège des bourgmestre, cahier des charges, musée commercial, secrétariat de l'hôtel...\n",
      "Bxl_1909_Tome_II1_Part_2.txt mentions these keywords: l'hôtel de ville, bourgmestre et echevins, collège des bourgmestre, cahier des charges, emile de mot, heures et demie, ville jusqu'au jour...\n",
      "Bxl_1909_Tome_II1_Part_3.txt mentions these keywords: école professionnelle, rentrée des classes, l'hôtel de ville, rue royale, écoles primaires...\n"
     ]
    }
   ],
   "source": [
    "ignored = set([\"conseil communal\", \"conseil général\"])\n",
    "\n",
    "kw_extractor = yake.KeywordExtractor(lan=\"fr\", top=20)\n",
    "data_path = \"../data/txt/\"\n",
    "files = os.listdir(data_path)\n",
    "for f in sorted(files):\n",
    "    if f.startswith(\"Bxl_1909\"):\n",
    "        text = open(f'{data_path}/{f}', encoding='utf-8').read()\n",
    "        keywords = kw_extractor.extract_keywords(text)\n",
    "        kept = []\n",
    "        for score, kw in keywords:\n",
    "            words = kw.split()\n",
    "            if len(words) > 1 and kw not in ignored:\n",
    "                kept.append(kw)\n",
    "        print(f\"{f} mentions these keywords: {', '.join(kept)}...\")"
   ]
  },
  {
   "cell_type": "code",
   "execution_count": null,
   "metadata": {},
   "outputs": [],
   "source": []
  }
 ]
}