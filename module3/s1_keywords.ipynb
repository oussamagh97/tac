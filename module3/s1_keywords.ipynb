{
 "metadata": {
  "language_info": {
   "codemirror_mode": {
    "name": "ipython",
    "version": 3
   },
   "file_extension": ".py",
   "mimetype": "text/x-python",
   "name": "python",
   "nbconvert_exporter": "python",
   "pygments_lexer": "ipython3",
   "version": "3.7.7-final"
  },
  "orig_nbformat": 2,
  "kernelspec": {
   "name": "Python 3.7.7 64-bit",
   "display_name": "Python 3.7.7 64-bit",
   "metadata": {
    "interpreter": {
     "hash": "0600588c3b5f4418cbe7b5ebc6825b479f3bc010269d8b60d75058cdd010adfe"
    }
   }
  }
 },
 "nbformat": 4,
 "nbformat_minor": 2,
 "cells": [
  {
   "source": [
    "# Testing keyword extraction with YAKE"
   ],
   "cell_type": "markdown",
   "metadata": {}
  },
  {
   "cell_type": "code",
   "execution_count": 5,
   "metadata": {},
   "outputs": [],
   "source": [
    "import os\n",
    "import yake"
   ]
  },
  {
   "source": [
    "## Extraire les mots clés des documents avec YAKE"
   ],
   "cell_type": "markdown",
   "metadata": {}
  },
  {
   "cell_type": "code",
   "execution_count": 7,
   "metadata": {
    "tags": []
   },
   "outputs": [
    {
     "output_type": "stream",
     "name": "stdout",
     "text": [
      "Bxl_1908_Tome_I1_Part_1.txt mentions these keywords: avis favorable, vote d'un crédit, d'un crédit supplémentaire...\n",
      "Bxl_1908_Tome_I1_Part_10.txt mentions these keywords: ville de bruxelles, avis favorable, cahier des charges...\n",
      "Bxl_1908_Tome_I1_Part_11.txt mentions these keywords: tramways bruxellois, société des tramways, tramways bruxellois place, d'une ligne, concession d'une ligne, avis favorable...\n",
      "Bxl_1908_Tome_I1_Part_12.txt mentions these keywords: tramways bruxellois, recevoir les subsides, ville de bruxelles, construction d'une école...\n",
      "Bxl_1908_Tome_I1_Part_13.txt mentions these keywords: total des dépenses, conseiller communal, total des recettes, fonds intercommunal, frais d'administration, concession de terrain, avis favorable...\n",
      "Bxl_1908_Tome_I1_Part_2.txt mentions these keywords: camille huysmans, dépenses ordinaires...\n",
      "Bxl_1908_Tome_I1_Part_3.txt mentions these keywords: conseil des hospices, ville de bruxelles, conseil provincial...\n",
      "Bxl_1908_Tome_I1_Part_4.txt mentions these keywords: général conseil communal, conseil général conseil, l'exercice conseil général, frais d'entretien, général conseil, budget conseil général...\n",
      "Bxl_1908_Tome_I1_Part_5.txt mentions these keywords: ...\n",
      "Bxl_1908_Tome_I1_Part_6.txt mentions these keywords: montant quantité montant, quantité montant quantité, quantité montant, enfants assistés, frais d'entretien, montant montant, montant quantité...\n",
      "Bxl_1908_Tome_I1_Part_7.txt mentions these keywords: conseil d'administration, conseil des hospices, chefs de service...\n",
      "Bxl_1908_Tome_I1_Part_8.txt mentions these keywords: l'honorable gouverneur, recettes extraordinaires, intérêts d'autres fonds...\n",
      "Bxl_1908_Tome_I1_Part_9.txt mentions these keywords: cahier des charges...\n",
      "Bxl_1908_Tome_II1_Part_1.txt mentions these keywords: l'hôtel de ville, emile collège, bourgmestre et echevins, collège des bourgmestre, cahier des charges, ville jusqu'au jour, noms commencent...\n",
      "Bxl_1908_Tome_II1_Part_2.txt mentions these keywords: l'hôtel de ville, bourgmestre et echevins, collège des bourgmestre, emile collège, cahier des charges, ville jusqu'au jour, heures et demie, maurice collège...\n",
      "Bxl_1908_Tome_II1_Part_3.txt mentions these keywords: l'hôtel de ville, emile collège, bourgmestre et echevins, collège des bourgmestre, ville jusqu'au jour, cahier des charges, ville jusqu'au...\n"
     ]
    }
   ],
   "source": [
    "ignored = set([\"conseil communal\", \"conseil général\"])\n",
    "\n",
    "kw_extractor = yake.KeywordExtractor(lan=\"fr\", top=20)\n",
    "data_path = \"../data/txt/\"\n",
    "files = os.listdir(data_path)\n",
    "for f in sorted(files):\n",
    "    if f.startswith(\"Bxl_1908\"):\n",
    "        text = open(f'{data_path}/{f}', encoding='utf-8').read()\n",
    "        keywords = kw_extractor.extract_keywords(text)\n",
    "        kept = []\n",
    "        for score, kw in keywords:\n",
    "            words = kw.split()\n",
    "            if len(words) > 1 and kw not in ignored:\n",
    "                kept.append(kw)\n",
    "        print(f\"{f} mentions these keywords: {', '.join(kept)}...\")"
   ]
  },
  {
   "cell_type": "code",
   "execution_count": null,
   "metadata": {},
   "outputs": [],
   "source": []
  }
 ]
}