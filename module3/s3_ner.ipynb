{
 "metadata": {
  "language_info": {
   "codemirror_mode": {
    "name": "ipython",
    "version": 3
   },
   "file_extension": ".py",
   "mimetype": "text/x-python",
   "name": "python",
   "nbconvert_exporter": "python",
   "pygments_lexer": "ipython3",
   "version": "3.7.7-final"
  },
  "orig_nbformat": 2,
  "kernelspec": {
   "name": "Python 3.7.7 64-bit ('venv')",
   "display_name": "Python 3.7.7 64-bit ('venv')",
   "metadata": {
    "interpreter": {
     "hash": "d6fb9991202371a20b4b1fa688d203658d075847d950dccdda3b59d184d9b3f9"
    }
   }
  }
 },
 "nbformat": 4,
 "nbformat_minor": 2,
 "cells": [
  {
   "source": [
    "# Named-entity recognition with SpaCy"
   ],
   "cell_type": "markdown",
   "metadata": {}
  },
  {
   "cell_type": "code",
   "execution_count": 1,
   "metadata": {},
   "outputs": [],
   "source": [
    "from collections import defaultdict\n",
    "import sys\n",
    "\n",
    "import spacy\n",
    "from spacy.lang.fr.examples import sentences"
   ]
  },
  {
   "source": [
    "Pour installer les modèles Spacy en français : `python -m spacy download fr_core_news_sm`"
   ],
   "cell_type": "markdown",
   "metadata": {
    "tags": []
   }
  },
  {
   "cell_type": "code",
   "execution_count": 2,
   "metadata": {},
   "outputs": [],
   "source": [
    "nlp = spacy.load('fr_core_news_sm')"
   ]
  },
  {
   "source": [
    "## Fonctions"
   ],
   "cell_type": "markdown",
   "metadata": {}
  },
  {
   "cell_type": "code",
   "execution_count": 3,
   "metadata": {},
   "outputs": [],
   "source": [
    "def test():\n",
    "    \"\"\"Basic test on sample sentences\"\"\"\n",
    "    for sent in sentences:\n",
    "        doc = nlp(sent)\n",
    "        entities = []\n",
    "        for ent in doc.ents:\n",
    "            entities.append(f\"{ent.text} ({ent.label_})\")\n",
    "        if entities:\n",
    "            print(f\"'{doc.text}' contains the following entities: {', '.join(entities)}\")\n",
    "        else:\n",
    "            print(f\"'{doc.text}' contains no entities\")"
   ]
  },
  {
   "cell_type": "code",
   "execution_count": 4,
   "metadata": {},
   "outputs": [],
   "source": [
    "def searchPeople(n=1000000):\n",
    "    text = open(\"1909.txt\", encoding='utf-8').read()[:n]\n",
    "    doc = nlp(text)\n",
    "    people = defaultdict(int)\n",
    "    for ent in doc.ents:\n",
    "        if ent.label_ == \"PER\" and len(ent.text) > 3:\n",
    "            people[ent.text] += 1\n",
    "    sorted_people = sorted(people.items(), key=lambda kv: kv[1], reverse=True)\n",
    "    for person, freq in sorted_people[:20]:\n",
    "        print(f\"{person} appears {freq} times in the corpus\")"
   ]
  },
  {
   "cell_type": "code",
   "execution_count": 8,
   "metadata": {},
   "outputs": [],
   "source": [
    "def searchLocation(n=1000000):\n",
    "    text = open(\"1909.txt\", encoding='utf-8').read()[:n]\n",
    "    doc = nlp(text)\n",
    "    location = defaultdict(int)\n",
    "    for ent in doc.ents:\n",
    "        if ent.label_ == \"LOC\" and len(ent.text) > 3:\n",
    "            location[ent.text] += 1\n",
    "    sorted_location = sorted(location.items(), key=lambda kv: kv[1], reverse=True)\n",
    "    for location, freq in sorted_location[:20]:\n",
    "        print(f\"{location}, a location, appears {freq} times in the corpus\")"
   ]
  },
  {
   "cell_type": "code",
   "execution_count": 10,
   "metadata": {},
   "outputs": [],
   "source": [
    "def searchOrganisation(n=1000000):\n",
    "    text = open(\"1909.txt\", encoding='utf-8').read()[:n]\n",
    "    doc = nlp(text)\n",
    "    organisation= defaultdict(int)\n",
    "    for ent in doc.ents:\n",
    "        if ent.label_ == \"ORG\" and len(ent.text) > 3:\n",
    "            organisation[ent.text] += 1\n",
    "    sorted_organisation = sorted(organisation.items(), key=lambda kv : kv[1], reverse=True)\n",
    "    for org, freq in sorted_organisation[:20]:\n",
    "        print(f\"{org}, an organisation, appears {freq} times in the corpus\")"
   ]
  },
  {
   "source": [
    "## NER sur des données de test"
   ],
   "cell_type": "markdown",
   "metadata": {}
  },
  {
   "cell_type": "code",
   "execution_count": 17,
   "metadata": {
    "tags": []
   },
   "outputs": [
    {
     "output_type": "stream",
     "name": "stdout",
     "text": [
      "'Apple cherche à acheter une start-up anglaise pour 1 milliard de dollars' contains the following entities: Apple (ORG)\n'Les voitures autonomes déplacent la responsabilité de l'assurance vers les constructeurs' contains no entities\n'San Francisco envisage d'interdire les robots coursiers sur les trottoirs' contains the following entities: San Francisco (LOC)\n'Londres est une grande ville du Royaume-Uni' contains the following entities: Londres (LOC), Royaume-Uni (LOC)\n'L’Italie choisit ArcelorMittal pour reprendre la plus grande aciérie d’Europe' contains the following entities: ArcelorMittal (MISC), Europe (LOC)\n'Apple lance HomePod parce qu'il se sent menacé par l'Echo d'Amazon' contains the following entities: Apple (ORG), HomePod (MISC), Echo (MISC)\n'La France ne devrait pas manquer d'électricité cet été, même en cas de canicule' contains the following entities: La France (LOC)\n'Nouvelles attaques de Trump contre le maire de Londres' contains the following entities: Trump (LOC), Londres (LOC)\n'Où es-tu ?' contains no entities\n'Qui est le président de la France ?' contains the following entities: la France (LOC)\n'Où est la capitale des États-Unis ?' contains the following entities: États-Unis (LOC)\n'Quand est né Barack Obama ?' contains the following entities: Barack Obama (PER)\n"
     ]
    }
   ],
   "source": [
    "test()"
   ]
  },
  {
   "source": [
    "## NER sur le corpus des bulletins communaux"
   ],
   "cell_type": "markdown",
   "metadata": {}
  },
  {
   "cell_type": "code",
   "execution_count": 6,
   "metadata": {
    "tags": []
   },
   "outputs": [
    {
     "output_type": "stream",
     "name": "stdout",
     "text": [
      "Bauwens appears 12 times in the corpus\nMessieurs appears 10 times in the corpus\nCamille H appears 10 times in the corpus\nEchevin Lemonnier appears 9 times in the corpus\nAnspach appears 3 times in the corpus\nCamille Huysmans appears 3 times in the corpus\nRenvoi appears 3 times in the corpus\nMadou appears 3 times in the corpus\nJamaer appears 2 times in the corpus\nC ' é t appears 2 times in the corpus\n"
     ]
    }
   ],
   "source": [
    "searchPeople(n=100000)"
   ]
  },
  {
   "cell_type": "code",
   "execution_count": 9,
   "metadata": {},
   "outputs": [
    {
     "output_type": "stream",
     "name": "stdout",
     "text": [
      "Collège, a location, appears 20 times in the corpus\nBourse, a location, appears 14 times in the corpus\nE c h, a location, appears 12 times in the corpus\nBourgmestre, a location, appears 12 times in the corpus\nplace M, a location, appears 12 times in the corpus\nBruxellois, a location, appears 9 times in the corpus\nDillens, a location, appears 7 times in the corpus\nConrardy, a location, appears 7 times in the corpus\ngare M, a location, appears 7 times in the corpus\nBruxelles, a location, appears 6 times in the corpus\nEchevin M, a location, appears 6 times in the corpus\nBauwens, a location, appears 5 times in the corpus\nEchevin L, a location, appears 5 times in the corpus\nGouvernement, a location, appears 4 times in the corpus\nHanssens, a location, appears 4 times in the corpus\nplace R, a location, appears 4 times in the corpus\nSenne, a location, appears 4 times in the corpus\nplace S, a location, appears 3 times in the corpus\nla Ville, a location, appears 3 times in the corpus\nrue H, a location, appears 3 times in the corpus\n"
     ]
    }
   ],
   "source": [
    "searchLocation(n=100000)"
   ]
  },
  {
   "cell_type": "code",
   "execution_count": null,
   "metadata": {},
   "outputs": [],
   "source": [
    "searchOrganisation(n=1000000)"
   ]
  },
  {
   "cell_type": "code",
   "execution_count": null,
   "metadata": {},
   "outputs": [],
   "source": []
  }
 ]
}