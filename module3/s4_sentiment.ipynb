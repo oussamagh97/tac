{
 "metadata": {
  "language_info": {
   "codemirror_mode": {
    "name": "ipython",
    "version": 3
   },
   "file_extension": ".py",
   "mimetype": "text/x-python",
   "name": "python",
   "nbconvert_exporter": "python",
   "pygments_lexer": "ipython3",
   "version": "3.7.7-final"
  },
  "orig_nbformat": 2,
  "kernelspec": {
   "name": "Python 3.7.7 64-bit ('venv')",
   "display_name": "Python 3.7.7 64-bit ('venv')",
   "metadata": {
    "interpreter": {
     "hash": "d6fb9991202371a20b4b1fa688d203658d075847d950dccdda3b59d184d9b3f9"
    }
   }
  }
 },
 "nbformat": 4,
 "nbformat_minor": 2,
 "cells": [
  {
   "source": [
    "# Sentiment analysis with Textblob-FR"
   ],
   "cell_type": "markdown",
   "metadata": {}
  },
  {
   "cell_type": "code",
   "execution_count": 1,
   "metadata": {},
   "outputs": [],
   "source": [
    "import sys\n",
    "\n",
    "from textblob import Blobber\n",
    "from textblob_fr import PatternTagger, PatternAnalyzer"
   ]
  },
  {
   "source": [
    "## Fonction"
   ],
   "cell_type": "markdown",
   "metadata": {}
  },
  {
   "cell_type": "code",
   "execution_count": 2,
   "metadata": {},
   "outputs": [],
   "source": [
    "tb = Blobber(pos_tagger=PatternTagger(), analyzer=PatternAnalyzer())\n",
    "\n",
    "def get_sentiment(input_text):\n",
    "    blob = tb(input_text)\n",
    "    pola, subj = blob.sentiment\n",
    "    perc = f\"{100*abs(pola):.0f}\"\n",
    "    if pola > 0:\n",
    "        sent = f\"{perc}% positive\"\n",
    "    elif pola < 0:\n",
    "        sent = f\"{perc}% negative\"\n",
    "    else:\n",
    "        sent = \"neutral\"\n",
    "    if subj > 0:\n",
    "        fact = f\"{100*subj:.0f}% subjective\"\n",
    "    else:\n",
    "        fact = \"perfectly objective\"\n",
    "    print(f\"This text is {sent} and {fact}.\")"
   ]
  },
  {
   "source": [
    "## Analyser le sentiment d'une phrase"
   ],
   "cell_type": "markdown",
   "metadata": {}
  },
  {
   "cell_type": "code",
   "execution_count": 3,
   "metadata": {
    "tags": []
   },
   "outputs": [
    {
     "output_type": "stream",
     "name": "stdout",
     "text": [
      "This text is 8% positive and 36% subjective.\n"
     ]
    }
   ],
   "source": [
    "get_sentiment(\"L'homme et l'artiste n'étaient pas moins sympathiques que l'œuvre parce qu'on le jugeait plus soucieux de bien faire que de rechercher un triomphe personnel.\")"
   ]
  },
  {
   "cell_type": "code",
   "execution_count": 4,
   "metadata": {
    "tags": []
   },
   "outputs": [
    {
     "output_type": "stream",
     "name": "stdout",
     "text": [
      "This text is 5% negative and perfectly objective.\n"
     ]
    }
   ],
   "source": [
    "get_sentiment(\"Le procès-verbal de la séance du 21 j u i n 1909 est déposé sur le bureau à une heure et demie\")"
   ]
  },
  {
   "cell_type": "code",
   "execution_count": 5,
   "metadata": {},
   "outputs": [
    {
     "output_type": "stream",
     "name": "stdout",
     "text": [
      "This text is 26% negative and 40% subjective.\n"
     ]
    }
   ],
   "source": [
    "get_sentiment(\"Comme quoi les régies ne savent pas administrer et comme quoi elles exploitent cher!\")"
   ]
  },
  {
   "cell_type": "code",
   "execution_count": 7,
   "metadata": {},
   "outputs": [
    {
     "output_type": "stream",
     "name": "stdout",
     "text": [
      "This text is 20% positive and 20% subjective.\n"
     ]
    }
   ],
   "source": [
    "get_sentiment(\"Les ordonnateurs et porteurs suppléants reçoivent une indemnité de 3 francs par service commandé\")"
   ]
  },
  {
   "cell_type": "code",
   "execution_count": 8,
   "metadata": {},
   "outputs": [
    {
     "output_type": "stream",
     "name": "stdout",
     "text": [
      "This text is neutral and perfectly objective.\n"
     ]
    }
   ],
   "source": [
    "get_sentiment(\"Chacun contribuera ainsi à la réussite d'une entreprise dont le succès doit nécessairement r e j a i l l i r sur le commerce b r u xellois.\")"
   ]
  },
  {
   "cell_type": "code",
   "execution_count": 11,
   "metadata": {},
   "outputs": [
    {
     "output_type": "stream",
     "name": "stdout",
     "text": [
      "This text is 40% positive and 35% subjective.\n"
     ]
    }
   ],
   "source": [
    "get_sentiment(\"Le vendredi 2 avril 1909 . à une heure et u n quart précise, il sera procédé, dans l'une des salles de l'Hôtel de Ville , à l'adjudication des travaux de renouvellement du pavage en bois, boulevard de Waterloo , entre la porte Louise et la mitoyenneté des propriétés n 10 et 18 du dit boulevard.\")"
   ]
  },
  {
   "cell_type": "code",
   "execution_count": 10,
   "metadata": {},
   "outputs": [
    {
     "output_type": "stream",
     "name": "stdout",
     "text": [
      "This text is 15% positive and 10% subjective.\n"
     ]
    }
   ],
   "source": [
    "get_sentiment(\"Los soumissions, rédigées sur timbre, à peine de nullité, devront être adressées au Collège des Bourgmestre et Echevins  et remises au Secrétariat de l'Hôtel de Ville au plus tard le 2 avril 11)09, avant onze heures.\")"
   ]
  },
  {
   "cell_type": "code",
   "execution_count": 12,
   "metadata": {},
   "outputs": [
    {
     "output_type": "stream",
     "name": "stdout",
     "text": [
      "This text is 17% positive and 12% subjective.\n"
     ]
    }
   ],
   "source": [
    "get_sentiment(\"Cette augmentation de dépenses s'aggrave encore par les sacrifices nouveaux q u i nous ont été demandés ,pour l'achèvement des installations maritimes\")"
   ]
  },
  {
   "cell_type": "code",
   "execution_count": 13,
   "metadata": {},
   "outputs": [
    {
     "output_type": "stream",
     "name": "stdout",
     "text": [
      "This text is 6% positive and 16% subjective.\n"
     ]
    }
   ],
   "source": [
    "get_sentiment(\"Les archives anciennes ont fait dans ces dix dernières années l'objet d'un classement soigné, dont les différentes phases ont été successivement décrites dans une série de rapports annuels, de 1899 à 1908\")"
   ]
  },
  {
   "cell_type": "code",
   "execution_count": 15,
   "metadata": {},
   "outputs": [
    {
     "output_type": "stream",
     "name": "stdout",
     "text": [
      "This text is 26% positive and 29% subjective.\n"
     ]
    }
   ],
   "source": [
    "get_sentiment(\"Les archives administratives constituent la partie la plus importante du dépôt communal\")"
   ]
  },
  {
   "cell_type": "code",
   "execution_count": null,
   "metadata": {},
   "outputs": [],
   "source": []
  }
 ]
}