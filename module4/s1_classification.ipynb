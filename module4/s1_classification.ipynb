{
 "metadata": {
  "language_info": {
   "codemirror_mode": {
    "name": "ipython",
    "version": 3
   },
   "file_extension": ".py",
   "mimetype": "text/x-python",
   "name": "python",
   "nbconvert_exporter": "python",
   "pygments_lexer": "ipython3",
   "version": "3.7.7-final"
  },
  "orig_nbformat": 2,
  "kernelspec": {
   "name": "python3",
   "display_name": "Python 3"
  }
 },
 "nbformat": 4,
 "nbformat_minor": 2,
 "cells": [
  {
   "cell_type": "code",
   "execution_count": 1,
   "metadata": {},
   "outputs": [],
   "source": [
    "import matplotlib.pyplot as plt\n",
    "from nltk.corpus import stopwords\n",
    "import seaborn as sn\n",
    "from pprint import pprint\n",
    "import numpy as np\n",
    "\n",
    "from sklearn.datasets import fetch_20newsgroups\n",
    "# use annual index instead?\n",
    "from sklearn.model_selection import train_test_split\n",
    "from sklearn.naive_bayes import MultinomialNB\n",
    "from sklearn.pipeline import Pipeline\n",
    "from sklearn.feature_extraction.text import TfidfVectorizer\n",
    "from sklearn.metrics import confusion_matrix, classification_report\n",
    "import pandas as pd\n",
    "import re"
   ]
  },
  {
   "source": [
    "# Chargement du dataset 20 newsgroups\n",
    "Pour plus d'information : https://scikit-learn.org/0.19/datasets/twenty_newsgroups.html"
   ],
   "cell_type": "markdown",
   "metadata": {}
  },
  {
   "cell_type": "code",
   "execution_count": 2,
   "metadata": {},
   "outputs": [],
   "source": [
    "news = fetch_20newsgroups(subset='all')"
   ]
  },
  {
   "cell_type": "code",
   "execution_count": 3,
   "metadata": {},
   "outputs": [
    {
     "output_type": "stream",
     "name": "stdout",
     "text": [
      "Number of articles: 18846\n"
     ]
    }
   ],
   "source": [
    "print(\"Number of articles: \" + str(len(news.data)))"
   ]
  },
  {
   "cell_type": "code",
   "execution_count": 4,
   "metadata": {},
   "outputs": [
    {
     "output_type": "stream",
     "name": "stdout",
     "text": [
      "Number of categories: 20\n"
     ]
    }
   ],
   "source": [
    "print(\"Number of categories: \" + str(len(news.target_names)))"
   ]
  },
  {
   "source": [
    "# Exploration du dataset"
   ],
   "cell_type": "markdown",
   "metadata": {}
  },
  {
   "cell_type": "code",
   "execution_count": 5,
   "metadata": {},
   "outputs": [
    {
     "output_type": "stream",
     "name": "stdout",
     "text": [
      "['alt.atheism',\n 'comp.graphics',\n 'comp.os.ms-windows.misc',\n 'comp.sys.ibm.pc.hardware',\n 'comp.sys.mac.hardware',\n 'comp.windows.x',\n 'misc.forsale',\n 'rec.autos',\n 'rec.motorcycles',\n 'rec.sport.baseball',\n 'rec.sport.hockey',\n 'sci.crypt',\n 'sci.electronics',\n 'sci.med',\n 'sci.space',\n 'soc.religion.christian',\n 'talk.politics.guns',\n 'talk.politics.mideast',\n 'talk.politics.misc',\n 'talk.religion.misc']\n"
     ]
    }
   ],
   "source": [
    "labels = news.target_names\n",
    "pprint(labels)"
   ]
  },
  {
   "cell_type": "code",
   "execution_count": 6,
   "metadata": {},
   "outputs": [
    {
     "output_type": "stream",
     "name": "stdout",
     "text": [
      "===== rec.sport.hockey =====\nFrom: Mamatha Devineni Ratnam <mr47+@andrew.cmu.edu> Subject: Pens fans reactions Organization: Post Office, Carnegie Mellon, Pittsburgh, PA Lines: 12 NNTP-Posting-Host: po4.andrew.cmu.edu    I am sure some bashers of Pens fans are pretty confused about the lack of any kind of posts about the recent Pens massacre of the Devils. Actually, I am  bit puzzled too and a bit relieved. However, I am going to put an end to non-PIttsburghers' relief with a bit of praise for the Pens. Man, they are killing those Devils worse than I thought. Jagr just showed you why he is much better than his regular season stats. He is also a lot fo fun to watch in the playoffs. Bowman should let JAgr have a lot of fun in the next couple of games since the Pens are going to beat the pulp out of Jersey anyway. I was very disappointed not to see the Islanders lose the final regular season game.          PENS RULE!!!   \n\n===== comp.sys.ibm.pc.hardware =====\nFrom: mblawson@midway.ecn.uoknor.edu (Matthew B Lawson) Subject: Which high-performance VLB video card? Summary: Seek recommendations for VLB video card Nntp-Posting-Host: midway.ecn.uoknor.edu Organization: Engineering Computer Network, University of Oklahoma, Norman, OK, USA Keywords: orchid, stealth, vlb Lines: 21    My brother is in the market for a high-performance video card that supports VESA local bus with 1-2MB RAM.  Does anyone have suggestions/ideas on:    - Diamond Stealth Pro Local Bus    - Orchid Farenheit 1280    - ATI Graphics Ultra Pro    - Any other high-performance VLB card   Please post or email.  Thank you!    - Matt  --      |  Matthew B. Lawson <------------> (mblawson@essex.ecn.uoknor.edu)  |      --+-- \"Now I, Nebuchadnezzar, praise and exalt and glorify the King  --+--      |   of heaven, because everything he does is right and all his ways  |        |   are just.\" - Nebuchadnezzar, king of Babylon, 562 B.C.           |     \n\n===== talk.politics.mideast =====\nFrom: hilmi-er@dsv.su.se (Hilmi Eren) Subject: Re: ARMENIA SAYS IT COULD SHOOT DOWN TURKISH PLANES (Henrik) Lines: 95 Nntp-Posting-Host: viktoria.dsv.su.se Reply-To: hilmi-er@dsv.su.se (Hilmi Eren) Organization: Dept. of Computer and Systems Sciences, Stockholm University     |>The student of \"regional killings\" alias Davidian (not the Davidian religios sect) writes:   |>Greater Armenia would stretch from Karabakh, to the Black Sea, to the |>Mediterranean, so if you use the term \"Greater Armenia\" use it with care.   \tFinally you said what you dream about. Mediterranean???? That was new.... \tThe area will be \"greater\" after some years, like your \"holocaust\" numbers......     |>It has always been up to the Azeris to end their announced winning of Karabakh  |>by removing the Armenians! When the president of Azerbaijan, Elchibey, came to  |>power last year, he announced he would be be \"swimming in Lake Sevan [in  |>Armeniaxn] by July\". \t\t***** \tIs't July in USA now????? Here in Sweden it's April and still cold. \tOr have you changed your calendar???   |>Well, he was wrong! If Elchibey is going to shell the  |>Armenians of Karabakh from Aghdam, his people will pay the price! If Elchibey  \t\t\t\t\t\t    **************** |>is going to shell Karabakh from Fizuli his people will pay the price! If  \t\t\t\t\t\t    ****************** |>Elchibey thinks he can get away with bombing Armenia from the hills of  |>Kelbajar, his people will pay the price.  \t\t\t    ***************   \tNOTHING OF THE MENTIONED IS TRUE, BUT LET SAY IT's TRUE. \t \tSHALL THE AZERI WOMEN AND CHILDREN GOING TO PAY THE PRICE WITH \t\t\t\t\t\t    ************** \tBEING RAPED, KILLED AND TORTURED BY THE ARMENIANS?????????? \t \tHAVE YOU HEARDED SOMETHING CALLED: \"GENEVA CONVENTION\"??????? \tYOU FACIST!!!!!    \tOhhh i forgot, this is how Armenians fight, nobody has forgot \tyou killings, rapings and torture against the Kurds and Turks once \tupon a time!                 |>And anyway, this \"60  |>Kurd refugee\" story, as have other stories, are simple fabrications sourced in  |>Baku, modified in Ankara. Other examples of this are Armenia has no border  |>with Iran, and the ridiculous story of the \"intercepting\" of Armenian military  |>conversations as appeared in the New York Times supposedly translated by  |>somebody unknown, from Armenian into Azeri Turkish, submitted by an unnamed  |>\"special correspondent\" to the NY Times from Baku. Real accurate!  Ohhhh so swedish RedCross workers do lie they too? What ever you say \"regional killer\", if you don't like the person then shoot him that's your policy.....l   |>[HE]\tSearch Turkish planes? You don't know what you are talking about.<------- |>[HE]\tsince it's content is announced to be weapons? \t\t\t\ti\t  \t\t\t\t\t\t\t\t\t\ti |>Well, big mouth Ozal said military weapons are being provided to Azerbaijan\ti |>from Turkey, yet Demirel and others say no. No wonder you are so confused!\ti \t\t\t\t\t\t\t\t\t\ti \t\t\t\t\t\t\t\t\t\ti \tConfused?????\t\t\t\t\t\t\t\ti \tYou facist when you delete text don't change it, i wrote:\t\ti \t\t\t\t\t\t\t\t\t\ti         Search Turkish planes? You don't know what you are talking about.\ti         Turkey's government has announced that it's giving weapons  <-----------i         to Azerbadjan since Armenia started to attack Azerbadjan\t\t         it self, not the Karabag province. So why search a plane for weapons\t         since it's content is announced to be weapons?     \tIf there is one that's confused then that's you! We have the right (and we do) \tto give weapons to the Azeris, since Armenians started the fight in Azerbadjan!    |>You are correct, all Turkish planes should be simply shot down! Nice, slow |>moving air transports!  \tShoot down with what? Armenian bread and butter? Or the arms and personel  \tof the Russian army?     Hilmi Eren Stockholm University  \n\n===== comp.sys.ibm.pc.hardware =====\nFrom: guyd@austin.ibm.com (Guy Dawson) Subject: Re: IDE vs SCSI, DMA and detach Originator: guyd@pal500.austin.ibm.com Organization: IBM Austin Lines: 60   In article <1993Apr19.034517.12820@julian.uwo.ca>, wlsmith@valve.heart.rri.uwo.ca (Wayne Smith) writes: > In article <RICHK.93Apr15075248@gozer.grebyn.com> richk@grebyn.com (Richard Krehbiel) writes: > >>     Can anyone explain in fairly simple terms why, if I get OS/2, I might  > >>   need an SCSI controler rather than an IDE.  Will performance suffer that > >>   much?  For a 200MB or so drive?  If I don't have a tape drive or CD-ROM? > >>   Any help would be appreciated. >  > >So, when you've got multi-tasking, you want to increase performance by > >increasing the amount of overlapping you do. > > > >One way is with DMA or bus mastering.  Either of these make it > >possible for I/O devices to move their data into and out of memory > >without interrupting the CPU.  The alternative is for the CPU to move > >the data.  There are several SCSI interface cards that allow DMA and > >bus mastering. >  ^^^^^^^^^^^^ > How do you do bus-mastering on the ISA bus? >  > >IDE, however, is defined by the standard AT interface > >created for the IBM PC AT, which requires the CPU to move all the data > >bytes, with no DMA. >  > If we're talking ISA (AT) bus here, then you can only have 1 DMA channel > active at any one time, presumably transferring data from a single device. > So even though you can have at least 7 devices on a SCSI bus, explain how > all 7 of those devices can to DMA transfers through a single SCSI card > to the ISA-AT bus at the same time.  Think!  It's the SCSI card doing the DMA transfers NOT the disks...  The SCSI card can do DMA transfers containing data from any of the SCSI devices it is attached when it wants to.  An important feature of SCSI is the ability to detach a device. This frees the SCSI bus for other devices. This is typically used in a multi-tasking OS to start transfers on several devices. While each device is seeking the data the bus is free for other commands and data transfers. When the devices are ready to transfer the data they can aquire the bus and send the data.  On an IDE bus when you start a transfer the bus is busy until the disk has seeked the data and transfered it. This is typically a 10-20ms second lock out for other processes wanting the bus irrespective of transfer time.  >  > Also, I'm still trying to track down a copy of IBM's AT reference book, > but from their PC technical manual (page 2-93): >  > \"The (FDD) adapter is buffered on the I.O bus and uses the System Board > direct memory access (DMA) for record data transfers.\" > I expect to see something similar for the PC-AT HDD adapter.   > So the lowly low-density original PC FDD card used DMA and the PC-AT > HDD controller doesn't!?!?  That makes real sense. --  -- ----------------------------------------------------------------------------- Guy Dawson - Hoskyns Group Plc.         guyd@hoskyns.co.uk  Tel Hoskyns UK     -  71 251 2128         guyd@austin.ibm.com Tel IBM Austin USA - 512 838 3377  \n\n===== comp.sys.mac.hardware =====\nFrom: Alexander Samuel McDiarmid <am2o+@andrew.cmu.edu> Subject: driver ?? Organization: Sophomore, Mechanical Engineering, Carnegie Mellon, Pittsburgh, PA Lines: 15 NNTP-Posting-Host: po4.andrew.cmu.edu    1)    I have an old Jasmine drive which I cannot use with my new system.  My understanding is that I have to upsate the driver with a more modern one in order to gain compatability with system 7.0.1.  does anyone know of an inexpensive program to do this?  ( I have seen formatters for <$20 buit have no idea if they will work)   2)     I have another ancient device, this one a tape drive for which the back utility freezes the system if I try to use it.  THe drive is a jasmine direct tape (bought used for $150 w/ 6 tapes, techmar mechanism).  Essentially I have the same question as above, anyone know of an inexpensive beckup utility I can use with system 7.0.1   all help and advice appriciated.   \n\n===== sci.electronics =====\nFrom: tell@cs.unc.edu (Stephen Tell) Subject: Re: subliminal message flashing on TV Organization: The University of North Carolina at Chapel Hill Lines: 25 NNTP-Posting-Host: rukbat.cs.unc.edu  In article <7480237@hpfcso.FC.HP.COM> myers@hpfcso.FC.HP.COM (Bob Myers) writes: >> Hi.  I was doing research on subliminal suggestion for a psychology >> paper, and I read that one researcher flashed hidden messages on the >> TV screen at 1/200ths of a second.  Is that possible?  > Might >even be a vector (\"strokewriter\") display, in which case the lower limit >on image time is anyone's guess (and is probably phosphor-persistence limited).  Back in high school I worked as a lab assistant for a bunch of experimental psychologists at Bell Labs.  When they were doing visual perception and memory experiments, they used vector-type displays, with 1-millisecond refresh rates common.  So your case of 1/200th sec is quite practical, and the experimenters were probably sure that it was 5 milliseconds, not 4 or 6 either.  >Bob Myers  KC0EW >myers@fc.hp.com   Steve --  Steve Tell       tell@cs.unc.edu H: 919 968 1792  | #5L Estes Park apts UNC Chapel Hill Computer Science W: 919 962 1845  | Carrboro NC 27510 Engineering is a _lot_ like art:  Some circuits are like lyric poems, some are like army manuals, and some are like The Hitchhiker's Guide to the Galaxy..  \n\n===== comp.sys.mac.hardware =====\nFrom: lpa8921@tamuts.tamu.edu (Louis Paul Adams) Subject: Re: Number for Applied Engineering Organization: Texas A&M University, College Station Lines: 9 NNTP-Posting-Host: tamuts.tamu.edu  >Anyone have a phone number for Applied Engineering so I can give them >a call?   AE is in Dallas...try 214/241-6060 or 214/241-0055.  Tech support may be on their own line, but one of these should get you started.  Good luck!   \n\n===== rec.sport.hockey =====\nFrom: dchhabra@stpl.ists.ca (Deepak Chhabra) Subject: Re: Atlanta Hockey Hell!! Nntp-Posting-Host: stpl.ists.ca Organization: Solar Terresterial Physics Laboratory, ISTS Lines: 24  In article <0foVj7i00WB4MIUmht@andrew.cmu.edu> Mamatha Devineni Ratnam <mr47+@andrew.cmu.edu> writes: > >Well, it's not that bad. But I am still pretty pissed of at the >local ABC coverage. They cut off the first half hour of coverage by playing  [stuff deleted]  Ok, here's the solution to your problem.  Move to Canada.  Yesterday I was able to watch FOUR games...the NJ-PITT at 1:00 on ABC, LA-CAL at 3:00 (CBC),  BUFF-BOS at 7:00 (TSN and FOX), and MON-QUE at 7:30 (CBC).  I think that if each series goes its max I could be watching hockey playoffs for 40-some odd consecutive nights (I haven't counted so that's a pure guess).  I have two tv's in my house, and I set them up side-by-side to watch MON-QUE and keep an eye on BOS-BUFF at the same time.  I did the same for the two afternoon games.  Btw, those ABC commentaters were great!  I was quite impressed; they seemed to know that their audience wasn't likely to be well-schooled in hockey lore and they did an excellent job.  They were quite impartial also, IMO.    dchhabra@stpl.ists.ca (not suffering from a shortage of hockey here)  \n\n===== rec.sport.hockey =====\nFrom: dchhabra@stpl.ists.ca (Deepak Chhabra) Subject: Re: Goalie masks Nntp-Posting-Host: stpl.ists.ca Organization: Solar Terresterial Physics Laboratory, ISTS Lines: 15  In article <C5sqz3.EG8@acsu.buffalo.edu> hammerl@acsu.buffalo.edu (Valerie S. Hammerl) writes:  >>[...] and I'll give Fuhr's new one an honourable mention, although I haven't >>seen it closely yet (it looked good from a distance!).    >This is the new Buffalo one, the second since he's been with the >Sabres?  I recall a price tag of over $700 just for the paint job on >that mask, and a total price of almost $1500.  Ouch.    Yeah, it's the second one.  And I believe that price too.  I've been trying to get a good look at it on the Bruin-Sabre telecasts, and wow! does it ever look good.  Whoever did that paint job knew what they were doing.  And given Fuhr's play since he got it, I bet the Bruins are wishing he didn't have it:)  --  \n\n===== talk.religion.misc =====\nFrom: arromdee@jyusenkyou.cs.jhu.edu (Ken Arromdee) Subject: Re: Christians above the Law? was Clarification of pe Organization: Johns Hopkins University CS Dept. Lines: 13  In article <C61Kow.E4z@mailer.cc.fsu.edu> dlecoint@garnet.acns.fsu.edu (Darius_Lecointe) writes: >>Jesus was a JEW, not a Christian.  If a Christian means someone who believes in the divinity of Jesus, it is safe to say that Jesus was a Christian. -- \"On the first day after Christmas my truelove served to me...  Leftover Turkey! On the second day after Christmas my truelove served to me...  Turkey Casserole     that she made from Leftover Turkey. [days 3-4 deleted] ...  Flaming Turkey Wings! ...    -- Pizza Hut commercial (and M*tlu/A*gic bait)  Ken Arromdee (arromdee@jyusenkyou.cs.jhu.edu)  \n\n"
     ]
    }
   ],
   "source": [
    "# Exemples d'articles et de labels\n",
    "for i, article in enumerate(news.data[:10]):\n",
    "    print(f'===== {labels[news.target[i]]} =====')\n",
    "    print(article.replace('\\n', ' '), '\\n')"
   ]
  },
  {
   "source": [
    "# Création d'un modèle de machine learning avec Scikit-Learn\n",
    "Pour plus d'information :\n",
    "- Pipeline : https://scikit-learn.org/stable/modules/generated/sklearn.pipeline.Pipeline.html\n",
    "- TfidfVectorizer : https://scikit-learn.org/stable/modules/generated/sklearn.feature_extraction.text.TfidfVectorizer.html\n",
    "- MultinomialNB : https://scikit-learn.org/stable/modules/generated/sklearn.naive_bayes.MultinomialNB.html\n",
    "\n",
    "Un article de blog qui expliquer le TFIDF:\n",
    "- https://medium.com/analytics-vidhya/tf-idf-term-frequency-technique-easiest-explanation-for-text-classification-in-nlp-with-code-8ca3912e58c3\n",
    "\n",
    "Un article de blog qui explique les naive bayes:\n",
    "- https://towardsdatascience.com/naive-bayes-classifier-explained-54593abe6e18"
   ],
   "cell_type": "markdown",
   "metadata": {}
  },
  {
   "cell_type": "code",
   "execution_count": 7,
   "metadata": {},
   "outputs": [],
   "source": [
    "classifier = Pipeline([\n",
    "    ('vectorizer', TfidfVectorizer(stop_words=stopwords.words('english'), min_df=50, max_df=0.5)),\n",
    "    ('classifier', MultinomialNB()),\n",
    "    ])"
   ]
  },
  {
   "source": [
    "# Séparation du dataset en features et target (X, y) et en train et test\n",
    "Plus d'information : https://scikit-learn.org/stable/modules/generated/sklearn.model_selection.train_test_split.html"
   ],
   "cell_type": "markdown",
   "metadata": {}
  },
  {
   "cell_type": "code",
   "execution_count": 8,
   "metadata": {},
   "outputs": [],
   "source": [
    "labelled_target = np.array([labels[t] for t in news.target])"
   ]
  },
  {
   "cell_type": "code",
   "execution_count": 9,
   "metadata": {},
   "outputs": [],
   "source": [
    "texts = [re.sub('[^a-z]+', ' ', t.lower()).strip() for t in news.data]"
   ]
  },
  {
   "cell_type": "code",
   "execution_count": 10,
   "metadata": {},
   "outputs": [],
   "source": [
    "X_train, X_test, y_train, y_test = train_test_split(texts, labelled_target, test_size=0.2, random_state=11)"
   ]
  },
  {
   "source": [
    "# Entraînement du modèle de machine learning sur les données d'entrainement"
   ],
   "cell_type": "markdown",
   "metadata": {}
  },
  {
   "cell_type": "code",
   "execution_count": 11,
   "metadata": {},
   "outputs": [
    {
     "output_type": "execute_result",
     "data": {
      "text/plain": [
       "Pipeline(steps=[('vectorizer',\n",
       "                 TfidfVectorizer(max_df=0.5, min_df=50,\n",
       "                                 stop_words=['i', 'me', 'my', 'myself', 'we',\n",
       "                                             'our', 'ours', 'ourselves', 'you',\n",
       "                                             \"you're\", \"you've\", \"you'll\",\n",
       "                                             \"you'd\", 'your', 'yours',\n",
       "                                             'yourself', 'yourselves', 'he',\n",
       "                                             'him', 'his', 'himself', 'she',\n",
       "                                             \"she's\", 'her', 'hers', 'herself',\n",
       "                                             'it', \"it's\", 'its', 'itself', ...])),\n",
       "                ('classifier', MultinomialNB())])"
      ]
     },
     "metadata": {},
     "execution_count": 11
    }
   ],
   "source": [
    "classifier.fit(X_train, y_train)"
   ]
  },
  {
   "source": [
    "# Qu'est ce qu'il s'est passé ?"
   ],
   "cell_type": "markdown",
   "metadata": {}
  },
  {
   "cell_type": "code",
   "execution_count": 12,
   "metadata": {},
   "outputs": [],
   "source": [
    "# Le TFIDF a calculé l'IDF de chaque mot du corpus\n",
    "feature_names = classifier.named_steps['vectorizer'].get_feature_names()\n",
    "idf_ = classifier.named_steps['vectorizer'].idf_"
   ]
  },
  {
   "cell_type": "code",
   "execution_count": 13,
   "metadata": {},
   "outputs": [
    {
     "output_type": "execute_result",
     "data": {
      "text/plain": [
       "5143"
      ]
     },
     "metadata": {},
     "execution_count": 13
    }
   ],
   "source": [
    "len(feature_names)"
   ]
  },
  {
   "cell_type": "code",
   "execution_count": 14,
   "metadata": {},
   "outputs": [
    {
     "output_type": "stream",
     "name": "stdout",
     "text": [
      "controlled : 5.82\ncontroller : 5.14\ncontrols : 6.0\nconvenient : 6.58\nconventional : 6.37\nconversation : 5.99\nconversations : 6.43\nconversion : 6.02\nconvert : 5.33\nconverted : 6.14\nconverter : 6.3\nconverting : 6.42\nconvex : 6.12\nconviction : 6.65\nconvince : 5.69\nconvinced : 5.78\nconvincing : 6.6\ncook : 6.24\ncookamunga : 6.65\ncool : 5.42\ncooperation : 6.36\ncop : 6.36\ncopies : 5.55\ncops : 5.88\ncopy : 4.39\ncopying : 6.69\ncopyright : 6.06\ncore : 5.71\ncornell : 5.68\ncorner : 5.82\ncorp : 4.59\ncorporate : 6.1\ncorporation : 4.33\ncorrect : 4.26\ncorrected : 6.65\ncorrection : 6.32\ncorrections : 6.65\ncorrectly : 5.39\ncorresponding : 6.48\ncost : 4.25\ncosts : 5.11\ncould : 2.58\n"
     ]
    }
   ],
   "source": [
    "for i in range(1000, 1042):\n",
    "    print(feature_names[i], ':', round(idf_[i], 2))"
   ]
  },
  {
   "cell_type": "code",
   "execution_count": 15,
   "metadata": {},
   "outputs": [
    {
     "output_type": "execute_result",
     "data": {
      "text/plain": [
       "    aa  aaron        ab  abc  abiding  ability  able  abortion  absence  \\\n",
       "0  0.0    0.0  0.000000  0.0      0.0      0.0   0.0       0.0      0.0   \n",
       "1  0.0    0.0  0.000000  0.0      0.0      0.0   0.0       0.0      0.0   \n",
       "2  0.0    0.0  0.000000  0.0      0.0      0.0   0.0       0.0      0.0   \n",
       "3  0.0    0.0  0.000000  0.0      0.0      0.0   0.0       0.0      0.0   \n",
       "4  0.0    0.0  0.000000  0.0      0.0      0.0   0.0       0.0      0.0   \n",
       "5  0.0    0.0  0.000000  0.0      0.0      0.0   0.0       0.0      0.0   \n",
       "6  0.0    0.0  0.000000  0.0      0.0      0.0   0.0       0.0      0.0   \n",
       "7  0.0    0.0  0.000000  0.0      0.0      0.0   0.0       0.0      0.0   \n",
       "8  0.0    0.0  0.174288  0.0      0.0      0.0   0.0       0.0      0.0   \n",
       "9  0.0    0.0  0.000000  0.0      0.0      0.0   0.0       0.0      0.0   \n",
       "\n",
       "   absolute  ...   za  zealand  zero  zeus  zip  zone  zoo  zoology  zuma   zx  \n",
       "0       0.0  ...  0.0      0.0   0.0   0.0  0.0   0.0  0.0      0.0   0.0  0.0  \n",
       "1       0.0  ...  0.0      0.0   0.0   0.0  0.0   0.0  0.0      0.0   0.0  0.0  \n",
       "2       0.0  ...  0.0      0.0   0.0   0.0  0.0   0.0  0.0      0.0   0.0  0.0  \n",
       "3       0.0  ...  0.0      0.0   0.0   0.0  0.0   0.0  0.0      0.0   0.0  0.0  \n",
       "4       0.0  ...  0.0      0.0   0.0   0.0  0.0   0.0  0.0      0.0   0.0  0.0  \n",
       "5       0.0  ...  0.0      0.0   0.0   0.0  0.0   0.0  0.0      0.0   0.0  0.0  \n",
       "6       0.0  ...  0.0      0.0   0.0   0.0  0.0   0.0  0.0      0.0   0.0  0.0  \n",
       "7       0.0  ...  0.0      0.0   0.0   0.0  0.0   0.0  0.0      0.0   0.0  0.0  \n",
       "8       0.0  ...  0.0      0.0   0.0   0.0  0.0   0.0  0.0      0.0   0.0  0.0  \n",
       "9       0.0  ...  0.0      0.0   0.0   0.0  0.0   0.0  0.0      0.0   0.0  0.0  \n",
       "\n",
       "[10 rows x 5143 columns]"
      ],
      "text/html": "<div>\n<style scoped>\n    .dataframe tbody tr th:only-of-type {\n        vertical-align: middle;\n    }\n\n    .dataframe tbody tr th {\n        vertical-align: top;\n    }\n\n    .dataframe thead th {\n        text-align: right;\n    }\n</style>\n<table border=\"1\" class=\"dataframe\">\n  <thead>\n    <tr style=\"text-align: right;\">\n      <th></th>\n      <th>aa</th>\n      <th>aaron</th>\n      <th>ab</th>\n      <th>abc</th>\n      <th>abiding</th>\n      <th>ability</th>\n      <th>able</th>\n      <th>abortion</th>\n      <th>absence</th>\n      <th>absolute</th>\n      <th>...</th>\n      <th>za</th>\n      <th>zealand</th>\n      <th>zero</th>\n      <th>zeus</th>\n      <th>zip</th>\n      <th>zone</th>\n      <th>zoo</th>\n      <th>zoology</th>\n      <th>zuma</th>\n      <th>zx</th>\n    </tr>\n  </thead>\n  <tbody>\n    <tr>\n      <th>0</th>\n      <td>0.0</td>\n      <td>0.0</td>\n      <td>0.000000</td>\n      <td>0.0</td>\n      <td>0.0</td>\n      <td>0.0</td>\n      <td>0.0</td>\n      <td>0.0</td>\n      <td>0.0</td>\n      <td>0.0</td>\n      <td>...</td>\n      <td>0.0</td>\n      <td>0.0</td>\n      <td>0.0</td>\n      <td>0.0</td>\n      <td>0.0</td>\n      <td>0.0</td>\n      <td>0.0</td>\n      <td>0.0</td>\n      <td>0.0</td>\n      <td>0.0</td>\n    </tr>\n    <tr>\n      <th>1</th>\n      <td>0.0</td>\n      <td>0.0</td>\n      <td>0.000000</td>\n      <td>0.0</td>\n      <td>0.0</td>\n      <td>0.0</td>\n      <td>0.0</td>\n      <td>0.0</td>\n      <td>0.0</td>\n      <td>0.0</td>\n      <td>...</td>\n      <td>0.0</td>\n      <td>0.0</td>\n      <td>0.0</td>\n      <td>0.0</td>\n      <td>0.0</td>\n      <td>0.0</td>\n      <td>0.0</td>\n      <td>0.0</td>\n      <td>0.0</td>\n      <td>0.0</td>\n    </tr>\n    <tr>\n      <th>2</th>\n      <td>0.0</td>\n      <td>0.0</td>\n      <td>0.000000</td>\n      <td>0.0</td>\n      <td>0.0</td>\n      <td>0.0</td>\n      <td>0.0</td>\n      <td>0.0</td>\n      <td>0.0</td>\n      <td>0.0</td>\n      <td>...</td>\n      <td>0.0</td>\n      <td>0.0</td>\n      <td>0.0</td>\n      <td>0.0</td>\n      <td>0.0</td>\n      <td>0.0</td>\n      <td>0.0</td>\n      <td>0.0</td>\n      <td>0.0</td>\n      <td>0.0</td>\n    </tr>\n    <tr>\n      <th>3</th>\n      <td>0.0</td>\n      <td>0.0</td>\n      <td>0.000000</td>\n      <td>0.0</td>\n      <td>0.0</td>\n      <td>0.0</td>\n      <td>0.0</td>\n      <td>0.0</td>\n      <td>0.0</td>\n      <td>0.0</td>\n      <td>...</td>\n      <td>0.0</td>\n      <td>0.0</td>\n      <td>0.0</td>\n      <td>0.0</td>\n      <td>0.0</td>\n      <td>0.0</td>\n      <td>0.0</td>\n      <td>0.0</td>\n      <td>0.0</td>\n      <td>0.0</td>\n    </tr>\n    <tr>\n      <th>4</th>\n      <td>0.0</td>\n      <td>0.0</td>\n      <td>0.000000</td>\n      <td>0.0</td>\n      <td>0.0</td>\n      <td>0.0</td>\n      <td>0.0</td>\n      <td>0.0</td>\n      <td>0.0</td>\n      <td>0.0</td>\n      <td>...</td>\n      <td>0.0</td>\n      <td>0.0</td>\n      <td>0.0</td>\n      <td>0.0</td>\n      <td>0.0</td>\n      <td>0.0</td>\n      <td>0.0</td>\n      <td>0.0</td>\n      <td>0.0</td>\n      <td>0.0</td>\n    </tr>\n    <tr>\n      <th>5</th>\n      <td>0.0</td>\n      <td>0.0</td>\n      <td>0.000000</td>\n      <td>0.0</td>\n      <td>0.0</td>\n      <td>0.0</td>\n      <td>0.0</td>\n      <td>0.0</td>\n      <td>0.0</td>\n      <td>0.0</td>\n      <td>...</td>\n      <td>0.0</td>\n      <td>0.0</td>\n      <td>0.0</td>\n      <td>0.0</td>\n      <td>0.0</td>\n      <td>0.0</td>\n      <td>0.0</td>\n      <td>0.0</td>\n      <td>0.0</td>\n      <td>0.0</td>\n    </tr>\n    <tr>\n      <th>6</th>\n      <td>0.0</td>\n      <td>0.0</td>\n      <td>0.000000</td>\n      <td>0.0</td>\n      <td>0.0</td>\n      <td>0.0</td>\n      <td>0.0</td>\n      <td>0.0</td>\n      <td>0.0</td>\n      <td>0.0</td>\n      <td>...</td>\n      <td>0.0</td>\n      <td>0.0</td>\n      <td>0.0</td>\n      <td>0.0</td>\n      <td>0.0</td>\n      <td>0.0</td>\n      <td>0.0</td>\n      <td>0.0</td>\n      <td>0.0</td>\n      <td>0.0</td>\n    </tr>\n    <tr>\n      <th>7</th>\n      <td>0.0</td>\n      <td>0.0</td>\n      <td>0.000000</td>\n      <td>0.0</td>\n      <td>0.0</td>\n      <td>0.0</td>\n      <td>0.0</td>\n      <td>0.0</td>\n      <td>0.0</td>\n      <td>0.0</td>\n      <td>...</td>\n      <td>0.0</td>\n      <td>0.0</td>\n      <td>0.0</td>\n      <td>0.0</td>\n      <td>0.0</td>\n      <td>0.0</td>\n      <td>0.0</td>\n      <td>0.0</td>\n      <td>0.0</td>\n      <td>0.0</td>\n    </tr>\n    <tr>\n      <th>8</th>\n      <td>0.0</td>\n      <td>0.0</td>\n      <td>0.174288</td>\n      <td>0.0</td>\n      <td>0.0</td>\n      <td>0.0</td>\n      <td>0.0</td>\n      <td>0.0</td>\n      <td>0.0</td>\n      <td>0.0</td>\n      <td>...</td>\n      <td>0.0</td>\n      <td>0.0</td>\n      <td>0.0</td>\n      <td>0.0</td>\n      <td>0.0</td>\n      <td>0.0</td>\n      <td>0.0</td>\n      <td>0.0</td>\n      <td>0.0</td>\n      <td>0.0</td>\n    </tr>\n    <tr>\n      <th>9</th>\n      <td>0.0</td>\n      <td>0.0</td>\n      <td>0.000000</td>\n      <td>0.0</td>\n      <td>0.0</td>\n      <td>0.0</td>\n      <td>0.0</td>\n      <td>0.0</td>\n      <td>0.0</td>\n      <td>0.0</td>\n      <td>...</td>\n      <td>0.0</td>\n      <td>0.0</td>\n      <td>0.0</td>\n      <td>0.0</td>\n      <td>0.0</td>\n      <td>0.0</td>\n      <td>0.0</td>\n      <td>0.0</td>\n      <td>0.0</td>\n      <td>0.0</td>\n    </tr>\n  </tbody>\n</table>\n<p>10 rows × 5143 columns</p>\n</div>"
     },
     "metadata": {},
     "execution_count": 15
    }
   ],
   "source": [
    "# Et ensuite il transforme chaque document en vecteur de la taille du vocabulaire et donc le score est le TFIDF\n",
    "tmp = classifier.named_steps['vectorizer'].transform(X_train[:10])\n",
    "pd.DataFrame(tmp.toarray(), columns=classifier.named_steps['vectorizer'].get_feature_names())"
   ]
  },
  {
   "cell_type": "code",
   "execution_count": 16,
   "metadata": {},
   "outputs": [
    {
     "output_type": "execute_result",
     "data": {
      "text/plain": [
       "         alt.atheism  comp.graphics  comp.os.ms-windows.misc  \\\n",
       "aa         -9.031391      -8.958973                -8.527638   \n",
       "aaron      -8.378431      -8.849708                -9.033866   \n",
       "ab         -9.185357      -7.972288                -8.562905   \n",
       "abc        -9.131438      -8.753549                -9.194310   \n",
       "abiding    -9.185357      -9.199717                -9.194310   \n",
       "...              ...            ...                      ...   \n",
       "zone       -9.185357      -9.199717                -9.109107   \n",
       "zoo        -9.103881      -9.177028                -9.190190   \n",
       "zoology    -9.185357      -9.199717                -9.194310   \n",
       "zuma       -9.185357      -9.199717                -9.194310   \n",
       "zx         -9.185357      -9.199717                -9.042633   \n",
       "\n",
       "         comp.sys.ibm.pc.hardware  comp.sys.mac.hardware  comp.windows.x  \\\n",
       "aa                      -8.319295              -8.925907       -8.017776   \n",
       "aaron                   -9.196784              -8.492120       -9.190999   \n",
       "ab                      -7.673833              -8.754312       -8.487363   \n",
       "abc                     -9.196784              -9.181220       -9.174574   \n",
       "abiding                 -9.196784              -9.181220       -9.190999   \n",
       "...                           ...                    ...             ...   \n",
       "zone                    -9.094641              -8.439665       -9.182853   \n",
       "zoo                     -9.196784              -9.181220       -9.190999   \n",
       "zoology                 -9.196784              -9.181220       -9.190999   \n",
       "zuma                    -9.196784              -9.181220       -9.050666   \n",
       "zx                      -9.196784              -9.181220       -9.088385   \n",
       "\n",
       "         misc.forsale  rec.autos  rec.motorcycles  rec.sport.baseball  \\\n",
       "aa          -8.338903  -8.847072        -8.689504           -8.534174   \n",
       "aaron       -8.790613  -8.659238        -9.049479           -8.145555   \n",
       "ab          -8.810958  -8.286023        -8.911522           -7.594498   \n",
       "abc         -9.074543  -9.254986        -9.259142           -9.231355   \n",
       "abiding     -9.169064  -8.548527        -9.259142           -9.231355   \n",
       "...               ...        ...              ...                 ...   \n",
       "zone        -8.543065  -9.029871        -8.807916           -7.822042   \n",
       "zoo         -9.169064  -9.254986        -9.151984           -8.938677   \n",
       "zoology     -9.169064  -9.254986        -9.259142           -9.043692   \n",
       "zuma        -9.169064  -9.254986        -9.259142           -9.231355   \n",
       "zx          -9.169064  -7.956141        -7.173558           -9.231355   \n",
       "\n",
       "         rec.sport.hockey  sci.crypt  sci.electronics   sci.med  sci.space  \\\n",
       "aa              -9.071793  -8.714859        -8.470774 -8.614734  -8.706762   \n",
       "aaron           -9.208785  -9.318824        -8.040582 -9.211536  -9.050755   \n",
       "ab              -7.920195  -8.808036        -8.300560 -8.414757  -8.787571   \n",
       "abc             -7.017145  -9.291640        -9.122571 -9.271538  -8.933545   \n",
       "abiding         -9.267207  -8.420616        -9.217825 -9.271538  -9.267220   \n",
       "...                   ...        ...              ...       ...        ...   \n",
       "zone            -8.089170  -8.842459        -8.611304 -9.136541  -8.917161   \n",
       "zoo             -9.205760  -9.318824        -8.059584 -9.171290  -6.475637   \n",
       "zoology         -9.267207  -9.318824        -8.246820 -9.271538  -6.822597   \n",
       "zuma            -9.267207  -9.318824        -9.217825 -9.271538  -9.267220   \n",
       "zx              -9.267207  -9.318824        -9.217825 -9.271538  -9.267220   \n",
       "\n",
       "         soc.religion.christian  talk.politics.guns  talk.politics.mideast  \\\n",
       "aa                    -8.461593           -8.998162              -7.815180   \n",
       "aaron                 -7.785653           -7.866473              -9.143891   \n",
       "ab                    -9.092512           -7.801775              -7.346560   \n",
       "abc                   -9.314238           -8.652985              -9.206410   \n",
       "abiding               -9.241010           -8.115616              -9.281593   \n",
       "...                         ...                 ...                    ...   \n",
       "zone                  -9.314238           -9.199511              -8.261390   \n",
       "zoo                   -9.314238           -9.281239              -9.241611   \n",
       "zoology               -9.314238           -9.281239              -9.306873   \n",
       "zuma                  -9.314238           -9.281239              -6.860618   \n",
       "zx                    -9.314238           -9.224452              -9.306873   \n",
       "\n",
       "         talk.politics.misc  talk.religion.misc  \n",
       "aa                -8.107581           -8.958584  \n",
       "aaron             -8.971644           -9.090971  \n",
       "ab                -8.718668           -8.978612  \n",
       "abc               -9.068503           -9.090971  \n",
       "abiding           -9.067636           -8.987767  \n",
       "...                     ...                 ...  \n",
       "zone              -9.171456           -8.929195  \n",
       "zoo               -9.192008           -9.090971  \n",
       "zoology           -9.192008           -9.090971  \n",
       "zuma              -9.192008           -9.090971  \n",
       "zx                -9.192008           -9.090971  \n",
       "\n",
       "[5143 rows x 20 columns]"
      ],
      "text/html": "<div>\n<style scoped>\n    .dataframe tbody tr th:only-of-type {\n        vertical-align: middle;\n    }\n\n    .dataframe tbody tr th {\n        vertical-align: top;\n    }\n\n    .dataframe thead th {\n        text-align: right;\n    }\n</style>\n<table border=\"1\" class=\"dataframe\">\n  <thead>\n    <tr style=\"text-align: right;\">\n      <th></th>\n      <th>alt.atheism</th>\n      <th>comp.graphics</th>\n      <th>comp.os.ms-windows.misc</th>\n      <th>comp.sys.ibm.pc.hardware</th>\n      <th>comp.sys.mac.hardware</th>\n      <th>comp.windows.x</th>\n      <th>misc.forsale</th>\n      <th>rec.autos</th>\n      <th>rec.motorcycles</th>\n      <th>rec.sport.baseball</th>\n      <th>rec.sport.hockey</th>\n      <th>sci.crypt</th>\n      <th>sci.electronics</th>\n      <th>sci.med</th>\n      <th>sci.space</th>\n      <th>soc.religion.christian</th>\n      <th>talk.politics.guns</th>\n      <th>talk.politics.mideast</th>\n      <th>talk.politics.misc</th>\n      <th>talk.religion.misc</th>\n    </tr>\n  </thead>\n  <tbody>\n    <tr>\n      <th>aa</th>\n      <td>-9.031391</td>\n      <td>-8.958973</td>\n      <td>-8.527638</td>\n      <td>-8.319295</td>\n      <td>-8.925907</td>\n      <td>-8.017776</td>\n      <td>-8.338903</td>\n      <td>-8.847072</td>\n      <td>-8.689504</td>\n      <td>-8.534174</td>\n      <td>-9.071793</td>\n      <td>-8.714859</td>\n      <td>-8.470774</td>\n      <td>-8.614734</td>\n      <td>-8.706762</td>\n      <td>-8.461593</td>\n      <td>-8.998162</td>\n      <td>-7.815180</td>\n      <td>-8.107581</td>\n      <td>-8.958584</td>\n    </tr>\n    <tr>\n      <th>aaron</th>\n      <td>-8.378431</td>\n      <td>-8.849708</td>\n      <td>-9.033866</td>\n      <td>-9.196784</td>\n      <td>-8.492120</td>\n      <td>-9.190999</td>\n      <td>-8.790613</td>\n      <td>-8.659238</td>\n      <td>-9.049479</td>\n      <td>-8.145555</td>\n      <td>-9.208785</td>\n      <td>-9.318824</td>\n      <td>-8.040582</td>\n      <td>-9.211536</td>\n      <td>-9.050755</td>\n      <td>-7.785653</td>\n      <td>-7.866473</td>\n      <td>-9.143891</td>\n      <td>-8.971644</td>\n      <td>-9.090971</td>\n    </tr>\n    <tr>\n      <th>ab</th>\n      <td>-9.185357</td>\n      <td>-7.972288</td>\n      <td>-8.562905</td>\n      <td>-7.673833</td>\n      <td>-8.754312</td>\n      <td>-8.487363</td>\n      <td>-8.810958</td>\n      <td>-8.286023</td>\n      <td>-8.911522</td>\n      <td>-7.594498</td>\n      <td>-7.920195</td>\n      <td>-8.808036</td>\n      <td>-8.300560</td>\n      <td>-8.414757</td>\n      <td>-8.787571</td>\n      <td>-9.092512</td>\n      <td>-7.801775</td>\n      <td>-7.346560</td>\n      <td>-8.718668</td>\n      <td>-8.978612</td>\n    </tr>\n    <tr>\n      <th>abc</th>\n      <td>-9.131438</td>\n      <td>-8.753549</td>\n      <td>-9.194310</td>\n      <td>-9.196784</td>\n      <td>-9.181220</td>\n      <td>-9.174574</td>\n      <td>-9.074543</td>\n      <td>-9.254986</td>\n      <td>-9.259142</td>\n      <td>-9.231355</td>\n      <td>-7.017145</td>\n      <td>-9.291640</td>\n      <td>-9.122571</td>\n      <td>-9.271538</td>\n      <td>-8.933545</td>\n      <td>-9.314238</td>\n      <td>-8.652985</td>\n      <td>-9.206410</td>\n      <td>-9.068503</td>\n      <td>-9.090971</td>\n    </tr>\n    <tr>\n      <th>abiding</th>\n      <td>-9.185357</td>\n      <td>-9.199717</td>\n      <td>-9.194310</td>\n      <td>-9.196784</td>\n      <td>-9.181220</td>\n      <td>-9.190999</td>\n      <td>-9.169064</td>\n      <td>-8.548527</td>\n      <td>-9.259142</td>\n      <td>-9.231355</td>\n      <td>-9.267207</td>\n      <td>-8.420616</td>\n      <td>-9.217825</td>\n      <td>-9.271538</td>\n      <td>-9.267220</td>\n      <td>-9.241010</td>\n      <td>-8.115616</td>\n      <td>-9.281593</td>\n      <td>-9.067636</td>\n      <td>-8.987767</td>\n    </tr>\n    <tr>\n      <th>...</th>\n      <td>...</td>\n      <td>...</td>\n      <td>...</td>\n      <td>...</td>\n      <td>...</td>\n      <td>...</td>\n      <td>...</td>\n      <td>...</td>\n      <td>...</td>\n      <td>...</td>\n      <td>...</td>\n      <td>...</td>\n      <td>...</td>\n      <td>...</td>\n      <td>...</td>\n      <td>...</td>\n      <td>...</td>\n      <td>...</td>\n      <td>...</td>\n      <td>...</td>\n    </tr>\n    <tr>\n      <th>zone</th>\n      <td>-9.185357</td>\n      <td>-9.199717</td>\n      <td>-9.109107</td>\n      <td>-9.094641</td>\n      <td>-8.439665</td>\n      <td>-9.182853</td>\n      <td>-8.543065</td>\n      <td>-9.029871</td>\n      <td>-8.807916</td>\n      <td>-7.822042</td>\n      <td>-8.089170</td>\n      <td>-8.842459</td>\n      <td>-8.611304</td>\n      <td>-9.136541</td>\n      <td>-8.917161</td>\n      <td>-9.314238</td>\n      <td>-9.199511</td>\n      <td>-8.261390</td>\n      <td>-9.171456</td>\n      <td>-8.929195</td>\n    </tr>\n    <tr>\n      <th>zoo</th>\n      <td>-9.103881</td>\n      <td>-9.177028</td>\n      <td>-9.190190</td>\n      <td>-9.196784</td>\n      <td>-9.181220</td>\n      <td>-9.190999</td>\n      <td>-9.169064</td>\n      <td>-9.254986</td>\n      <td>-9.151984</td>\n      <td>-8.938677</td>\n      <td>-9.205760</td>\n      <td>-9.318824</td>\n      <td>-8.059584</td>\n      <td>-9.171290</td>\n      <td>-6.475637</td>\n      <td>-9.314238</td>\n      <td>-9.281239</td>\n      <td>-9.241611</td>\n      <td>-9.192008</td>\n      <td>-9.090971</td>\n    </tr>\n    <tr>\n      <th>zoology</th>\n      <td>-9.185357</td>\n      <td>-9.199717</td>\n      <td>-9.194310</td>\n      <td>-9.196784</td>\n      <td>-9.181220</td>\n      <td>-9.190999</td>\n      <td>-9.169064</td>\n      <td>-9.254986</td>\n      <td>-9.259142</td>\n      <td>-9.043692</td>\n      <td>-9.267207</td>\n      <td>-9.318824</td>\n      <td>-8.246820</td>\n      <td>-9.271538</td>\n      <td>-6.822597</td>\n      <td>-9.314238</td>\n      <td>-9.281239</td>\n      <td>-9.306873</td>\n      <td>-9.192008</td>\n      <td>-9.090971</td>\n    </tr>\n    <tr>\n      <th>zuma</th>\n      <td>-9.185357</td>\n      <td>-9.199717</td>\n      <td>-9.194310</td>\n      <td>-9.196784</td>\n      <td>-9.181220</td>\n      <td>-9.050666</td>\n      <td>-9.169064</td>\n      <td>-9.254986</td>\n      <td>-9.259142</td>\n      <td>-9.231355</td>\n      <td>-9.267207</td>\n      <td>-9.318824</td>\n      <td>-9.217825</td>\n      <td>-9.271538</td>\n      <td>-9.267220</td>\n      <td>-9.314238</td>\n      <td>-9.281239</td>\n      <td>-6.860618</td>\n      <td>-9.192008</td>\n      <td>-9.090971</td>\n    </tr>\n    <tr>\n      <th>zx</th>\n      <td>-9.185357</td>\n      <td>-9.199717</td>\n      <td>-9.042633</td>\n      <td>-9.196784</td>\n      <td>-9.181220</td>\n      <td>-9.088385</td>\n      <td>-9.169064</td>\n      <td>-7.956141</td>\n      <td>-7.173558</td>\n      <td>-9.231355</td>\n      <td>-9.267207</td>\n      <td>-9.318824</td>\n      <td>-9.217825</td>\n      <td>-9.271538</td>\n      <td>-9.267220</td>\n      <td>-9.314238</td>\n      <td>-9.224452</td>\n      <td>-9.306873</td>\n      <td>-9.192008</td>\n      <td>-9.090971</td>\n    </tr>\n  </tbody>\n</table>\n<p>5143 rows × 20 columns</p>\n</div>"
     },
     "metadata": {},
     "execution_count": 16
    }
   ],
   "source": [
    "# Et le naïf bayésien apprends la corrélation entre chaque mot et chaque catégorie\n",
    "pd.DataFrame(classifier.named_steps['classifier'].coef_, index=labels, columns=feature_names).T"
   ]
  },
  {
   "cell_type": "code",
   "execution_count": 17,
   "metadata": {},
   "outputs": [
    {
     "output_type": "execute_result",
     "data": {
      "text/plain": [
       "          alt.atheism  comp.graphics  comp.os.ms-windows.misc  \\\n",
       "god         -5.629670      -8.704846                -9.094973   \n",
       "keith       -5.882089      -8.737892                -8.586443   \n",
       "atheists    -5.974069      -9.199717                -9.194310   \n",
       "com         -6.065623      -6.260776                -6.058572   \n",
       "atheism     -6.123527      -9.199717                -9.112648   \n",
       "livesey     -6.138685      -9.199717                -9.194310   \n",
       "sgi         -6.190705      -7.405840                -9.194310   \n",
       "one         -6.272603      -6.782947                -6.663092   \n",
       "people      -6.288699      -7.837525                -7.487701   \n",
       "caltech     -6.319581      -8.362273                -8.822622   \n",
       "morality    -6.342997      -9.199717                -9.194310   \n",
       "mathew      -6.398984      -9.199717                -9.194310   \n",
       "article     -6.411684      -6.845305                -6.753497   \n",
       "would       -6.419554      -6.371234                -6.760422   \n",
       "religion    -6.419615      -9.088060                -9.194310   \n",
       "moral       -6.424370      -9.199717                -9.118194   \n",
       "say         -6.442368      -7.695860                -7.670932   \n",
       "solntze     -6.451042      -9.199717                -9.194310   \n",
       "uk          -6.466796      -6.359464                -7.041063   \n",
       "wpd         -6.474177      -9.199717                -9.194310   \n",
       "\n",
       "          comp.sys.ibm.pc.hardware  comp.sys.mac.hardware  comp.windows.x  \\\n",
       "god                      -8.990857              -8.870367       -8.861816   \n",
       "keith                    -8.496092              -8.726020       -8.508928   \n",
       "atheists                 -9.196784              -9.181220       -9.190999   \n",
       "com                      -5.796103              -6.465125       -5.805995   \n",
       "atheism                  -9.196784              -9.181220       -9.190999   \n",
       "livesey                  -9.196784              -9.181220       -9.190999   \n",
       "sgi                      -7.904905              -9.081756       -7.753614   \n",
       "one                      -6.514378              -6.571317       -6.968653   \n",
       "people                   -7.799657              -7.617131       -7.845820   \n",
       "caltech                  -9.115643              -8.677234       -8.796101   \n",
       "morality                 -9.196784              -9.181220       -9.190999   \n",
       "mathew                   -9.196784              -9.065748       -9.190999   \n",
       "article                  -6.939104              -6.725483       -7.068241   \n",
       "would                    -6.546798              -6.444485       -6.693353   \n",
       "religion                 -9.196784              -9.181220       -9.140409   \n",
       "moral                    -9.125420              -8.885712       -9.190999   \n",
       "say                      -7.934952              -7.881540       -7.931967   \n",
       "solntze                  -9.196784              -9.181220       -9.190999   \n",
       "uk                       -6.976672              -7.657566       -6.415955   \n",
       "wpd                      -8.516890              -9.181220       -9.183111   \n",
       "\n",
       "          misc.forsale  rec.autos  rec.motorcycles  rec.sport.baseball  \\\n",
       "god          -8.675248  -8.789653        -8.195833           -8.492925   \n",
       "keith        -8.391996  -8.373301        -8.233647           -7.985871   \n",
       "atheists     -9.169064  -9.254986        -9.259142           -9.231355   \n",
       "com          -6.168205  -5.540777        -5.341518           -5.984094   \n",
       "atheism      -9.169064  -9.254986        -9.259142           -9.231355   \n",
       "livesey      -9.169064  -9.254986        -9.259142           -9.231355   \n",
       "sgi          -9.169064  -8.981544        -8.585501           -7.376878   \n",
       "one          -6.674728  -6.501169        -6.512108           -6.493790   \n",
       "people       -7.981606  -7.068052        -7.314963           -7.243437   \n",
       "caltech      -8.868876  -8.041291        -8.867189           -8.081971   \n",
       "morality     -9.169064  -9.254986        -9.259142           -9.231355   \n",
       "mathew       -9.169064  -9.254986        -9.259142           -9.231355   \n",
       "article      -7.383522  -6.250285        -6.092835           -6.202670   \n",
       "would        -7.225314  -6.331067        -6.682225           -6.531455   \n",
       "religion     -9.084456  -9.127880        -9.159612           -8.910440   \n",
       "moral        -9.100448  -9.022211        -9.013286           -9.231355   \n",
       "say          -8.613072  -7.511047        -7.456869           -7.038233   \n",
       "solntze      -9.169064  -9.254986        -9.259142           -9.231355   \n",
       "uk           -8.152907  -7.589034        -6.322590           -9.115050   \n",
       "wpd          -9.169064  -9.254986        -9.170681           -8.616290   \n",
       "\n",
       "          rec.sport.hockey  sci.crypt  sci.electronics   sci.med  sci.space  \\\n",
       "god              -8.493487  -8.917387        -8.838696 -8.019039  -8.664412   \n",
       "keith            -7.560855  -9.284671        -8.858562 -8.420851  -8.253777   \n",
       "atheists         -9.267207  -9.318824        -9.217825 -9.098573  -9.267220   \n",
       "com              -6.718282  -5.497733        -6.075079 -5.838291  -6.219172   \n",
       "atheism          -9.267207  -9.318824        -9.217825 -9.169744  -9.267220   \n",
       "livesey          -9.267207  -9.318824        -9.217825 -9.271538  -9.267220   \n",
       "sgi              -8.136693  -8.759633        -9.128947 -9.252298  -9.196350   \n",
       "one              -6.641515  -6.438578        -6.292106 -6.305665  -6.579500   \n",
       "people           -7.294049  -6.494672        -7.421955 -6.678731  -7.070425   \n",
       "caltech          -9.267207  -8.234812        -7.784758 -7.775708  -7.357496   \n",
       "morality         -9.267207  -9.229730        -9.217825 -9.271538  -9.159907   \n",
       "mathew           -8.909270  -8.412479        -9.217825 -9.271538  -9.267220   \n",
       "article          -6.592030  -6.564603        -6.558912 -6.319176  -6.434409   \n",
       "would            -6.487794  -6.229938        -6.216270 -6.386011  -6.126099   \n",
       "religion         -9.138792  -9.082767        -9.095952 -9.271538  -9.258080   \n",
       "moral            -9.267207  -9.105703        -9.106979 -9.111063  -8.868021   \n",
       "say              -7.444507  -7.175108        -7.695877 -7.538653  -7.613496   \n",
       "solntze          -9.267207  -9.318824        -9.217825 -9.271538  -9.267220   \n",
       "uk               -8.785105  -6.786107        -6.807448 -7.558964  -7.295087   \n",
       "wpd              -9.267207  -9.005411        -9.217825 -9.271538  -9.267220   \n",
       "\n",
       "          soc.religion.christian  talk.politics.guns  talk.politics.mideast  \\\n",
       "god                    -5.000980           -8.093168              -8.170317   \n",
       "keith                  -9.314238           -8.389307              -9.306873   \n",
       "atheists               -7.181910           -9.281239              -9.255643   \n",
       "com                    -6.394847           -5.632970              -6.549447   \n",
       "atheism                -7.915793           -9.281239              -9.192493   \n",
       "livesey                -9.314238           -9.281239              -9.306873   \n",
       "sgi                    -8.883473           -9.281239              -9.248137   \n",
       "one                    -6.052786           -6.561392              -6.549465   \n",
       "people                 -6.156016           -6.057548              -6.152312   \n",
       "caltech                -9.074977           -7.685751              -9.306873   \n",
       "morality               -8.492046           -9.281239              -8.589192   \n",
       "mathew                 -9.158420           -9.281239              -9.306873   \n",
       "article                -6.789204           -6.391639              -6.472078   \n",
       "would                  -6.123574           -6.139063              -6.543549   \n",
       "religion               -6.833191           -7.993735              -7.292275   \n",
       "moral                  -7.942002           -8.766976              -8.057341   \n",
       "say                    -6.551571           -7.101321              -6.904244   \n",
       "solntze                -9.314238           -9.281239              -9.306873   \n",
       "uk                     -7.413520           -7.777516              -9.024228   \n",
       "wpd                    -9.314238           -9.281239              -9.306873   \n",
       "\n",
       "          talk.politics.misc  talk.religion.misc  \n",
       "god                -8.130354           -5.735703  \n",
       "keith              -8.948380           -7.917330  \n",
       "atheists           -9.192008           -8.598078  \n",
       "com                -5.768002           -5.942730  \n",
       "atheism            -9.108366           -8.433292  \n",
       "livesey            -9.192008           -7.895678  \n",
       "sgi                -8.691874           -7.764285  \n",
       "one                -6.629893           -6.517546  \n",
       "people             -6.029704           -6.433209  \n",
       "caltech            -8.386358           -8.244432  \n",
       "morality           -8.569046           -6.542019  \n",
       "mathew             -9.192008           -7.461987  \n",
       "article            -6.203086           -6.504430  \n",
       "would              -6.325598           -6.567899  \n",
       "religion           -8.208645           -6.755119  \n",
       "moral              -7.924857           -7.084709  \n",
       "say                -7.196957           -6.611104  \n",
       "solntze            -9.192008           -8.099419  \n",
       "uk                 -7.435466           -7.647257  \n",
       "wpd                -9.192008           -8.114923  "
      ],
      "text/html": "<div>\n<style scoped>\n    .dataframe tbody tr th:only-of-type {\n        vertical-align: middle;\n    }\n\n    .dataframe tbody tr th {\n        vertical-align: top;\n    }\n\n    .dataframe thead th {\n        text-align: right;\n    }\n</style>\n<table border=\"1\" class=\"dataframe\">\n  <thead>\n    <tr style=\"text-align: right;\">\n      <th></th>\n      <th>alt.atheism</th>\n      <th>comp.graphics</th>\n      <th>comp.os.ms-windows.misc</th>\n      <th>comp.sys.ibm.pc.hardware</th>\n      <th>comp.sys.mac.hardware</th>\n      <th>comp.windows.x</th>\n      <th>misc.forsale</th>\n      <th>rec.autos</th>\n      <th>rec.motorcycles</th>\n      <th>rec.sport.baseball</th>\n      <th>rec.sport.hockey</th>\n      <th>sci.crypt</th>\n      <th>sci.electronics</th>\n      <th>sci.med</th>\n      <th>sci.space</th>\n      <th>soc.religion.christian</th>\n      <th>talk.politics.guns</th>\n      <th>talk.politics.mideast</th>\n      <th>talk.politics.misc</th>\n      <th>talk.religion.misc</th>\n    </tr>\n  </thead>\n  <tbody>\n    <tr>\n      <th>god</th>\n      <td>-5.629670</td>\n      <td>-8.704846</td>\n      <td>-9.094973</td>\n      <td>-8.990857</td>\n      <td>-8.870367</td>\n      <td>-8.861816</td>\n      <td>-8.675248</td>\n      <td>-8.789653</td>\n      <td>-8.195833</td>\n      <td>-8.492925</td>\n      <td>-8.493487</td>\n      <td>-8.917387</td>\n      <td>-8.838696</td>\n      <td>-8.019039</td>\n      <td>-8.664412</td>\n      <td>-5.000980</td>\n      <td>-8.093168</td>\n      <td>-8.170317</td>\n      <td>-8.130354</td>\n      <td>-5.735703</td>\n    </tr>\n    <tr>\n      <th>keith</th>\n      <td>-5.882089</td>\n      <td>-8.737892</td>\n      <td>-8.586443</td>\n      <td>-8.496092</td>\n      <td>-8.726020</td>\n      <td>-8.508928</td>\n      <td>-8.391996</td>\n      <td>-8.373301</td>\n      <td>-8.233647</td>\n      <td>-7.985871</td>\n      <td>-7.560855</td>\n      <td>-9.284671</td>\n      <td>-8.858562</td>\n      <td>-8.420851</td>\n      <td>-8.253777</td>\n      <td>-9.314238</td>\n      <td>-8.389307</td>\n      <td>-9.306873</td>\n      <td>-8.948380</td>\n      <td>-7.917330</td>\n    </tr>\n    <tr>\n      <th>atheists</th>\n      <td>-5.974069</td>\n      <td>-9.199717</td>\n      <td>-9.194310</td>\n      <td>-9.196784</td>\n      <td>-9.181220</td>\n      <td>-9.190999</td>\n      <td>-9.169064</td>\n      <td>-9.254986</td>\n      <td>-9.259142</td>\n      <td>-9.231355</td>\n      <td>-9.267207</td>\n      <td>-9.318824</td>\n      <td>-9.217825</td>\n      <td>-9.098573</td>\n      <td>-9.267220</td>\n      <td>-7.181910</td>\n      <td>-9.281239</td>\n      <td>-9.255643</td>\n      <td>-9.192008</td>\n      <td>-8.598078</td>\n    </tr>\n    <tr>\n      <th>com</th>\n      <td>-6.065623</td>\n      <td>-6.260776</td>\n      <td>-6.058572</td>\n      <td>-5.796103</td>\n      <td>-6.465125</td>\n      <td>-5.805995</td>\n      <td>-6.168205</td>\n      <td>-5.540777</td>\n      <td>-5.341518</td>\n      <td>-5.984094</td>\n      <td>-6.718282</td>\n      <td>-5.497733</td>\n      <td>-6.075079</td>\n      <td>-5.838291</td>\n      <td>-6.219172</td>\n      <td>-6.394847</td>\n      <td>-5.632970</td>\n      <td>-6.549447</td>\n      <td>-5.768002</td>\n      <td>-5.942730</td>\n    </tr>\n    <tr>\n      <th>atheism</th>\n      <td>-6.123527</td>\n      <td>-9.199717</td>\n      <td>-9.112648</td>\n      <td>-9.196784</td>\n      <td>-9.181220</td>\n      <td>-9.190999</td>\n      <td>-9.169064</td>\n      <td>-9.254986</td>\n      <td>-9.259142</td>\n      <td>-9.231355</td>\n      <td>-9.267207</td>\n      <td>-9.318824</td>\n      <td>-9.217825</td>\n      <td>-9.169744</td>\n      <td>-9.267220</td>\n      <td>-7.915793</td>\n      <td>-9.281239</td>\n      <td>-9.192493</td>\n      <td>-9.108366</td>\n      <td>-8.433292</td>\n    </tr>\n    <tr>\n      <th>livesey</th>\n      <td>-6.138685</td>\n      <td>-9.199717</td>\n      <td>-9.194310</td>\n      <td>-9.196784</td>\n      <td>-9.181220</td>\n      <td>-9.190999</td>\n      <td>-9.169064</td>\n      <td>-9.254986</td>\n      <td>-9.259142</td>\n      <td>-9.231355</td>\n      <td>-9.267207</td>\n      <td>-9.318824</td>\n      <td>-9.217825</td>\n      <td>-9.271538</td>\n      <td>-9.267220</td>\n      <td>-9.314238</td>\n      <td>-9.281239</td>\n      <td>-9.306873</td>\n      <td>-9.192008</td>\n      <td>-7.895678</td>\n    </tr>\n    <tr>\n      <th>sgi</th>\n      <td>-6.190705</td>\n      <td>-7.405840</td>\n      <td>-9.194310</td>\n      <td>-7.904905</td>\n      <td>-9.081756</td>\n      <td>-7.753614</td>\n      <td>-9.169064</td>\n      <td>-8.981544</td>\n      <td>-8.585501</td>\n      <td>-7.376878</td>\n      <td>-8.136693</td>\n      <td>-8.759633</td>\n      <td>-9.128947</td>\n      <td>-9.252298</td>\n      <td>-9.196350</td>\n      <td>-8.883473</td>\n      <td>-9.281239</td>\n      <td>-9.248137</td>\n      <td>-8.691874</td>\n      <td>-7.764285</td>\n    </tr>\n    <tr>\n      <th>one</th>\n      <td>-6.272603</td>\n      <td>-6.782947</td>\n      <td>-6.663092</td>\n      <td>-6.514378</td>\n      <td>-6.571317</td>\n      <td>-6.968653</td>\n      <td>-6.674728</td>\n      <td>-6.501169</td>\n      <td>-6.512108</td>\n      <td>-6.493790</td>\n      <td>-6.641515</td>\n      <td>-6.438578</td>\n      <td>-6.292106</td>\n      <td>-6.305665</td>\n      <td>-6.579500</td>\n      <td>-6.052786</td>\n      <td>-6.561392</td>\n      <td>-6.549465</td>\n      <td>-6.629893</td>\n      <td>-6.517546</td>\n    </tr>\n    <tr>\n      <th>people</th>\n      <td>-6.288699</td>\n      <td>-7.837525</td>\n      <td>-7.487701</td>\n      <td>-7.799657</td>\n      <td>-7.617131</td>\n      <td>-7.845820</td>\n      <td>-7.981606</td>\n      <td>-7.068052</td>\n      <td>-7.314963</td>\n      <td>-7.243437</td>\n      <td>-7.294049</td>\n      <td>-6.494672</td>\n      <td>-7.421955</td>\n      <td>-6.678731</td>\n      <td>-7.070425</td>\n      <td>-6.156016</td>\n      <td>-6.057548</td>\n      <td>-6.152312</td>\n      <td>-6.029704</td>\n      <td>-6.433209</td>\n    </tr>\n    <tr>\n      <th>caltech</th>\n      <td>-6.319581</td>\n      <td>-8.362273</td>\n      <td>-8.822622</td>\n      <td>-9.115643</td>\n      <td>-8.677234</td>\n      <td>-8.796101</td>\n      <td>-8.868876</td>\n      <td>-8.041291</td>\n      <td>-8.867189</td>\n      <td>-8.081971</td>\n      <td>-9.267207</td>\n      <td>-8.234812</td>\n      <td>-7.784758</td>\n      <td>-7.775708</td>\n      <td>-7.357496</td>\n      <td>-9.074977</td>\n      <td>-7.685751</td>\n      <td>-9.306873</td>\n      <td>-8.386358</td>\n      <td>-8.244432</td>\n    </tr>\n    <tr>\n      <th>morality</th>\n      <td>-6.342997</td>\n      <td>-9.199717</td>\n      <td>-9.194310</td>\n      <td>-9.196784</td>\n      <td>-9.181220</td>\n      <td>-9.190999</td>\n      <td>-9.169064</td>\n      <td>-9.254986</td>\n      <td>-9.259142</td>\n      <td>-9.231355</td>\n      <td>-9.267207</td>\n      <td>-9.229730</td>\n      <td>-9.217825</td>\n      <td>-9.271538</td>\n      <td>-9.159907</td>\n      <td>-8.492046</td>\n      <td>-9.281239</td>\n      <td>-8.589192</td>\n      <td>-8.569046</td>\n      <td>-6.542019</td>\n    </tr>\n    <tr>\n      <th>mathew</th>\n      <td>-6.398984</td>\n      <td>-9.199717</td>\n      <td>-9.194310</td>\n      <td>-9.196784</td>\n      <td>-9.065748</td>\n      <td>-9.190999</td>\n      <td>-9.169064</td>\n      <td>-9.254986</td>\n      <td>-9.259142</td>\n      <td>-9.231355</td>\n      <td>-8.909270</td>\n      <td>-8.412479</td>\n      <td>-9.217825</td>\n      <td>-9.271538</td>\n      <td>-9.267220</td>\n      <td>-9.158420</td>\n      <td>-9.281239</td>\n      <td>-9.306873</td>\n      <td>-9.192008</td>\n      <td>-7.461987</td>\n    </tr>\n    <tr>\n      <th>article</th>\n      <td>-6.411684</td>\n      <td>-6.845305</td>\n      <td>-6.753497</td>\n      <td>-6.939104</td>\n      <td>-6.725483</td>\n      <td>-7.068241</td>\n      <td>-7.383522</td>\n      <td>-6.250285</td>\n      <td>-6.092835</td>\n      <td>-6.202670</td>\n      <td>-6.592030</td>\n      <td>-6.564603</td>\n      <td>-6.558912</td>\n      <td>-6.319176</td>\n      <td>-6.434409</td>\n      <td>-6.789204</td>\n      <td>-6.391639</td>\n      <td>-6.472078</td>\n      <td>-6.203086</td>\n      <td>-6.504430</td>\n    </tr>\n    <tr>\n      <th>would</th>\n      <td>-6.419554</td>\n      <td>-6.371234</td>\n      <td>-6.760422</td>\n      <td>-6.546798</td>\n      <td>-6.444485</td>\n      <td>-6.693353</td>\n      <td>-7.225314</td>\n      <td>-6.331067</td>\n      <td>-6.682225</td>\n      <td>-6.531455</td>\n      <td>-6.487794</td>\n      <td>-6.229938</td>\n      <td>-6.216270</td>\n      <td>-6.386011</td>\n      <td>-6.126099</td>\n      <td>-6.123574</td>\n      <td>-6.139063</td>\n      <td>-6.543549</td>\n      <td>-6.325598</td>\n      <td>-6.567899</td>\n    </tr>\n    <tr>\n      <th>religion</th>\n      <td>-6.419615</td>\n      <td>-9.088060</td>\n      <td>-9.194310</td>\n      <td>-9.196784</td>\n      <td>-9.181220</td>\n      <td>-9.140409</td>\n      <td>-9.084456</td>\n      <td>-9.127880</td>\n      <td>-9.159612</td>\n      <td>-8.910440</td>\n      <td>-9.138792</td>\n      <td>-9.082767</td>\n      <td>-9.095952</td>\n      <td>-9.271538</td>\n      <td>-9.258080</td>\n      <td>-6.833191</td>\n      <td>-7.993735</td>\n      <td>-7.292275</td>\n      <td>-8.208645</td>\n      <td>-6.755119</td>\n    </tr>\n    <tr>\n      <th>moral</th>\n      <td>-6.424370</td>\n      <td>-9.199717</td>\n      <td>-9.118194</td>\n      <td>-9.125420</td>\n      <td>-8.885712</td>\n      <td>-9.190999</td>\n      <td>-9.100448</td>\n      <td>-9.022211</td>\n      <td>-9.013286</td>\n      <td>-9.231355</td>\n      <td>-9.267207</td>\n      <td>-9.105703</td>\n      <td>-9.106979</td>\n      <td>-9.111063</td>\n      <td>-8.868021</td>\n      <td>-7.942002</td>\n      <td>-8.766976</td>\n      <td>-8.057341</td>\n      <td>-7.924857</td>\n      <td>-7.084709</td>\n    </tr>\n    <tr>\n      <th>say</th>\n      <td>-6.442368</td>\n      <td>-7.695860</td>\n      <td>-7.670932</td>\n      <td>-7.934952</td>\n      <td>-7.881540</td>\n      <td>-7.931967</td>\n      <td>-8.613072</td>\n      <td>-7.511047</td>\n      <td>-7.456869</td>\n      <td>-7.038233</td>\n      <td>-7.444507</td>\n      <td>-7.175108</td>\n      <td>-7.695877</td>\n      <td>-7.538653</td>\n      <td>-7.613496</td>\n      <td>-6.551571</td>\n      <td>-7.101321</td>\n      <td>-6.904244</td>\n      <td>-7.196957</td>\n      <td>-6.611104</td>\n    </tr>\n    <tr>\n      <th>solntze</th>\n      <td>-6.451042</td>\n      <td>-9.199717</td>\n      <td>-9.194310</td>\n      <td>-9.196784</td>\n      <td>-9.181220</td>\n      <td>-9.190999</td>\n      <td>-9.169064</td>\n      <td>-9.254986</td>\n      <td>-9.259142</td>\n      <td>-9.231355</td>\n      <td>-9.267207</td>\n      <td>-9.318824</td>\n      <td>-9.217825</td>\n      <td>-9.271538</td>\n      <td>-9.267220</td>\n      <td>-9.314238</td>\n      <td>-9.281239</td>\n      <td>-9.306873</td>\n      <td>-9.192008</td>\n      <td>-8.099419</td>\n    </tr>\n    <tr>\n      <th>uk</th>\n      <td>-6.466796</td>\n      <td>-6.359464</td>\n      <td>-7.041063</td>\n      <td>-6.976672</td>\n      <td>-7.657566</td>\n      <td>-6.415955</td>\n      <td>-8.152907</td>\n      <td>-7.589034</td>\n      <td>-6.322590</td>\n      <td>-9.115050</td>\n      <td>-8.785105</td>\n      <td>-6.786107</td>\n      <td>-6.807448</td>\n      <td>-7.558964</td>\n      <td>-7.295087</td>\n      <td>-7.413520</td>\n      <td>-7.777516</td>\n      <td>-9.024228</td>\n      <td>-7.435466</td>\n      <td>-7.647257</td>\n    </tr>\n    <tr>\n      <th>wpd</th>\n      <td>-6.474177</td>\n      <td>-9.199717</td>\n      <td>-9.194310</td>\n      <td>-8.516890</td>\n      <td>-9.181220</td>\n      <td>-9.183111</td>\n      <td>-9.169064</td>\n      <td>-9.254986</td>\n      <td>-9.170681</td>\n      <td>-8.616290</td>\n      <td>-9.267207</td>\n      <td>-9.005411</td>\n      <td>-9.217825</td>\n      <td>-9.271538</td>\n      <td>-9.267220</td>\n      <td>-9.314238</td>\n      <td>-9.281239</td>\n      <td>-9.306873</td>\n      <td>-9.192008</td>\n      <td>-8.114923</td>\n    </tr>\n  </tbody>\n</table>\n</div>"
     },
     "metadata": {},
     "execution_count": 17
    }
   ],
   "source": [
    "pd.DataFrame(classifier.named_steps['classifier'].coef_, index=labels, columns=feature_names).T.sort_values(by='alt.atheism', ascending=False).head(20)"
   ]
  },
  {
   "source": [
    "# Prédiction des targets des données de test"
   ],
   "cell_type": "markdown",
   "metadata": {}
  },
  {
   "cell_type": "code",
   "execution_count": 18,
   "metadata": {},
   "outputs": [],
   "source": [
    "y_pred = classifier.predict(X_test)"
   ]
  },
  {
   "cell_type": "code",
   "execution_count": 19,
   "metadata": {},
   "outputs": [
    {
     "output_type": "execute_result",
     "data": {
      "text/plain": [
       "array(['sci.crypt', 'misc.forsale', 'rec.sport.baseball', ...,\n",
       "       'rec.sport.baseball', 'comp.windows.x', 'misc.forsale'],\n",
       "      dtype='<U24')"
      ]
     },
     "metadata": {},
     "execution_count": 19
    }
   ],
   "source": [
    "# Aperçu des targets prédites\n",
    "y_pred"
   ]
  },
  {
   "cell_type": "code",
   "execution_count": 20,
   "metadata": {},
   "outputs": [
    {
     "output_type": "execute_result",
     "data": {
      "text/plain": [
       "array(['sci.crypt', 'comp.os.ms-windows.misc', 'sci.med', ...,\n",
       "       'rec.sport.baseball', 'comp.graphics', 'misc.forsale'],\n",
       "      dtype='<U24')"
      ]
     },
     "metadata": {},
     "execution_count": 20
    }
   ],
   "source": [
    "# Aperçu des targets réelles\n",
    "y_test"
   ]
  },
  {
   "source": [
    "# Construction du rapport de classification\n",
    "Pour plus d'information sur la précision, le recall et le f1-score : https://fr.wikipedia.org/wiki/Pr%C3%A9cision_et_rappel"
   ],
   "cell_type": "markdown",
   "metadata": {}
  },
  {
   "cell_type": "code",
   "execution_count": 21,
   "metadata": {},
   "outputs": [
    {
     "output_type": "stream",
     "name": "stdout",
     "text": [
      "                          precision    recall  f1-score   support\n\n             alt.atheism       0.90      0.80      0.84       172\n           comp.graphics       0.72      0.77      0.75       184\n comp.os.ms-windows.misc       0.81      0.79      0.80       204\ncomp.sys.ibm.pc.hardware       0.71      0.76      0.74       195\n   comp.sys.mac.hardware       0.87      0.82      0.84       195\n          comp.windows.x       0.84      0.87      0.86       204\n            misc.forsale       0.77      0.79      0.78       164\n               rec.autos       0.84      0.94      0.89       180\n         rec.motorcycles       0.88      0.94      0.91       173\n      rec.sport.baseball       0.94      0.90      0.92       217\n        rec.sport.hockey       0.86      0.98      0.91       178\n               sci.crypt       0.93      0.95      0.94       197\n         sci.electronics       0.83      0.78      0.81       199\n                 sci.med       0.92      0.92      0.92       183\n               sci.space       0.91      0.93      0.92       207\n  soc.religion.christian       0.77      0.94      0.85       211\n      talk.politics.guns       0.81      0.91      0.86       208\n   talk.politics.mideast       0.93      0.93      0.93       200\n      talk.politics.misc       0.89      0.66      0.76       175\n      talk.religion.misc       0.88      0.34      0.49       124\n\n                accuracy                           0.85      3770\n               macro avg       0.85      0.84      0.84      3770\n            weighted avg       0.85      0.85      0.84      3770\n\n"
     ]
    }
   ],
   "source": [
    "print(classification_report(y_test, y_pred))"
   ]
  },
  {
   "source": [
    "# Création d'une matrice de confusion"
   ],
   "cell_type": "markdown",
   "metadata": {}
  },
  {
   "cell_type": "code",
   "execution_count": 26,
   "metadata": {},
   "outputs": [
    {
     "output_type": "error",
     "ename": "ModuleNotFoundError",
     "evalue": "No module named 'scikitplot'",
     "traceback": [
      "\u001b[1;31m---------------------------------------------------------------------------\u001b[0m",
      "\u001b[1;31mModuleNotFoundError\u001b[0m                       Traceback (most recent call last)",
      "\u001b[1;32m<ipython-input-26-c95f2fe460ce>\u001b[0m in \u001b[0;36m<module>\u001b[1;34m\u001b[0m\n\u001b[1;32m----> 1\u001b[1;33m \u001b[1;32mfrom\u001b[0m \u001b[0mscikitplot\u001b[0m\u001b[1;33m.\u001b[0m\u001b[0mmetrics\u001b[0m \u001b[1;32mimport\u001b[0m \u001b[0mplot_confusion_matrix\u001b[0m\u001b[1;33m\u001b[0m\u001b[1;33m\u001b[0m\u001b[0m\n\u001b[0m",
      "\u001b[1;31mModuleNotFoundError\u001b[0m: No module named 'scikitplot'"
     ]
    }
   ],
   "source": [
    "from scikitplot.metrics import plot_confusion_matrix"
   ]
  },
  {
   "cell_type": "code",
   "execution_count": 27,
   "metadata": {},
   "outputs": [
    {
     "output_type": "error",
     "ename": "NameError",
     "evalue": "name 'plot_confusion_matrix' is not defined",
     "traceback": [
      "\u001b[1;31m---------------------------------------------------------------------------\u001b[0m",
      "\u001b[1;31mNameError\u001b[0m                                 Traceback (most recent call last)",
      "\u001b[1;32m<ipython-input-27-a67959503482>\u001b[0m in \u001b[0;36m<module>\u001b[1;34m\u001b[0m\n\u001b[1;32m----> 1\u001b[1;33m \u001b[0mplot_confusion_matrix\u001b[0m\u001b[1;33m(\u001b[0m\u001b[0my_test\u001b[0m\u001b[1;33m,\u001b[0m \u001b[0my_pred\u001b[0m\u001b[1;33m,\u001b[0m \u001b[0mfigsize\u001b[0m\u001b[1;33m=\u001b[0m\u001b[1;33m(\u001b[0m\u001b[1;36m10\u001b[0m\u001b[1;33m,\u001b[0m \u001b[1;36m10\u001b[0m\u001b[1;33m)\u001b[0m\u001b[1;33m,\u001b[0m \u001b[0mlabels\u001b[0m\u001b[1;33m=\u001b[0m\u001b[0mlabels\u001b[0m\u001b[1;33m,\u001b[0m \u001b[0mx_tick_rotation\u001b[0m\u001b[1;33m=\u001b[0m\u001b[1;36m90\u001b[0m\u001b[1;33m)\u001b[0m\u001b[1;33m\u001b[0m\u001b[1;33m\u001b[0m\u001b[0m\n\u001b[0m",
      "\u001b[1;31mNameError\u001b[0m: name 'plot_confusion_matrix' is not defined"
     ]
    }
   ],
   "source": [
    "plot_confusion_matrix(y_test, y_pred, figsize=(10, 10), labels=labels, x_tick_rotation=90)"
   ]
  },
  {
   "cell_type": "code",
   "execution_count": null,
   "metadata": {},
   "outputs": [],
   "source": []
  }
 ]
}