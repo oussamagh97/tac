{
 "metadata": {
  "language_info": {
   "codemirror_mode": {
    "name": "ipython",
    "version": 3
   },
   "file_extension": ".py",
   "mimetype": "text/x-python",
   "name": "python",
   "nbconvert_exporter": "python",
   "pygments_lexer": "ipython3",
   "version": "3.7.7-final"
  },
  "orig_nbformat": 2,
  "kernelspec": {
   "name": "python3",
   "display_name": "Python 3"
  }
 },
 "nbformat": 4,
 "nbformat_minor": 2,
 "cells": [
  {
   "cell_type": "code",
   "execution_count": 267,
   "metadata": {},
   "outputs": [],
   "source": [
    "import collections\n",
    "import os\n",
    "import string\n",
    "import sys\n",
    "\n",
    "import pandas as pd\n",
    "from nltk import word_tokenize\n",
    "from nltk.corpus import stopwords\n",
    "from pprint import pprint\n",
    "from sklearn.cluster import KMeans\n",
    "from sklearn.feature_extraction.text import TfidfVectorizer"
   ]
  },
  {
   "cell_type": "code",
   "execution_count": 268,
   "metadata": {},
   "outputs": [
    {
     "output_type": "stream",
     "name": "stderr",
     "text": [
      "[nltk_data] Downloading package punkt to\n[nltk_data]     C:\\Users\\oussa\\AppData\\Roaming\\nltk_data...\n[nltk_data]   Package punkt is already up-to-date!\n"
     ]
    },
    {
     "output_type": "execute_result",
     "data": {
      "text/plain": [
       "True"
      ]
     },
     "metadata": {},
     "execution_count": 268
    }
   ],
   "source": [
    "import nltk\n",
    "\n",
    "nltk.download('punkt')"
   ]
  },
  {
   "cell_type": "code",
   "execution_count": 269,
   "metadata": {},
   "outputs": [],
   "source": [
    "data_path = \"../data/txt/\""
   ]
  },
  {
   "source": [
    "# Choix d'une décennie et du nombre de clusters"
   ],
   "cell_type": "markdown",
   "metadata": {}
  },
  {
   "cell_type": "code",
   "execution_count": 270,
   "metadata": {},
   "outputs": [],
   "source": [
    "DECADE = '1910'\n",
    "N_CLUSTERS = 6"
   ]
  },
  {
   "source": [
    "# Chargement des fichiers de la décennie"
   ],
   "cell_type": "markdown",
   "metadata": {}
  },
  {
   "cell_type": "code",
   "execution_count": 271,
   "metadata": {},
   "outputs": [],
   "source": [
    "files = [f for f in sorted(os.listdir(data_path)) if f\"_{DECADE[:-1]}\" in f]"
   ]
  },
  {
   "cell_type": "code",
   "execution_count": 272,
   "metadata": {},
   "outputs": [
    {
     "output_type": "execute_result",
     "data": {
      "text/plain": [
       "['Bxl_1910_Tome_I1_Part_1.txt',\n",
       " 'Bxl_1910_Tome_I1_Part_2.txt',\n",
       " 'Bxl_1910_Tome_I1_Part_3.txt',\n",
       " 'Bxl_1910_Tome_I1_Part_4.txt',\n",
       " 'Bxl_1910_Tome_I1_Part_5.txt']"
      ]
     },
     "metadata": {},
     "execution_count": 272
    }
   ],
   "source": [
    "# Exemple de fichiers\n",
    "files[:5]"
   ]
  },
  {
   "cell_type": "code",
   "execution_count": 273,
   "metadata": {},
   "outputs": [],
   "source": [
    "texts = [open(data_path + f,encoding='utf-8').read() for f in files]"
   ]
  },
  {
   "cell_type": "code",
   "execution_count": 274,
   "metadata": {},
   "outputs": [
    {
     "output_type": "execute_result",
     "data": {
      "text/plain": [
       "'\\x0cV I L L E\\n\\nD E\\n\\nB R U X E L L E S .\\no\\n\\nBULLETIN COMMUNAL\\nA N N É E\\n\\nP R E M I È R E\\n\\nTOME\\n\\nC O M P T E\\n\\nR E N D U\\n\\n1910.\\n\\nP A R T I E .\\n\\nI.\\n\\nD E S\\n\\nS É A N C E S .\\n\\nB R U X E L L E S\\nTYPOGRAPHIE E T LITHOGRAPHIE E . G U Y O T ,\\n\\nR U E P A C H E C O , 18\\n\\n\\x0c\\x0cN°l.\\n\\nCOMPTE RENDU D E L A SÉANCE D U 1 7 JANVIER 1 9 1 0 .\\n\\nVILLE\\n\\nDE\\n\\nBULLETIN\\n\\nBRUXELLES\\n\\nCOMMUNAL\\n\\nAnnée\\n\\nCONSEIL\\n\\n1910\\n\\nC O M M U N A L\\n\\n'"
      ]
     },
     "metadata": {},
     "execution_count": 274
    }
   ],
   "source": [
    "# Exemple de textes\n",
    "texts[0][:400]"
   ]
  },
  {
   "source": [
    "# Vectorisation du texte"
   ],
   "cell_type": "markdown",
   "metadata": {}
  },
  {
   "cell_type": "code",
   "execution_count": 275,
   "metadata": {},
   "outputs": [],
   "source": [
    "def process_text(text, stem=True):\n",
    "    \"\"\" Tokenize text and remove punctuation \"\"\"\n",
    "    text = text.translate(string.punctuation)\n",
    "    tokens = word_tokenize(text)\n",
    "    return tokens"
   ]
  },
  {
   "cell_type": "code",
   "execution_count": 276,
   "metadata": {},
   "outputs": [],
   "source": [
    "vectorizer = TfidfVectorizer(tokenizer=process_text,\n",
    "                                stop_words=stopwords.words('french'),\n",
    "                                max_df=0.5,\n",
    "                                min_df=0.1,\n",
    "                                lowercase=True)"
   ]
  },
  {
   "cell_type": "code",
   "execution_count": 277,
   "metadata": {},
   "outputs": [
    {
     "output_type": "stream",
     "name": "stdout",
     "text": [
      "Wall time: 42.6 s\n"
     ]
    }
   ],
   "source": [
    "%time tfidf_vectors = vectorizer.fit_transform(texts)"
   ]
  },
  {
   "cell_type": "code",
   "execution_count": 278,
   "metadata": {},
   "outputs": [
    {
     "output_type": "execute_result",
     "data": {
      "text/plain": [
       "<170x7097 sparse matrix of type '<class 'numpy.float64'>'\n",
       "\twith 252382 stored elements in Compressed Sparse Row format>"
      ]
     },
     "metadata": {},
     "execution_count": 278
    }
   ],
   "source": [
    "tfidf_vectors"
   ]
  },
  {
   "cell_type": "code",
   "execution_count": 279,
   "metadata": {},
   "outputs": [
    {
     "output_type": "execute_result",
     "data": {
      "text/plain": [
       "enseignant            0.194609\n",
       "perfectionnement      0.160739\n",
       "theodor               0.151363\n",
       "l'honorable           0.140094\n",
       "sacrés                0.129844\n",
       "                        ...   \n",
       "les+conditions        0.000000\n",
       "les+conseillers.+m    0.000000\n",
       "les+cours             0.000000\n",
       "les+enfants           0.000000\n",
       "'+                    0.000000\n",
       "Length: 7097, dtype: float64"
      ]
     },
     "metadata": {},
     "execution_count": 279
    }
   ],
   "source": [
    "# Exemple de vecteur TFIDF\n",
    "pd.Series(\n",
    "    tfidf_vectors[0].toarray()[0],\n",
    "    index=vectorizer.get_feature_names()\n",
    "    ).sort_values(ascending=False)"
   ]
  },
  {
   "source": [
    "# Comprendre les vecteurs et leurs \"distances\""
   ],
   "cell_type": "markdown",
   "metadata": {}
  },
  {
   "cell_type": "code",
   "execution_count": 280,
   "metadata": {},
   "outputs": [],
   "source": [
    "from scipy.spatial.distance import cosine"
   ]
  },
  {
   "cell_type": "code",
   "execution_count": 281,
   "metadata": {},
   "outputs": [
    {
     "output_type": "execute_result",
     "data": {
      "text/plain": [
       "0.0"
      ]
     },
     "metadata": {},
     "execution_count": 281
    }
   ],
   "source": [
    "cosine([1, 2, 3], [1, 2, 3])"
   ]
  },
  {
   "cell_type": "code",
   "execution_count": 282,
   "metadata": {},
   "outputs": [
    {
     "output_type": "execute_result",
     "data": {
      "text/plain": [
       "0.02004211298777725"
      ]
     },
     "metadata": {},
     "execution_count": 282
    }
   ],
   "source": [
    "cosine([1, 2, 3], [1, 2, 2])"
   ]
  },
  {
   "cell_type": "code",
   "execution_count": 283,
   "metadata": {},
   "outputs": [
    {
     "output_type": "execute_result",
     "data": {
      "text/plain": [
       "0.07417990022744858"
      ]
     },
     "metadata": {},
     "execution_count": 283
    }
   ],
   "source": [
    "cosine([1, 2, 3], [2, 2, 2])"
   ]
  },
  {
   "cell_type": "code",
   "execution_count": 284,
   "metadata": {},
   "outputs": [],
   "source": [
    "tfidf_array = tfidf_vectors.toarray()"
   ]
  },
  {
   "cell_type": "code",
   "execution_count": 285,
   "metadata": {},
   "outputs": [
    {
     "output_type": "execute_result",
     "data": {
      "text/plain": [
       "array([0., 0., 0., ..., 0., 0., 0.])"
      ]
     },
     "metadata": {},
     "execution_count": 285
    }
   ],
   "source": [
    "tfidf_array[0]"
   ]
  },
  {
   "cell_type": "code",
   "execution_count": 286,
   "metadata": {},
   "outputs": [
    {
     "output_type": "execute_result",
     "data": {
      "text/plain": [
       "'\\x0cV I L L E\\n\\nD E\\n\\nB R U X E L L E S .\\no\\n\\nBULLETIN COMMUNAL\\nA N N É E\\n\\nP R E M I È R E\\n\\nTOME\\n\\nC O M P T E\\n\\nR E N D U\\n\\n1910.\\n\\nP A R T I E .\\n\\nI.\\n\\nD E S\\n\\nS É A N C E S .\\n\\nB R U X E L L E S\\nTYPOGRAPHIE E T '"
      ]
     },
     "metadata": {},
     "execution_count": 286
    }
   ],
   "source": [
    "texts[0][:200]"
   ]
  },
  {
   "cell_type": "code",
   "execution_count": 287,
   "metadata": {},
   "outputs": [
    {
     "output_type": "execute_result",
     "data": {
      "text/plain": [
       "array([0., 0., 0., ..., 0., 0., 0.])"
      ]
     },
     "metadata": {},
     "execution_count": 287
    }
   ],
   "source": [
    "tfidf_array[0]"
   ]
  },
  {
   "cell_type": "code",
   "execution_count": 288,
   "metadata": {},
   "outputs": [
    {
     "output_type": "execute_result",
     "data": {
      "text/plain": [
       "0.712899401391456"
      ]
     },
     "metadata": {},
     "execution_count": 288
    }
   ],
   "source": [
    "cosine(tfidf_array[0], tfidf_array[1])"
   ]
  },
  {
   "source": [
    "# Clustering des vecteurs TFIDF"
   ],
   "cell_type": "markdown",
   "metadata": {}
  },
  {
   "source": [
    "Article intéressant sur le KMeans clustering :\n",
    "- https://medium.com/dataseries/k-means-clustering-explained-visually-in-5-minutes-b900cc69d175"
   ],
   "cell_type": "markdown",
   "metadata": {}
  },
  {
   "cell_type": "code",
   "execution_count": 289,
   "metadata": {},
   "outputs": [],
   "source": [
    "km_model = KMeans(n_clusters=N_CLUSTERS)"
   ]
  },
  {
   "cell_type": "code",
   "execution_count": 290,
   "metadata": {},
   "outputs": [
    {
     "output_type": "execute_result",
     "data": {
      "text/plain": [
       "KMeans(n_clusters=7)"
      ]
     },
     "metadata": {},
     "execution_count": 290
    }
   ],
   "source": [
    "km_model.fit(tfidf_vectors)"
   ]
  },
  {
   "cell_type": "code",
   "execution_count": 291,
   "metadata": {},
   "outputs": [],
   "source": [
    "clustering = collections.defaultdict(list)\n",
    "\n",
    "for idx, label in enumerate(km_model.labels_):\n",
    "    clustering[label].append(files[idx])"
   ]
  },
  {
   "cell_type": "code",
   "execution_count": 292,
   "metadata": {},
   "outputs": [
    {
     "output_type": "stream",
     "name": "stdout",
     "text": [
      "{0: ['Bxl_1910_Tome_I1_Part_8.txt',\n     'Bxl_1910_Tome_I2_1_Part_11.txt',\n     'Bxl_1910_Tome_I2_1_Part_12.txt',\n     'Bxl_1910_Tome_I2_1_Part_7.txt',\n     'Bxl_1910_Tome_I2_1_Part_8.txt',\n     'Bxl_1910_Tome_I2_1_Part_9.txt',\n     'Bxl_1910_Tome_I2_2_Part_12.txt',\n     'Bxl_1911_Tome_I1_Part_13.txt',\n     'Bxl_1911_Tome_I2_1_Part_10.txt',\n     'Bxl_1911_Tome_I2_1_Part_4.txt',\n     'Bxl_1911_Tome_I2_1_Part_5.txt',\n     'Bxl_1911_Tome_I2_1_Part_6.txt',\n     'Bxl_1911_Tome_I2_1_Part_7.txt',\n     'Bxl_1911_Tome_I2_1_Part_8.txt',\n     'Bxl_1911_Tome_I2_2_Part_1.txt',\n     'Bxl_1911_Tome_I2_2_Part_11.txt',\n     'Bxl_1912_Tome_I1_2_Part_7.txt',\n     'Bxl_1912_Tome_I2_1_Part_10.txt',\n     'Bxl_1912_Tome_I2_1_Part_5.txt',\n     'Bxl_1912_Tome_I2_1_Part_6.txt',\n     'Bxl_1912_Tome_I2_1_Part_7.txt',\n     'Bxl_1912_Tome_I2_1_Part_9.txt',\n     'Bxl_1912_Tome_I2_2_Part_12.txt',\n     'Bxl_1913_Tome_I2_1_Part_5.txt',\n     'Bxl_1913_Tome_I2_1_Part_6.txt',\n     'Bxl_1913_Tome_I2_1_Part_8.txt',\n     'Bxl_1913_Tome_I2_1_Part_9.txt',\n     'Bxl_1919_Tome_budget_Part_4.txt'],\n 1: ['Bxl_1918_Tome_I2_Part_1.txt',\n     'Bxl_1919_Tome_I2_2_Part_1.txt',\n     'Bxl_1919_Tome_I2_2_Part_10.txt',\n     'Bxl_1919_Tome_I2_2_Part_2.txt',\n     'Bxl_1919_Tome_I2_2_Part_3.txt',\n     'Bxl_1919_Tome_I2_2_Part_4.txt',\n     'Bxl_1919_Tome_I2_2_Part_5.txt',\n     'Bxl_1919_Tome_I2_2_Part_9.txt'],\n 2: ['Bxl_1910_Tome_I1_Part_1.txt',\n     'Bxl_1910_Tome_I1_Part_2.txt',\n     'Bxl_1910_Tome_I1_Part_3.txt',\n     'Bxl_1910_Tome_I1_Part_4.txt',\n     'Bxl_1910_Tome_I1_Part_5.txt',\n     'Bxl_1910_Tome_I1_Part_6.txt',\n     'Bxl_1910_Tome_I1_Part_7.txt',\n     'Bxl_1910_Tome_I2_1_Part_1.txt',\n     'Bxl_1910_Tome_I2_1_Part_4.txt',\n     'Bxl_1910_Tome_I2_1_Part_6.txt',\n     'Bxl_1910_Tome_I2_2_Part_2.txt',\n     'Bxl_1910_Tome_I2_2_Part_3.txt',\n     'Bxl_1910_Tome_I2_2_Part_4.txt',\n     'Bxl_1910_Tome_I2_2_Part_5.txt',\n     'Bxl_1910_Tome_I2_2_Part_6.txt',\n     'Bxl_1910_Tome_I2_2_Part_7.txt',\n     'Bxl_1911_Tome_I1_Part_1.txt',\n     'Bxl_1911_Tome_I1_Part_10.txt',\n     'Bxl_1911_Tome_I1_Part_11.txt',\n     'Bxl_1911_Tome_I1_Part_12.txt',\n     'Bxl_1911_Tome_I1_Part_5.txt',\n     'Bxl_1911_Tome_I1_Part_6.txt',\n     'Bxl_1911_Tome_I1_Part_8.txt',\n     'Bxl_1911_Tome_I1_Part_9.txt',\n     'Bxl_1911_Tome_I2_1_Part_1.txt',\n     'Bxl_1911_Tome_I2_1_Part_3.txt',\n     'Bxl_1911_Tome_I2_2_Part_4.txt',\n     'Bxl_1911_Tome_I2_2_Part_5.txt',\n     'Bxl_1911_Tome_I2_2_Part_6.txt',\n     'Bxl_1911_Tome_I2_2_Part_7.txt',\n     'Bxl_1912_Tome_I1_1_Part_1.txt',\n     'Bxl_1912_Tome_I1_1_Part_2.txt',\n     'Bxl_1912_Tome_I1_1_Part_3.txt',\n     'Bxl_1912_Tome_I1_1_Part_4.txt',\n     'Bxl_1912_Tome_I1_1_Part_5.txt',\n     'Bxl_1912_Tome_I1_1_Part_6.txt',\n     'Bxl_1912_Tome_I1_2_Part_4.txt',\n     'Bxl_1912_Tome_I1_2_Part_5.txt',\n     'Bxl_1912_Tome_I1_2_Part_6.txt',\n     'Bxl_1912_Tome_I2_1_Part_1.txt',\n     'Bxl_1912_Tome_I2_1_Part_2.txt',\n     'Bxl_1912_Tome_I2_1_Part_4.txt',\n     'Bxl_1912_Tome_I2_2_Part_4.txt',\n     'Bxl_1912_Tome_I2_2_Part_5.txt',\n     'Bxl_1912_Tome_I2_2_Part_6.txt',\n     'Bxl_1912_Tome_I2_2_Part_7.txt',\n     'Bxl_1913_Tome_I1_Part_1.txt',\n     'Bxl_1913_Tome_I1_Part_3.txt',\n     'Bxl_1913_Tome_I2_2_Part_4.txt',\n     'Bxl_1913_Tome_I2_2_Part_5.txt',\n     'Bxl_1913_Tome_I2_2_Part_6.txt'],\n 3: ['Bxl_1910_Tome_II1_Part_1.txt',\n     'Bxl_1910_Tome_II1_Part_2.txt',\n     'Bxl_1910_Tome_II1_Part_3.txt',\n     'Bxl_1911_Tome_II1_Part_1.txt',\n     'Bxl_1911_Tome_II1_Part_2.txt',\n     'Bxl_1911_Tome_II1_Part_3.txt',\n     'Bxl_1912_Tome_II1_Part_1.txt',\n     'Bxl_1912_Tome_II1_Part_2.txt',\n     'Bxl_1912_Tome_II1_Part_3.txt',\n     'Bxl_1913_Tome_II1_Part_1.txt',\n     'Bxl_1913_Tome_II1_Part_2.txt',\n     'Bxl_1914_Tome_II1_Part_1.txt',\n     'Bxl_1914_Tome_II1_Part_2.txt'],\n 4: ['Bxl_1910_Tome_I2_1_Part_13.txt',\n     'Bxl_1910_Tome_I2_1_Part_2.txt',\n     'Bxl_1910_Tome_I2_1_Part_3.txt',\n     'Bxl_1911_Tome_I1_Part_2.txt',\n     'Bxl_1911_Tome_I1_Part_3.txt',\n     'Bxl_1911_Tome_I1_Part_4.txt',\n     'Bxl_1912_Tome_I1_2_Part_1.txt',\n     'Bxl_1912_Tome_I1_2_Part_2.txt',\n     'Bxl_1912_Tome_I1_2_Part_3.txt',\n     'Bxl_1913_Tome_I1_Part_7.txt',\n     'Bxl_1913_Tome_I1_Part_8.txt',\n     'Bxl_1913_Tome_I1_Part_9.txt',\n     'Bxl_1913_Tome_I2_2_Part_11.txt'],\n 5: ['Bxl_1910_Tome_I2_1_Part_5.txt',\n     'Bxl_1910_Tome_I2_2_Part_10.txt',\n     'Bxl_1910_Tome_I2_2_Part_8.txt',\n     'Bxl_1910_Tome_I2_2_Part_9.txt',\n     'Bxl_1911_Tome_I1_Part_7.txt',\n     'Bxl_1911_Tome_I2_2_Part_10.txt',\n     'Bxl_1911_Tome_I2_2_Part_8.txt',\n     'Bxl_1911_Tome_I2_2_Part_9.txt',\n     'Bxl_1912_Tome_I2_1_Part_3.txt',\n     'Bxl_1912_Tome_I2_2_Part_10.txt',\n     'Bxl_1912_Tome_I2_2_Part_11.txt',\n     'Bxl_1912_Tome_I2_2_Part_9.txt',\n     'Bxl_1913_Tome_I2_1_Part_2.txt',\n     'Bxl_1913_Tome_I2_2_Part_7.txt',\n     'Bxl_1913_Tome_I2_2_Part_8.txt',\n     'Bxl_1913_Tome_I2_2_Part_9.txt',\n     'Bxl_1919_Tome_I2_2_Part_6.txt',\n     'Bxl_1919_Tome_I2_2_Part_7.txt',\n     'Bxl_1919_Tome_I2_2_Part_8.txt',\n     'Bxl_1919_Tome_budget_Part_1.txt',\n     'Bxl_1919_Tome_budget_Part_2.txt',\n     'Bxl_1919_Tome_budget_Part_3.txt'],\n 6: ['Bxl_1910_Tome_I2_1_Part_10.txt',\n     'Bxl_1910_Tome_I2_2_Part_1.txt',\n     'Bxl_1910_Tome_I2_2_Part_11.txt',\n     'Bxl_1911_Tome_I2_1_Part_2.txt',\n     'Bxl_1911_Tome_I2_1_Part_9.txt',\n     'Bxl_1911_Tome_I2_2_Part_2.txt',\n     'Bxl_1911_Tome_I2_2_Part_3.txt',\n     'Bxl_1911_Tome_II1_Part_4.txt',\n     'Bxl_1912_Tome_I2_1_Part_8.txt',\n     'Bxl_1912_Tome_I2_2_Part_1.txt',\n     'Bxl_1912_Tome_I2_2_Part_2.txt',\n     'Bxl_1912_Tome_I2_2_Part_3.txt',\n     'Bxl_1912_Tome_I2_2_Part_8.txt',\n     'Bxl_1913_Tome_I1_Part_10.txt',\n     'Bxl_1913_Tome_I1_Part_11.txt',\n     'Bxl_1913_Tome_I1_Part_12.txt',\n     'Bxl_1913_Tome_I1_Part_2.txt',\n     'Bxl_1913_Tome_I1_Part_4.txt',\n     'Bxl_1913_Tome_I1_Part_5.txt',\n     'Bxl_1913_Tome_I1_Part_6.txt',\n     'Bxl_1913_Tome_I2_1_Part_1.txt',\n     'Bxl_1913_Tome_I2_1_Part_10.txt',\n     'Bxl_1913_Tome_I2_1_Part_3.txt',\n     'Bxl_1913_Tome_I2_1_Part_4.txt',\n     'Bxl_1913_Tome_I2_1_Part_7.txt',\n     'Bxl_1913_Tome_I2_2_Part_1.txt',\n     'Bxl_1913_Tome_I2_2_Part_10.txt',\n     'Bxl_1913_Tome_I2_2_Part_2.txt',\n     'Bxl_1913_Tome_I2_2_Part_3.txt',\n     'Bxl_1913_Tome_II1_Part_3.txt',\n     'Bxl_1915_Tome_II1_Part_1.txt',\n     'Bxl_1915_Tome_II1_Part_2.txt',\n     'Bxl_1915_Tome_II1_Part_3.txt',\n     'Bxl_1915_Tome_II1_Part_4.txt',\n     'Bxl_1915_Tome_II1_Part_5.txt']}\n"
     ]
    }
   ],
   "source": [
    "pprint(dict(clustering))"
   ]
  },
  {
   "cell_type": "code",
   "execution_count": null,
   "metadata": {},
   "outputs": [],
   "source": []
  }
 ]
}