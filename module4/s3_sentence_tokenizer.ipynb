{
 "metadata": {
  "language_info": {
   "codemirror_mode": {
    "name": "ipython",
    "version": 3
   },
   "file_extension": ".py",
   "mimetype": "text/x-python",
   "name": "python",
   "nbconvert_exporter": "python",
   "pygments_lexer": "ipython3",
   "version": "3.7.7-final"
  },
  "orig_nbformat": 2,
  "kernelspec": {
   "name": "python3",
   "display_name": "Python 3.7.7 64-bit ('venv')",
   "metadata": {
    "interpreter": {
     "hash": "d6fb9991202371a20b4b1fa688d203658d075847d950dccdda3b59d184d9b3f9"
    }
   }
  }
 },
 "nbformat": 4,
 "nbformat_minor": 2,
 "cells": [
  {
   "cell_type": "code",
   "execution_count": 1,
   "metadata": {},
   "outputs": [],
   "source": [
    "import os\n",
    "import sys\n",
    "import nltk\n",
    "from nltk.tokenize import sent_tokenize"
   ]
  },
  {
   "source": [
    "# Fichiers d'inputs et d'outputs"
   ],
   "cell_type": "markdown",
   "metadata": {}
  },
  {
   "cell_type": "code",
   "execution_count": 2,
   "metadata": {},
   "outputs": [],
   "source": [
    "infile = \"../data/all.txt\"\n",
    "outfile = \"../data/sents.txt\""
   ]
  },
  {
   "source": [
    "# Tokenisation du corpus ligne par ligne"
   ],
   "cell_type": "markdown",
   "metadata": {}
  },
  {
   "source": [
    "**Important** : pour traiter tout le corpus, mettez `LIMIT = None`"
   ],
   "cell_type": "markdown",
   "metadata": {}
  },
  {
   "cell_type": "code",
   "execution_count": 3,
   "metadata": {},
   "outputs": [],
   "source": [
    "LIMIT = None"
   ]
  },
  {
   "cell_type": "code",
   "execution_count": 4,
   "metadata": {
    "tags": []
   },
   "outputs": [
    {
     "output_type": "stream",
     "name": "stdout",
     "text": [
      "processing line 0/12204593\n",
      "processing line 100000/12204593\n",
      "processing line 200000/12204593\n",
      "processing line 300000/12204593\n",
      "processing line 400000/12204593\n",
      "processing line 500000/12204593\n",
      "processing line 600000/12204593\n",
      "processing line 700000/12204593\n",
      "processing line 800000/12204593\n",
      "processing line 900000/12204593\n",
      "processing line 1000000/12204593\n",
      "processing line 1100000/12204593\n",
      "processing line 1200000/12204593\n",
      "processing line 1300000/12204593\n",
      "processing line 1400000/12204593\n",
      "processing line 1500000/12204593\n",
      "processing line 1600000/12204593\n",
      "processing line 1700000/12204593\n",
      "processing line 1800000/12204593\n",
      "processing line 1900000/12204593\n",
      "processing line 2000000/12204593\n",
      "processing line 2100000/12204593\n",
      "processing line 2200000/12204593\n",
      "processing line 2300000/12204593\n",
      "processing line 2400000/12204593\n",
      "processing line 2500000/12204593\n",
      "processing line 2600000/12204593\n",
      "processing line 2700000/12204593\n",
      "processing line 2800000/12204593\n",
      "processing line 2900000/12204593\n",
      "processing line 3000000/12204593\n",
      "processing line 3100000/12204593\n",
      "processing line 3200000/12204593\n",
      "processing line 3300000/12204593\n",
      "processing line 3400000/12204593\n",
      "processing line 3500000/12204593\n",
      "processing line 3600000/12204593\n",
      "processing line 3700000/12204593\n",
      "processing line 3800000/12204593\n",
      "processing line 3900000/12204593\n",
      "processing line 4000000/12204593\n",
      "processing line 4100000/12204593\n",
      "processing line 4200000/12204593\n",
      "processing line 4300000/12204593\n",
      "processing line 4400000/12204593\n",
      "processing line 4500000/12204593\n",
      "processing line 4600000/12204593\n",
      "processing line 4700000/12204593\n",
      "processing line 4800000/12204593\n",
      "processing line 4900000/12204593\n",
      "processing line 5000000/12204593\n",
      "processing line 5100000/12204593\n",
      "processing line 5200000/12204593\n",
      "processing line 5300000/12204593\n",
      "processing line 5400000/12204593\n",
      "processing line 5500000/12204593\n",
      "processing line 5600000/12204593\n",
      "processing line 5700000/12204593\n",
      "processing line 5800000/12204593\n",
      "processing line 5900000/12204593\n",
      "processing line 6000000/12204593\n",
      "processing line 6100000/12204593\n",
      "processing line 6200000/12204593\n",
      "processing line 6300000/12204593\n",
      "processing line 6400000/12204593\n",
      "processing line 6500000/12204593\n",
      "processing line 6600000/12204593\n",
      "processing line 6700000/12204593\n",
      "processing line 6800000/12204593\n",
      "processing line 6900000/12204593\n",
      "processing line 7000000/12204593\n",
      "processing line 7100000/12204593\n",
      "processing line 7200000/12204593\n",
      "processing line 7300000/12204593\n",
      "processing line 7400000/12204593\n",
      "processing line 7500000/12204593\n",
      "processing line 7600000/12204593\n",
      "processing line 7700000/12204593\n",
      "processing line 7800000/12204593\n",
      "processing line 7900000/12204593\n",
      "processing line 8000000/12204593\n",
      "processing line 8100000/12204593\n",
      "processing line 8200000/12204593\n",
      "processing line 8300000/12204593\n",
      "processing line 8400000/12204593\n",
      "processing line 8500000/12204593\n",
      "processing line 8600000/12204593\n",
      "processing line 8700000/12204593\n",
      "processing line 8800000/12204593\n",
      "processing line 8900000/12204593\n",
      "processing line 9000000/12204593\n",
      "processing line 9100000/12204593\n",
      "processing line 9200000/12204593\n",
      "processing line 9300000/12204593\n",
      "processing line 9400000/12204593\n",
      "processing line 9500000/12204593\n",
      "processing line 9600000/12204593\n",
      "processing line 9700000/12204593\n",
      "processing line 9800000/12204593\n",
      "processing line 9900000/12204593\n",
      "processing line 10000000/12204593\n",
      "processing line 10100000/12204593\n",
      "processing line 10200000/12204593\n",
      "processing line 10300000/12204593\n",
      "processing line 10400000/12204593\n",
      "processing line 10500000/12204593\n",
      "processing line 10600000/12204593\n",
      "processing line 10700000/12204593\n",
      "processing line 10800000/12204593\n",
      "processing line 10900000/12204593\n",
      "processing line 11000000/12204593\n",
      "processing line 11100000/12204593\n",
      "processing line 11200000/12204593\n",
      "processing line 11300000/12204593\n",
      "processing line 11400000/12204593\n",
      "processing line 11500000/12204593\n",
      "processing line 11600000/12204593\n",
      "processing line 11700000/12204593\n",
      "processing line 11800000/12204593\n",
      "processing line 11900000/12204593\n",
      "processing line 12000000/12204593\n",
      "processing line 12100000/12204593\n",
      "processing line 12200000/12204593\n"
     ]
    }
   ],
   "source": [
    "with open(outfile, 'w',encoding=\"utf-8\") as output:\n",
    "    with open(infile, encoding=\"utf-8\", errors=\"backslashreplace\") as f:\n",
    "        content = f.readlines()\n",
    "        content = content[:LIMIT] if LIMIT is not None else content\n",
    "        n_lines = len(content)\n",
    "        for i, line in enumerate(content):\n",
    "            if i % 100000 == 0:\n",
    "                print(f'processing line {i}/{n_lines}')\n",
    "            sentences = sent_tokenize(line)\n",
    "            for sent in sentences:\n",
    "                output.write(sent + \"\\n\")"
   ]
  },
  {
   "cell_type": "code",
   "execution_count": null,
   "metadata": {},
   "outputs": [],
   "source": []
  }
 ]
}