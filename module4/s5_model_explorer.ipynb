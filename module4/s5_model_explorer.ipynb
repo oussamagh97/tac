{
 "metadata": {
  "language_info": {
   "codemirror_mode": {
    "name": "ipython",
    "version": 3
   },
   "file_extension": ".py",
   "mimetype": "text/x-python",
   "name": "python",
   "nbconvert_exporter": "python",
   "pygments_lexer": "ipython3",
   "version": "3.7.7-final"
  },
  "orig_nbformat": 2,
  "kernelspec": {
   "name": "python3",
   "display_name": "Python 3"
  }
 },
 "nbformat": 4,
 "nbformat_minor": 2,
 "cells": [
  {
   "cell_type": "code",
   "execution_count": 1,
   "metadata": {},
   "outputs": [],
   "source": [
    "from gensim.models import Word2Vec\n",
    "from pprint import pprint"
   ]
  },
  {
   "source": [
    "# Charger le modèle que nous venons de créer"
   ],
   "cell_type": "markdown",
   "metadata": {}
  },
  {
   "cell_type": "code",
   "execution_count": 2,
   "metadata": {},
   "outputs": [],
   "source": [
    "model = Word2Vec.load(\"../data/bulletins.model\")"
   ]
  },
  {
   "source": [
    "# Comment est représenté le mot \"rue\" ?"
   ],
   "cell_type": "markdown",
   "metadata": {}
  },
  {
   "cell_type": "code",
   "execution_count": 4,
   "metadata": {},
   "outputs": [
    {
     "output_type": "execute_result",
     "data": {
      "text/plain": [
       "array([ 7.3240485 , -4.3127418 , -6.259682  ,  3.4096205 ,  2.4594774 ,\n",
       "       -0.55693793, -1.7987401 , -1.3155323 , -4.6845994 , -3.35502   ,\n",
       "       -0.47754097,  3.6371298 , -7.5410337 , -1.6500047 ,  1.0798054 ,\n",
       "        2.7392645 , -0.7228609 ,  5.7054877 , -2.7751281 ,  0.5391333 ,\n",
       "        3.7871792 ,  5.4281225 , -7.6488733 , -4.0950737 , -7.0716767 ,\n",
       "        1.6046708 , -3.7283778 , -6.2996135 , -1.197895  , -4.4046307 ,\n",
       "       -1.3633951 , -3.7213485 ], dtype=float32)"
      ]
     },
     "metadata": {},
     "execution_count": 4
    }
   ],
   "source": [
    "model[\"budget\"]"
   ]
  },
  {
   "source": [
    "# Et fleuriste ?"
   ],
   "cell_type": "markdown",
   "metadata": {}
  },
  {
   "cell_type": "code",
   "execution_count": 5,
   "metadata": {},
   "outputs": [
    {
     "output_type": "execute_result",
     "data": {
      "text/plain": [
       "array([ 5.1154494 ,  1.8611225 , -0.62330544,  0.7104639 ,  3.8659878 ,\n",
       "        6.8003874 ,  1.4828733 , -0.5360908 , -7.570609  ,  2.671403  ,\n",
       "        4.1324935 ,  4.2964234 , -0.8437795 , -0.8706614 , -0.7938765 ,\n",
       "       -0.40698975,  0.07820933,  2.7970467 ,  1.7709012 ,  0.23154192,\n",
       "        3.649853  , -0.45355868, -0.9047544 , -3.0356638 , -0.8200402 ,\n",
       "        2.2879324 , -4.0074577 , -0.06385083,  1.7555635 ,  2.3240387 ,\n",
       "        1.8888342 ,  4.9174905 ], dtype=float32)"
      ]
     },
     "metadata": {},
     "execution_count": 5
    }
   ],
   "source": [
    "model['lois']"
   ]
  },
  {
   "source": [
    "# Quel est leur similarité ?"
   ],
   "cell_type": "markdown",
   "metadata": {}
  },
  {
   "cell_type": "code",
   "execution_count": 25,
   "metadata": {},
   "outputs": [
    {
     "output_type": "execute_result",
     "data": {
      "text/plain": [
       "0.2975989"
      ]
     },
     "metadata": {},
     "execution_count": 25
    }
   ],
   "source": [
    "model.wv.similarity(\"budget\", \"lois\")"
   ]
  },
  {
   "cell_type": "code",
   "execution_count": 26,
   "metadata": {},
   "outputs": [
    {
     "output_type": "execute_result",
     "data": {
      "text/plain": [
       "0.5921939"
      ]
     },
     "metadata": {},
     "execution_count": 26
    }
   ],
   "source": [
    "model.wv.similarity(\"services\", \"revenus\")"
   ]
  },
  {
   "cell_type": "code",
   "execution_count": 28,
   "metadata": {},
   "outputs": [
    {
     "output_type": "execute_result",
     "data": {
      "text/plain": [
       "0.31432986"
      ]
     },
     "metadata": {},
     "execution_count": 28
    }
   ],
   "source": [
    "model.wv.similarity(\"ville\",\"politique\")"
   ]
  },
  {
   "cell_type": "code",
   "execution_count": 32,
   "metadata": {},
   "outputs": [
    {
     "output_type": "execute_result",
     "data": {
      "text/plain": [
       "0.49813914"
      ]
     },
     "metadata": {},
     "execution_count": 32
    }
   ],
   "source": [
    "model.wv.similarity(\"hospices\",\"travaux\")"
   ]
  },
  {
   "source": [
    "# Quel mot est le plus proche de rue ?"
   ],
   "cell_type": "markdown",
   "metadata": {}
  },
  {
   "cell_type": "code",
   "execution_count": 39,
   "metadata": {},
   "outputs": [
    {
     "output_type": "execute_result",
     "data": {
      "text/plain": [
       "[('budget_extraordinaire', 0.919981062412262),\n",
       " ('compte', 0.8990490436553955),\n",
       " ('budget_ordinaire', 0.8974288702011108),\n",
       " ('deficit', 0.8151871562004089),\n",
       " ('budgel', 0.781923770904541),\n",
       " ('credit', 0.77359938621521),\n",
       " ('chapitre', 0.7561084032058716),\n",
       " ('reglement', 0.7485881447792053),\n",
       " ('boni', 0.7476595640182495),\n",
       " ('rapport_annuel', 0.7466977834701538),\n",
       " ('service_ordinaire', 0.7441346645355225),\n",
       " ('chiffre', 0.7205007672309875),\n",
       " ('compte_moral', 0.7149494886398315),\n",
       " ('benefice', 0.7145237922668457),\n",
       " ('resultat', 0.7091221213340759),\n",
       " ('service_extraordinaire', 0.7074488997459412),\n",
       " ('fonds_communal', 0.7064273357391357),\n",
       " ('programme', 0.703946590423584),\n",
       " ('reliquat', 0.6914488077163696),\n",
       " ('paragraphe', 0.6910107731819153),\n",
       " ('credit_prevu', 0.6899313926696777),\n",
       " ('domaine_prive', 0.6874062418937683),\n",
       " ('chapitre_extraordinaire', 0.6871191263198853),\n",
       " ('projet', 0.6823616623878479),\n",
       " ('reglement_organique', 0.6793437600135803),\n",
       " ('contrat', 0.6710734367370605),\n",
       " ('devis', 0.6701712012290955),\n",
       " ('exercice', 0.667888879776001),\n",
       " ('decret', 0.6669254302978516),\n",
       " ('get', 0.6657837629318237)]"
      ]
     },
     "metadata": {},
     "execution_count": 39
    }
   ],
   "source": [
    "model.wv.most_similar(\"budget\", topn=30)"
   ]
  },
  {
   "source": [
    "# Et de Bruxelles ?"
   ],
   "cell_type": "markdown",
   "metadata": {}
  },
  {
   "cell_type": "code",
   "execution_count": 38,
   "metadata": {},
   "outputs": [
    {
     "output_type": "execute_result",
     "data": {
      "text/plain": [
       "[('dispositions', 0.9191489219665527),\n",
       " ('prescriptions', 0.8738716840744019),\n",
       " ('instructions', 0.855941891670227),\n",
       " ('arretes_royaux', 0.8479828238487244),\n",
       " ('reglements', 0.8478298783302307),\n",
       " ('decrets', 0.8464215993881226),\n",
       " ('volontes', 0.8434626460075378),\n",
       " ('stipulations', 0.8363339900970459),\n",
       " ('statuts', 0.830673098564148),\n",
       " ('dispositions_reglementaires', 0.8160631060600281),\n",
       " ('regles', 0.814227283000946),\n",
       " ('deliberations', 0.8130682706832886),\n",
       " ('conventions', 0.8119970560073853),\n",
       " ('decisions', 0.8029417991638184),\n",
       " ('resolutions', 0.8002986311912537),\n",
       " ('indications', 0.7965982556343079),\n",
       " ('ordonnances', 0.7926355600357056),\n",
       " ('dispositions_legales', 0.7857859134674072),\n",
       " ('principes', 0.7674821615219116),\n",
       " ('dates', 0.7639655470848083),\n",
       " ('instructions_ministerielles', 0.7601656317710876),\n",
       " ('circulaires_ministerielles', 0.7493163347244263),\n",
       " ('articles', 0.7451459765434265),\n",
       " ('infractions', 0.7380624413490295),\n",
       " ('mesures', 0.7379566431045532),\n",
       " ('informations', 0.7374386787414551),\n",
       " ('ternies', 0.7370689511299133),\n",
       " ('conditions', 0.7281954884529114),\n",
       " ('lois_coordonnees', 0.7268694639205933),\n",
       " ('clauses', 0.7254317998886108)]"
      ]
     },
     "metadata": {},
     "execution_count": 38
    }
   ],
   "source": [
    "model.wv.most_similar(\"lois\")"
   ]
  },
  {
   "cell_type": "code",
   "execution_count": 33,
   "metadata": {},
   "outputs": [
    {
     "output_type": "execute_result",
     "data": {
      "text/plain": [
       "[('besoins', 0.8854905366897583),\n",
       " ('etablissements', 0.8815790414810181),\n",
       " ('avantages', 0.8788362145423889),\n",
       " ('procedes', 0.8786175847053528),\n",
       " ('usages', 0.8778522610664368),\n",
       " ('habitudes', 0.8763046860694885),\n",
       " ('differents_services', 0.8621149063110352),\n",
       " ('services_communaux', 0.8610907793045044),\n",
       " ('ecoles_libres', 0.8592246770858765),\n",
       " ('institutions', 0.8585783839225769)]"
      ]
     },
     "metadata": {},
     "execution_count": 33
    }
   ],
   "source": [
    "model.wv.most_similar(\"services\")"
   ]
  },
  {
   "cell_type": "code",
   "execution_count": 40,
   "metadata": {},
   "outputs": [
    {
     "output_type": "execute_result",
     "data": {
      "text/plain": [
       "[('creances', 0.8710911273956299),\n",
       " ('capitaux', 0.8545090556144714),\n",
       " ('impots', 0.8333338499069214),\n",
       " ('benefices', 0.8331471085548401),\n",
       " ('ressources', 0.8275101184844971),\n",
       " ('dettes', 0.8188509941101074),\n",
       " ('interets', 0.8161908984184265),\n",
       " ('fermages', 0.8085001707077026),\n",
       " ('versements', 0.7855970859527588),\n",
       " ('avances', 0.7787643671035767)]"
      ]
     },
     "metadata": {},
     "execution_count": 40
    }
   ],
   "source": [
    "model.wv.most_similar(\"revenus\")"
   ]
  },
  {
   "cell_type": "code",
   "execution_count": 41,
   "metadata": {},
   "outputs": [
    {
     "output_type": "execute_result",
     "data": {
      "text/plain": [
       "[('compagnie', 0.8679052591323853),\n",
       " ('compagnie_anglaise', 0.8537718057632446),\n",
       " ('compagnie_concessionnaire', 0.8469979763031006),\n",
       " ('communaute', 0.8458524942398071),\n",
       " ('commune', 0.8401341438293457),\n",
       " ('province', 0.8334389328956604),\n",
       " ('caisse_communale', 0.824784517288208),\n",
       " ('banque', 0.8221501708030701),\n",
       " ('banque_nationale', 0.8212296962738037),\n",
       " ('societe', 0.8159264326095581)]"
      ]
     },
     "metadata": {},
     "execution_count": 41
    }
   ],
   "source": [
    "model.wv.most_similar(\"ville\")"
   ]
  },
  {
   "cell_type": "code",
   "execution_count": 42,
   "metadata": {},
   "outputs": [
    {
     "output_type": "execute_result",
     "data": {
      "text/plain": [
       "[('conception', 0.9247393608093262),\n",
       " ('jeunesse', 0.9063951373100281),\n",
       " ('collaboration', 0.8843094110488892),\n",
       " ('personnalite', 0.8808213472366333),\n",
       " ('moderation', 0.8807944655418396),\n",
       " ('theorie', 0.8791179060935974),\n",
       " ('preoccupation', 0.8760042190551758),\n",
       " ('notion', 0.8755460977554321),\n",
       " ('propagande', 0.8744450807571411),\n",
       " ('doctrine', 0.8714135885238647)]"
      ]
     },
     "metadata": {},
     "execution_count": 42
    }
   ],
   "source": [
    "model.wv.most_similar(\"politique\")"
   ]
  },
  {
   "source": [
    "# Comment obtenir une ville de France grâce à notre modèle ?"
   ],
   "cell_type": "markdown",
   "metadata": {}
  },
  {
   "cell_type": "code",
   "execution_count": 9,
   "metadata": {},
   "outputs": [
    {
     "output_type": "execute_result",
     "data": {
      "text/plain": [
       "[('paris', 0.8607033491134644)]"
      ]
     },
     "metadata": {},
     "execution_count": 9
    }
   ],
   "source": [
    "model.wv.most_similar(positive=['bruxelles', 'france'], negative=['belgique'], topn=1)"
   ]
  },
  {
   "cell_type": "code",
   "execution_count": null,
   "metadata": {},
   "outputs": [],
   "source": [
    "model.wv.most_similar(positive=['bruxelles', 'liege', 'france'], negative=['belgique'], topn=1)"
   ]
  },
  {
   "cell_type": "code",
   "execution_count": null,
   "metadata": {},
   "outputs": [],
   "source": []
  }
 ]
}