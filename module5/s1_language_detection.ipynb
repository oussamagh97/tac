{
 "metadata": {
  "language_info": {
   "codemirror_mode": {
    "name": "ipython",
    "version": 3
   },
   "file_extension": ".py",
   "mimetype": "text/x-python",
   "name": "python",
   "nbconvert_exporter": "python",
   "pygments_lexer": "ipython3",
   "version": "3.7.7-final"
  },
  "orig_nbformat": 2,
  "kernelspec": {
   "name": "python3",
   "display_name": "Python 3"
  }
 },
 "nbformat": 4,
 "nbformat_minor": 2,
 "cells": [
  {
   "source": [
    "# Detect languages used in bulletins"
   ],
   "cell_type": "markdown",
   "metadata": {}
  },
  {
   "cell_type": "code",
   "execution_count": null,
   "metadata": {},
   "outputs": [],
   "source": [
    "import os\n",
    "from collections import defaultdict\n",
    "\n",
    "import langid\n",
    "import pycountry"
   ]
  },
  {
   "source": [
    "Le code ci-dessous permet de forcer l'algorithme à choisir entre le français ou le néerlandais"
   ],
   "cell_type": "markdown",
   "metadata": {}
  },
  {
   "cell_type": "code",
   "execution_count": null,
   "metadata": {},
   "outputs": [],
   "source": [
    "langid.set_languages(['fr', 'nl'])"
   ]
  },
  {
   "source": [
    "Nous listons tous les fichiers .txt dans le corpus"
   ],
   "cell_type": "markdown",
   "metadata": {}
  },
  {
   "cell_type": "code",
   "execution_count": null,
   "metadata": {},
   "outputs": [],
   "source": [
    "root = \"../data/txt/\"\n",
    "txts = os.listdir(root)\n",
    "print(f\"{len(txts)} TXT files found\")"
   ]
  },
  {
   "source": [
    "Nous allons lire chaque fichier, détecter la langue, et incrémenter `lang_dict`lorsqu'une langue est détectée.\n",
    "\n",
    "**Important** : pour détecter les langues sur tous les documents, mettez `limit = None` ci-dessous."
   ],
   "cell_type": "markdown",
   "metadata": {}
  },
  {
   "cell_type": "code",
   "execution_count": null,
   "metadata": {},
   "outputs": [],
   "source": [
    "limit = 500\n",
    "# limit = None"
   ]
  },
  {
   "cell_type": "code",
   "execution_count": null,
   "metadata": {},
   "outputs": [],
   "source": [
    "lang_dict = defaultdict(int)\n",
    "txts = txts[:limit] if limit else texts"
   ]
  },
  {
   "cell_type": "code",
   "execution_count": null,
   "metadata": {},
   "outputs": [],
   "source": [
    "for i, txt in enumerate(sorted(txts)):\n",
    "    if i % 50 == 0:\n",
    "        print(f'{i} document(s) processed...')\n",
    "    text = open(os.path.join(root, txt)).read()\n",
    "    text_length = len(text)\n",
    "    if text_length > 20:\n",
    "        lang, conf = langid.classify(text)\n",
    "        lang_dict[lang] += 1\n",
    "    else:\n",
    "        print(f\"{txt} contains only {text_length} characters, treating as unknown\")\n",
    "        lang_dict['n/a'] += 1"
   ]
  },
  {
   "source": [
    "Nous allons trier les langues de la plus fréquente à la plus rare."
   ],
   "cell_type": "markdown",
   "metadata": {}
  },
  {
   "source": [
    "sorted_lang = sorted(lang_dict.items(), key=lambda kv: kv[1], reverse=True)"
   ],
   "cell_type": "code",
   "metadata": {},
   "execution_count": null,
   "outputs": []
  },
  {
   "source": [
    "Et nous imprimons les résultats..."
   ],
   "cell_type": "markdown",
   "metadata": {}
  },
  {
   "source": [
    "for lang_code, nb_docs in sorted_lang:\n",
    "    language = pycountry.languages.get(alpha_2=lang_code)\n",
    "    try:\n",
    "        lang_name = language.name\n",
    "    except AttributeError:\n",
    "        lang_name = language\n",
    "    print(f\"{lang_name}\\t{nb_docs}\")"
   ],
   "cell_type": "code",
   "metadata": {},
   "execution_count": null,
   "outputs": []
  },
  {
   "cell_type": "code",
   "execution_count": null,
   "metadata": {},
   "outputs": [],
   "source": []
  }
 ]
}