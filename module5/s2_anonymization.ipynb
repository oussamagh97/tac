{
 "metadata": {
  "language_info": {
   "codemirror_mode": {
    "name": "ipython",
    "version": 3
   },
   "file_extension": ".py",
   "mimetype": "text/x-python",
   "name": "python",
   "nbconvert_exporter": "python",
   "pygments_lexer": "ipython3",
   "version": "3.7.7-final"
  },
  "orig_nbformat": 2,
  "kernelspec": {
   "name": "python3",
   "display_name": "Python 3"
  }
 },
 "nbformat": 4,
 "nbformat_minor": 2,
 "cells": [
  {
   "source": [
    "# Anonymizing data with Faker"
   ],
   "cell_type": "markdown",
   "metadata": {}
  },
  {
   "cell_type": "code",
   "execution_count": null,
   "metadata": {},
   "outputs": [],
   "source": [
    "from pprint import pprint\n",
    "from faker import Faker\n",
    "from faker.providers import internet"
   ]
  },
  {
   "source": [
    "\"Faker is a Python package that generates fake data for you. Whether you need to bootstrap your database, create good-looking XML documents, fill-in your persistence to stress test it, or anonymize data taken from a production service, Faker is for you.\"\n",
    "\n",
    "https://faker.readthedocs.io/en/master/"
   ],
   "cell_type": "markdown",
   "metadata": {}
  },
  {
   "source": [
    "\"Use `faker.Faker()` to create and initialize a faker generator, which can generate data by accessing properties named after the type of data you want.\""
   ],
   "cell_type": "markdown",
   "metadata": {}
  },
  {
   "cell_type": "code",
   "execution_count": null,
   "metadata": {},
   "outputs": [],
   "source": [
    "fake = Faker()"
   ]
  },
  {
   "cell_type": "code",
   "execution_count": null,
   "metadata": {},
   "outputs": [],
   "source": [
    "# Pour créer un faux nom.\n",
    "print(fake.name())"
   ]
  },
  {
   "cell_type": "code",
   "execution_count": null,
   "metadata": {},
   "outputs": [],
   "source": [
    "# Pour créer une fausse adresse.\n",
    "print(fake.address())"
   ]
  },
  {
   "cell_type": "code",
   "execution_count": null,
   "metadata": {},
   "outputs": [],
   "source": [
    "# Il est possible de créer plusieurs faux noms, ici en français, avec une boucle.\n",
    "fake_fr = Faker('fr_FR')\n",
    "for _ in range(10):\n",
    "    print(fake_fr.name())"
   ]
  },
  {
   "cell_type": "code",
   "execution_count": null,
   "metadata": {},
   "outputs": [],
   "source": [
    "# Même chose en néerlandais.\n",
    "fake_nl = Faker('nl_NL')\n",
    "for _ in range(10):\n",
    "    print(fake_nl.name())"
   ]
  },
  {
   "cell_type": "code",
   "execution_count": null,
   "metadata": {},
   "outputs": [],
   "source": [
    "# Nous pouvons créer une fausse adresse IP.\n",
    "fake.add_provider(internet)\n",
    "print(fake.ipv4_public())"
   ]
  },
  {
   "cell_type": "code",
   "execution_count": null,
   "metadata": {},
   "outputs": [],
   "source": [
    "# Nous pouvons créer un faux profil : adresse, date de naissance, e-mail, nom, genre, et username.\n",
    "profile = fake_fr.simple_profile()\n",
    "pprint(profile)"
   ]
  },
  {
   "cell_type": "code",
   "execution_count": null,
   "metadata": {},
   "outputs": [],
   "source": []
  }
 ]
}