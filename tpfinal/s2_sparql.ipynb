{
 "metadata": {
  "language_info": {
   "codemirror_mode": {
    "name": "ipython",
    "version": 3
   },
   "file_extension": ".py",
   "mimetype": "text/x-python",
   "name": "python",
   "nbconvert_exporter": "python",
   "pygments_lexer": "ipython3",
   "version": "3.7.7-final"
  },
  "orig_nbformat": 2,
  "kernelspec": {
   "name": "python3",
   "display_name": "Python 3.7.7 64-bit ('venv')",
   "metadata": {
    "interpreter": {
     "hash": "d6fb9991202371a20b4b1fa688d203658d075847d950dccdda3b59d184d9b3f9"
    }
   }
  }
 },
 "nbformat": 4,
 "nbformat_minor": 2,
 "cells": [
  {
   "source": [
    "# Query Wikidata for Belgian Museums"
   ],
   "cell_type": "markdown",
   "metadata": {}
  },
  {
   "cell_type": "code",
   "execution_count": 46,
   "metadata": {},
   "outputs": [],
   "source": [
    "from datetime import datetime as dt\n",
    "\n",
    "from SPARQLWrapper import SPARQLWrapper, JSON"
   ]
  },
  {
   "source": [
    "## Fonctions"
   ],
   "cell_type": "markdown",
   "metadata": {}
  },
  {
   "cell_type": "code",
   "execution_count": 47,
   "metadata": {},
   "outputs": [],
   "source": [
    "def get_rows():\n",
    "    \"\"\"Retrieve results from SPARQL\"\"\"\n",
    "    endpoint = \"https://query.wikidata.org/bigdata/namespace/wdq/sparql\"\n",
    "    sparql = SPARQLWrapper(endpoint)\n",
    "\n",
    "    statement = \"\"\"\n",
    " SELECT ?item ?itemLabel ?itemcoordinates WHERE {\n",
    "  ?item (wdt:P31/(wdt:P279*)) wd:Q16917;\n",
    "    wdt:P131 wd:Q239;\n",
    "    wdt:P625 ?itemcoordinates.\n",
    "  SERVICE wikibase:label { bd:serviceParam wikibase:language \"fr, en\". }\n",
    "}               \n",
    "    \"\"\"\n",
    "    sparql.setQuery(statement)\n",
    "    sparql.setReturnFormat(JSON)\n",
    "    results = sparql.query().convert()\n",
    "\n",
    "    rows = results['results']['bindings']\n",
    "    print(f\"\\n{len(rows)} hospitals found\\n\")\n",
    "    return rows"
   ]
  },
  {
   "cell_type": "code",
   "execution_count": 48,
   "metadata": {},
   "outputs": [],
   "source": [
    "def show(rows, name_filter=None,n=10):\n",
    "    \"\"\"Display n museums (default=10)\"\"\"\n",
    "    if name_filter:\n",
    "        rows = [row for row in rows if name_filter in row['itemLabel']['value'].lower()]\n",
    "    print(f\"Displaying the first {n}:\\n\")\n",
    "    for row in rows[:n]:\n",
    "        try:\n",
    "            itemLabel = row['itemLabel']['value']\n",
    "        except ValueError:\n",
    "            itemLabel = \"====\"\n",
    "        try:\n",
    "            coordinates = row['itemcoordinates']['value']\n",
    "        except ValueError: \n",
    "            coordinates = \"====\" \n",
    "        print(itemLabel + \":\" + coordinates)"
   ]
  },
  {
   "source": [
    "## Obtenir une liste des musees belges depuis Wiki Data "
   ],
   "cell_type": "markdown",
   "metadata": {}
  },
  {
   "cell_type": "code",
   "execution_count": 49,
   "metadata": {
    "tags": []
   },
   "outputs": [
    {
     "output_type": "stream",
     "name": "stdout",
     "text": [
      "\n12 hospitals found\n\n"
     ]
    }
   ],
   "source": [
    "rows = get_rows()"
   ]
  },
  {
   "cell_type": "code",
   "execution_count": 53,
   "metadata": {},
   "outputs": [
    {
     "output_type": "execute_result",
     "data": {
      "text/plain": [
       "{'item': {'type': 'uri', 'value': 'http://www.wikidata.org/entity/Q16642766'},\n",
       " 'itemcoordinates': {'datatype': 'http://www.opengis.net/ont/geosparql#wktLiteral',\n",
       "  'type': 'literal',\n",
       "  'value': 'Point(4.389444444 50.834722222)'},\n",
       " 'itemLabel': {'xml:lang': 'fr',\n",
       "  'type': 'literal',\n",
       "  'value': 'Hôpitaux Iris Sud'}}"
      ]
     },
     "metadata": {},
     "execution_count": 53
    }
   ],
   "source": [
    "rows[3]"
   ]
  },
  {
   "cell_type": "code",
   "execution_count": 59,
   "metadata": {},
   "outputs": [
    {
     "output_type": "stream",
     "name": "stdout",
     "text": [
      "Displaying the first 10:\n\n"
     ]
    },
    {
     "output_type": "error",
     "ename": "KeyError",
     "evalue": "'coordinates'",
     "traceback": [
      "\u001b[1;31m---------------------------------------------------------------------------\u001b[0m",
      "\u001b[1;31mKeyError\u001b[0m                                  Traceback (most recent call last)",
      "\u001b[1;32m<ipython-input-59-0e413e91a0f0>\u001b[0m in \u001b[0;36m<module>\u001b[1;34m\u001b[0m\n\u001b[1;32m----> 1\u001b[1;33m \u001b[0mshow\u001b[0m\u001b[1;33m(\u001b[0m\u001b[0mrows\u001b[0m\u001b[1;33m,\u001b[0m\u001b[0mn\u001b[0m\u001b[1;33m=\u001b[0m\u001b[1;36m10\u001b[0m\u001b[1;33m)\u001b[0m\u001b[1;33m\u001b[0m\u001b[1;33m\u001b[0m\u001b[0m\n\u001b[0m",
      "\u001b[1;32m<ipython-input-48-611e43db6996>\u001b[0m in \u001b[0;36mshow\u001b[1;34m(rows, name_filter, n)\u001b[0m\n\u001b[0;32m     10\u001b[0m             \u001b[0mitemLabel\u001b[0m \u001b[1;33m=\u001b[0m \u001b[1;34m\"====\"\u001b[0m\u001b[1;33m\u001b[0m\u001b[1;33m\u001b[0m\u001b[0m\n\u001b[0;32m     11\u001b[0m         \u001b[1;32mtry\u001b[0m\u001b[1;33m:\u001b[0m\u001b[1;33m\u001b[0m\u001b[1;33m\u001b[0m\u001b[0m\n\u001b[1;32m---> 12\u001b[1;33m             \u001b[0mcoordinates\u001b[0m \u001b[1;33m=\u001b[0m \u001b[0mrow\u001b[0m\u001b[1;33m[\u001b[0m\u001b[1;34m'coordinates'\u001b[0m\u001b[1;33m]\u001b[0m\u001b[1;33m[\u001b[0m\u001b[1;34m'value'\u001b[0m\u001b[1;33m]\u001b[0m\u001b[1;33m\u001b[0m\u001b[1;33m\u001b[0m\u001b[0m\n\u001b[0m\u001b[0;32m     13\u001b[0m         \u001b[1;32mexcept\u001b[0m \u001b[0mValueError\u001b[0m\u001b[1;33m:\u001b[0m\u001b[1;33m\u001b[0m\u001b[1;33m\u001b[0m\u001b[0m\n\u001b[0;32m     14\u001b[0m             \u001b[0mcoordinates\u001b[0m \u001b[1;33m=\u001b[0m \u001b[1;34m\"====\"\u001b[0m\u001b[1;33m\u001b[0m\u001b[1;33m\u001b[0m\u001b[0m\n",
      "\u001b[1;31mKeyError\u001b[0m: 'coordinates'"
     ]
    }
   ],
   "source": [
    "show(rows,n=10)"
   ]
  },
  {
   "cell_type": "code",
   "execution_count": null,
   "metadata": {},
   "outputs": [],
   "source": []
  }
 ]
}