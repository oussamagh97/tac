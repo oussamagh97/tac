{
 "metadata": {
  "language_info": {
   "codemirror_mode": {
    "name": "ipython",
    "version": 3
   },
   "file_extension": ".py",
   "mimetype": "text/x-python",
   "name": "python",
   "nbconvert_exporter": "python",
   "pygments_lexer": "ipython3",
   "version": "3.7.7-final"
  },
  "orig_nbformat": 2,
  "kernelspec": {
   "name": "python3",
   "display_name": "Python 3",
   "language": "python"
  }
 },
 "nbformat": 4,
 "nbformat_minor": 2,
 "cells": [
  {
   "source": [
    "# Detect languages used in bulletins"
   ],
   "cell_type": "markdown",
   "metadata": {}
  },
  {
   "cell_type": "code",
   "execution_count": 1,
   "metadata": {},
   "outputs": [],
   "source": [
    "from collections import defaultdict\n",
    "import sys\n",
    "\n",
    "import spacy\n",
    "from spacy.lang.fr.examples import sentences"
   ]
  },
  {
   "cell_type": "code",
   "execution_count": 2,
   "metadata": {},
   "outputs": [],
   "source": [
    "nlp = spacy.load('fr_core_news_sm')"
   ]
  },
  {
   "cell_type": "code",
   "execution_count": 5,
   "metadata": {},
   "outputs": [],
   "source": [
    "def search(n=10000000):\n",
    "    text = open(\"bulletinstextes.txt\", encoding='latin-1').read()[:n]\n",
    "    doc = nlp(text)\n",
    "    organisation  = defaultdict(int)\n",
    "    for ent in doc.ents:\n",
    "        if ent.label_ == \"ORG\" and len(ent.text) > 3:\n",
    "            organisation [ent.text] += 1\n",
    "    sorted_organisation  = sorted(organisation .items(), key=lambda kv: kv[1], reverse=True)\n",
    "    for organisation , freq in sorted_organisation [:200]:\n",
    "        print(f\"{organisation } appears {freq} times in the corpus\")"
   ]
  },
  {
   "cell_type": "code",
   "execution_count": null,
   "metadata": {},
   "outputs": [],
   "source": [
    "def search2(n=10000000):\n",
    "    text = open(\"bulletinstextes.txt\", encoding='latin-1').read()[:n]\n",
    "    doc = nlp(text)\n",
    "    location  = defaultdict(int)\n",
    "    for ent in doc.ents:\n",
    "        if ent.label_ == \"LOC\" and len(ent.text) > 3:\n",
    "            location [ent.text] += 1\n",
    "    sorted_location  = sorted(location .items(), key=lambda kv: kv[1], reverse=True)\n",
    "    for location , freq in sorted_location [:200]:\n",
    "        print(f\"{location } appears {freq} times in the corpus\")"
   ]
  },
  {
   "cell_type": "code",
   "execution_count": 6,
   "metadata": {},
   "outputs": [
    {
     "output_type": "stream",
     "name": "stdout",
     "text": [
      "Conseil appears 361 times in the corpus\nSociÃ appears 57 times in the corpus\nRanwet appears 45 times in the corpus\nmÃªme appears 38 times in the corpus\nBas-fonds appears 28 times in the corpus\nfinanciÃ¨re appears 21 times in the corpus\nConseil gÃ appears 21 times in the corpus\nfenÃªtres appears 21 times in the corpus\nderniÃ¨re appears 20 times in the corpus\nSOMMAIRE appears 17 times in the corpus\nÃ  Bruxelles appears 13 times in the corpus\nSchaerbeÃ appears 13 times in the corpus\nConstitution appears 12 times in the corpus\nConservatoire appears 11 times in the corpus\nMarchÃ appears 9 times in the corpus\ncaractÃ¨re appears 9 times in the corpus\nChambre appears 9 times in the corpus\nCambre appears 8 times in the corpus\nAdministration communale appears 7 times in the corpus\nAprÃ¨s appears 6 times in the corpus\nConseil central appears 6 times in the corpus\nBelgique Communale appears 6 times in the corpus\nConseil communal appears 5 times in the corpus\nAssurÃ appears 5 times in the corpus\nÂ« Art appears 5 times in the corpus\nAdministration des Hospices appears 5 times in the corpus\nAcadÃ appears 4 times in the corpus\nIntÃ appears 4 times in the corpus\npÃ»t appears 4 times in the corpus\narrÃªter appears 4 times in the corpus\nempÃªche appears 4 times in the corpus\nImpÃ appears 4 times in the corpus\nconsultÃ© appears 4 times in the corpus\nHonorÃ appears 4 times in the corpus\nVanderlÃ appears 4 times in the corpus\nBlaes appears 4 times in the corpus\nSecrÃ©taire appears 3 times in the corpus\ndÃ©libÃ appears 3 times in the corpus\nhospice de PachÃ©co appears 3 times in the corpus\nM. Ranwet appears 3 times in the corpus\ncÅur appears 3 times in the corpus\ncharitÃ appears 3 times in the corpus\nreculÃ appears 3 times in the corpus\nChambre des reprÃ appears 3 times in the corpus\nministÃ¨re appears 3 times in the corpus\nVOUS appears 3 times in the corpus\nintermÃ appears 3 times in the corpus\nUniversitÃ appears 3 times in the corpus\nnommÃ appears 3 times in the corpus\nMolenbeÃ appears 3 times in the corpus\nDoncker appears 3 times in the corpus\nGrandThÃ©Ã¢tre appears 3 times in the corpus\nSection appears 3 times in the corpus\nMessageries appears 2 times in the corpus\nCour appears 2 times in the corpus\nConservatoire de musique appears 2 times in the corpus\nIndemnitÃ appears 2 times in the corpus\nÃ¢ge appears 2 times in the corpus\nmaniÃ¨re appears 2 times in the corpus\nhÃ´tel appears 2 times in the corpus\nCompagnie appears 2 times in the corpus\nÂ« 2Â appears 2 times in the corpus\nverduriÃ¨re appears 2 times in the corpus\nconsidÃ¨re appears 2 times in the corpus\nMinistre de la guerre appears 2 times in the corpus\nAssemblÃ appears 2 times in the corpus\nMinistre appears 2 times in the corpus\nConseil des hospices appears 2 times in the corpus\nConseil dÃ appears 2 times in the corpus\nA R T appears 2 times in the corpus\nsuccÃ¨s appears 2 times in the corpus\nauprÃ¨s appears 2 times in the corpus\ndeuxiÃ¨me appears 2 times in the corpus\nConseil de suspendre appears 2 times in the corpus\nÃª t r e appears 2 times in the corpus\nBourgmestre appears 2 times in the corpus\nÃ©tat appears 2 times in the corpus\nConseil de r Ã appears 2 times in the corpus\nDÃ¨s appears 2 times in the corpus\nconsommÃ appears 2 times in the corpus\nSchuttery appears 2 times in the corpus\nDl!\n\n appears 1 times in the corpus\nVILLE appears 1 times in the corpus\nIMPRIMERIE appears 1 times in the corpus\nFAUBOURG appears 1 times in the corpus\nAveugles indigens appears 1 times in the corpus\nConseil d'administration des hospices appears 1 times in the corpus\nN O U appears 1 times in the corpus\nhospice Ã appears 1 times in the corpus\nhospice de PachÃ©co a coÃ»tÃ appears 1 times in the corpus\ncontrÃ´lÃ appears 1 times in the corpus\nConseil consultÃ appears 1 times in the corpus\nConseil des hospices d'avoir prÃ appears 1 times in the corpus\nFermages appears 1 times in the corpus\nBanque de Vienne appears 1 times in the corpus\nCHARGES appears 1 times in the corpus\nBIENS appears 1 times in the corpus\nReport\n\n appears 1 times in the corpus\nEngager le appears 1 times in the corpus\nCHAPITRE appears 1 times in the corpus\nMÃªme appears 1 times in the corpus\nComitÃ appears 1 times in the corpus\ndÃ»s appears 1 times in the corpus\ntranquillitÃ appears 1 times in the corpus\naumÃ´ne appears 1 times in the corpus\neÃ»t appears 1 times in the corpus\nCarbanson appears 1 times in the corpus\nVerschoot appears 1 times in the corpus\nConseil communal d'approuver appears 1 times in the corpus\nConservatoire royal de musique appears 1 times in the corpus\nEchevin Orts appears 1 times in the corpus\nTribunaux de justice de paix appears 1 times in the corpus\ninexÃ appears 1 times in the corpus\nHilaritÃ appears 1 times in the corpus\nTribunaux de paix appears 1 times in the corpus\nFontaÃ appears 1 times in the corpus\nMessageries rÃ appears 1 times in the corpus\nannoncÃ appears 1 times in the corpus\nGrandesMessageries appears 1 times in the corpus\nempÃªchez appears 1 times in the corpus\ndeuxiÃ¨me projet appears 1 times in the corpus\nBlaes dÃ appears 1 times in the corpus\nBORTIER appears 1 times in the corpus\nLe Bourgmestre appears 1 times in the corpus\nDIMINUTION appears 1 times in the corpus\nÂ« Le Conseil appears 1 times in the corpus\nPommes appears 1 times in the corpus\n-Roses appears 1 times in the corpus\nj o u appears 1 times in the corpus\nConseil des calculs appears 1 times in the corpus\nPartisan appears 1 times in the corpus\nMolenbeekSaint appears 1 times in the corpus\nConseil dÃ© appears 1 times in the corpus\nAyons appears 1 times in the corpus\nVargent appears 1 times in the corpus\nModification appears 1 times in the corpus\nLe Conseil appears 1 times in the corpus\nConseil substitue appears 1 times in the corpus\nConseil sans q u e appears 1 times in the corpus\nÂ« L'art appears 1 times in the corpus\nMinistre invoque essentiellement l'art appears 1 times in the corpus\nRAUCOURT appears 1 times in the corpus\nMM. Gendebien appears 1 times in the corpus\nConseil de modifier appears 1 times in the corpus\nConseil de l u i faire payer appears 1 times in the corpus\nCharbons appears 1 times in the corpus\nInterpellation appears 1 times in the corpus\nMoniteur appears 1 times in the corpus\nMM. de appears 1 times in the corpus\nConseil de la\nCambre appears 1 times in the corpus\nConseil d'inspection appears 1 times in the corpus\nfÃ»t appears 1 times in the corpus\nEXPLOITATION appears 1 times in the corpus\nMONNAIE appears 1 times in the corpus\nCommission des thÃ appears 1 times in the corpus\nPARC appears 1 times in the corpus\nÃ©tat de propretÃ© appears 1 times in the corpus\nAvant-1830 appears 1 times in the corpus\nECHEVIN appears 1 times in the corpus\nVERHULST appears 1 times in the corpus\nFONTAINAS appears 1 times in the corpus\nÃ©tude appears 1 times in the corpus\nordre du CollÃ¨ge appears 1 times in the corpus\ndouziÃ¨me appears 1 times in the corpus\nS avril appears 1 times in the corpus\nparticuliÃ¨re appears 1 times in the corpus\nApprobation de la convention appears 1 times in the corpus\nRapports de la section appears 1 times in the corpus\nSaintHubert appears 1 times in the corpus\nÃ  prÃ appears 1 times in the corpus\nÃ \nBruxelles appears 1 times in the corpus\nPardon ! appears 1 times in the corpus\ncommoditÃ appears 1 times in the corpus\nies Ã appears 1 times in the corpus\nHospice des Aveugles appears 1 times in the corpus\nTotal appears 1 times in the corpus\ninoccupÃ appears 1 times in the corpus\nChambre des reprÃ©senlans appears 1 times in the corpus\nmÃªme ordre d'idÃ appears 1 times in the corpus\nSont nommÃ appears 1 times in the corpus\nComment! appears 1 times in the corpus\nCollÃ¨ge Ã \n appears 1 times in the corpus\nconsultÃ appears 1 times in the corpus\nConseil de mauvais voul appears 1 times in the corpus\nConseil de rÃ appears 1 times in the corpus\ninstituÃ appears 1 times in the corpus\nrentrÃ appears 1 times in the corpus\nÃ´ter Ã \n appears 1 times in the corpus\nempÃªcheraient appears 1 times in the corpus\nÃ«goÃ»ts appears 1 times in the corpus\ncochÃ¨re appears 1 times in the corpus\nBUDGET appears 1 times in the corpus\nEXERCICE appears 1 times in the corpus\nEtatnÂ appears 1 times in the corpus\nn 1Â appears 1 times in the corpus\nMalgrÃ appears 1 times in the corpus\nÃ \nprÃ appears 1 times in the corpus\nno 2Â appears 1 times in the corpus\nConseil pour l'affaire des Bas-fonds de la rue Royale appears 1 times in the corpus\nBas-fonds nÃ appears 1 times in the corpus\n"
     ]
    }
   ],
   "source": [
    "search(n=1000000)"
   ]
  },
  {
   "cell_type": "code",
   "execution_count": null,
   "metadata": {},
   "outputs": [],
   "source": []
  }
 ]
}