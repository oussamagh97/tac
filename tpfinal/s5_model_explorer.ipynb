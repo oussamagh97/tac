{
 "metadata": {
  "language_info": {
   "codemirror_mode": {
    "name": "ipython",
    "version": 3
   },
   "file_extension": ".py",
   "mimetype": "text/x-python",
   "name": "python",
   "nbconvert_exporter": "python",
   "pygments_lexer": "ipython3",
   "version": "3.7.7-final"
  },
  "orig_nbformat": 2,
  "kernelspec": {
   "name": "python3",
   "display_name": "Python 3",
   "language": "python"
  }
 },
 "nbformat": 4,
 "nbformat_minor": 2,
 "cells": [
  {
   "cell_type": "code",
   "execution_count": 1,
   "metadata": {},
   "outputs": [],
   "source": [
    "from gensim.models import Word2Vec\n",
    "from pprint import pprint"
   ]
  },
  {
   "source": [
    "# Charger le modèle que nous venons de créer"
   ],
   "cell_type": "markdown",
   "metadata": {}
  },
  {
   "cell_type": "code",
   "execution_count": 2,
   "metadata": {},
   "outputs": [],
   "source": [
    "model = Word2Vec.load(\"../tpfinal/bulletins.model\")"
   ]
  },
  {
   "source": [
    "# Comment est représenté le mot \"rue\" ?"
   ],
   "cell_type": "markdown",
   "metadata": {}
  },
  {
   "cell_type": "code",
   "execution_count": 3,
   "metadata": {},
   "outputs": [
    {
     "output_type": "execute_result",
     "data": {
      "text/plain": [
       "array([-4.7511735 , -0.18189573,  2.0982962 ,  3.6922312 ,  4.4586663 ,\n",
       "       -0.3718267 ,  1.9673916 , -0.28508642, -5.84319   , -1.4615407 ,\n",
       "       -4.6268854 ,  0.59363437, -1.964993  , -2.6218405 ,  0.31093794,\n",
       "        0.44958273, -5.4230523 , -1.0659221 , -0.8328015 ,  4.469723  ,\n",
       "        2.775035  , -2.5232859 , -1.3682934 , -4.1037207 , -5.036782  ,\n",
       "       -3.5337234 ,  5.0204215 , -1.0464443 ,  1.9223058 ,  1.8622675 ,\n",
       "       -0.74347365,  0.2610513 ], dtype=float32)"
      ]
     },
     "metadata": {},
     "execution_count": 3
    }
   ],
   "source": [
    "model[\"hospices\"]"
   ]
  },
  {
   "source": [
    "# Et fleuriste ?"
   ],
   "cell_type": "markdown",
   "metadata": {}
  },
  {
   "cell_type": "code",
   "execution_count": 8,
   "metadata": {},
   "outputs": [
    {
     "output_type": "execute_result",
     "data": {
      "text/plain": [
       "array([ 0.55204445,  0.21536164, -0.8187116 ,  0.03384568, -0.06488098,\n",
       "        0.2160408 ,  0.18355094,  0.67258734,  0.15679027, -0.2929006 ,\n",
       "       -0.01215838,  0.76797193, -0.6635923 , -0.5374201 ,  0.45514932,\n",
       "        0.02548003, -0.02370805, -0.70799834, -0.18023045,  0.32601637,\n",
       "        0.3199766 ,  0.3354831 ,  0.03304011, -0.22159475,  0.23792788,\n",
       "       -0.30426827,  0.12884925, -0.33378473, -0.21878806, -0.1765272 ,\n",
       "        0.61333084,  0.10377663], dtype=float32)"
      ]
     },
     "metadata": {},
     "execution_count": 8
    }
   ],
   "source": [
    "model['medicaux']"
   ]
  },
  {
   "source": [
    "# Quel est leur similarité ?"
   ],
   "cell_type": "markdown",
   "metadata": {}
  },
  {
   "cell_type": "code",
   "execution_count": 25,
   "metadata": {},
   "outputs": [
    {
     "output_type": "execute_result",
     "data": {
      "text/plain": [
       "0.2975989"
      ]
     },
     "metadata": {},
     "execution_count": 25
    }
   ],
   "source": [
    "model.wv.similarity(\"budget\", \"lois\")"
   ]
  },
  {
   "cell_type": "code",
   "execution_count": 26,
   "metadata": {},
   "outputs": [
    {
     "output_type": "execute_result",
     "data": {
      "text/plain": [
       "0.5921939"
      ]
     },
     "metadata": {},
     "execution_count": 26
    }
   ],
   "source": [
    "model.wv.similarity(\"services\", \"revenus\")"
   ]
  },
  {
   "cell_type": "code",
   "execution_count": 28,
   "metadata": {},
   "outputs": [
    {
     "output_type": "execute_result",
     "data": {
      "text/plain": [
       "0.31432986"
      ]
     },
     "metadata": {},
     "execution_count": 28
    }
   ],
   "source": [
    "model.wv.similarity(\"ville\",\"politique\")"
   ]
  },
  {
   "cell_type": "code",
   "execution_count": 32,
   "metadata": {},
   "outputs": [
    {
     "output_type": "execute_result",
     "data": {
      "text/plain": [
       "0.49813914"
      ]
     },
     "metadata": {},
     "execution_count": 32
    }
   ],
   "source": [
    "model.wv.similarity(\"hospices\",\"travaux\")"
   ]
  },
  {
   "source": [
    "# Quel mot est le plus proche de rue ?"
   ],
   "cell_type": "markdown",
   "metadata": {}
  },
  {
   "cell_type": "code",
   "execution_count": 9,
   "metadata": {},
   "outputs": [
    {
     "output_type": "execute_result",
     "data": {
      "text/plain": [
       "[('avances_faites', 0.6884462833404541),\n",
       " ('communes_domiciles', 0.6873829364776611),\n",
       " ('hospices_civils', 0.6834018230438232),\n",
       " ('pauvres', 0.6824581623077393),\n",
       " ('voyageurs_indigents', 0.6805627346038818),\n",
       " ('liberalites_faites', 0.6793792843818665),\n",
       " ('secours_accordes', 0.6736815571784973),\n",
       " ('subsides', 0.6706745624542236),\n",
       " ('secours_alloues', 0.6670053005218506),\n",
       " ('comptes', 0.6662564277648926),\n",
       " ('pupilles', 0.6640704870223999),\n",
       " ('hospices_soumet', 0.6627014875411987),\n",
       " ('capitaux_appartenant', 0.65929114818573),\n",
       " ('budgets', 0.6569437384605408),\n",
       " ('hopitaux', 0.6550329923629761),\n",
       " ('depenses_courantes', 0.6545957326889038),\n",
       " ('communes', 0.6508576273918152),\n",
       " ('dispositions_testamentaires', 0.6484138369560242),\n",
       " ('pensions_communales', 0.6453970670700073),\n",
       " ('pensions', 0.6435321569442749),\n",
       " ('annuites_dues', 0.642410159111023),\n",
       " ('marguilliers', 0.6423896551132202),\n",
       " ('emprunts', 0.6395219564437866),\n",
       " ('donations_indiquees', 0.6359806656837463),\n",
       " ('capitaux_rembourses', 0.6341130137443542),\n",
       " ('engagements_pris', 0.6314178705215454),\n",
       " ('comites_speciaux', 0.6304357051849365),\n",
       " ('rentes_dues', 0.6258929371833801),\n",
       " ('aveugles', 0.6212478876113892),\n",
       " ('frais_occasionnes', 0.620827317237854)]"
      ]
     },
     "metadata": {},
     "execution_count": 9
    }
   ],
   "source": [
    "model.wv.most_similar(\"hospices\", topn=30)"
   ]
  },
  {
   "source": [
    "# Et de Bruxelles ?"
   ],
   "cell_type": "markdown",
   "metadata": {}
  },
  {
   "cell_type": "code",
   "execution_count": 10,
   "metadata": {},
   "outputs": [
    {
     "output_type": "execute_result",
     "data": {
      "text/plain": [
       "[('vieillards', 0.789900004863739),\n",
       " ('employes', 0.7833350300788879),\n",
       " ('malades', 0.771432101726532),\n",
       " ('etablissements_hospitaliers', 0.7710763812065125),\n",
       " ('secours_accordes', 0.7612425088882446),\n",
       " ('indigents', 0.7592483758926392),\n",
       " ('orphelins', 0.7570633888244629),\n",
       " ('retributions', 0.7569098472595215),\n",
       " ('pharmacies', 0.7565301656723022),\n",
       " ('indigents_etrangers', 0.7524775266647339)]"
      ]
     },
     "metadata": {},
     "execution_count": 10
    }
   ],
   "source": [
    "model.wv.most_similar(\"hopitaux\")"
   ]
  },
  {
   "cell_type": "code",
   "execution_count": 11,
   "metadata": {},
   "outputs": [
    {
     "output_type": "execute_result",
     "data": {
      "text/plain": [
       "[('permanents', 0.8727831840515137),\n",
       " ('administratifs', 0.849922776222229),\n",
       " ('gratuits', 0.8479104042053223),\n",
       " ('medicales', 0.8393879532814026),\n",
       " ('gratuites', 0.8313641548156738),\n",
       " ('intellectuelles', 0.8246161937713623),\n",
       " ('journalieres', 0.8237449526786804),\n",
       " ('temporaires', 0.8228659629821777),\n",
       " ('naturels', 0.8197710514068604),\n",
       " ('professionnelles', 0.8157747387886047)]"
      ]
     },
     "metadata": {},
     "execution_count": 11
    }
   ],
   "source": [
    "model.wv.most_similar(\"medicaux\")"
   ]
  },
  {
   "cell_type": "code",
   "execution_count": 12,
   "metadata": {},
   "outputs": [
    {
     "output_type": "execute_result",
     "data": {
      "text/plain": [
       "[('administratif', 0.7995718121528625),\n",
       " ('pharmaceutique', 0.7981101870536804),\n",
       " ('auxiliaire', 0.7834538817405701),\n",
       " ('personnel_administratif', 0.782021164894104),\n",
       " ('recherches_cliniques', 0.7721278667449951),\n",
       " ('enseignant', 0.7636984586715698),\n",
       " ('interimaire', 0.7618436813354492),\n",
       " ('sanitaire', 0.7585819959640503),\n",
       " ('radiographie', 0.7474104762077332),\n",
       " ('intellectuel', 0.7403250336647034)]"
      ]
     },
     "metadata": {},
     "execution_count": 12
    }
   ],
   "source": [
    "model.wv.most_similar(\"medical\")"
   ]
  },
  {
   "cell_type": "code",
   "execution_count": 13,
   "metadata": {},
   "outputs": [
    {
     "output_type": "execute_result",
     "data": {
      "text/plain": [
       "[('soldat', 0.8550630211830139),\n",
       " ('travailleur', 0.8433335423469543),\n",
       " ('titulaire', 0.8338149785995483),\n",
       " ('malheur', 0.8286123871803284),\n",
       " ('mandataire', 0.8260623216629028),\n",
       " ('crime', 0.8240088820457458),\n",
       " ('fonctionnaire', 0.8218219876289368),\n",
       " ('coupable', 0.8199957013130188),\n",
       " ('cocher', 0.8195501565933228),\n",
       " ('jeune', 0.8186806440353394)]"
      ]
     },
     "metadata": {},
     "execution_count": 13
    }
   ],
   "source": [
    "model.wv.most_similar(\"malade\")"
   ]
  },
  {
   "cell_type": "code",
   "execution_count": 42,
   "metadata": {},
   "outputs": [
    {
     "output_type": "execute_result",
     "data": {
      "text/plain": [
       "[('conception', 0.9247393608093262),\n",
       " ('jeunesse', 0.9063951373100281),\n",
       " ('collaboration', 0.8843094110488892),\n",
       " ('personnalite', 0.8808213472366333),\n",
       " ('moderation', 0.8807944655418396),\n",
       " ('theorie', 0.8791179060935974),\n",
       " ('preoccupation', 0.8760042190551758),\n",
       " ('notion', 0.8755460977554321),\n",
       " ('propagande', 0.8744450807571411),\n",
       " ('doctrine', 0.8714135885238647)]"
      ]
     },
     "metadata": {},
     "execution_count": 42
    }
   ],
   "source": [
    "model.wv.most_similar(\"politique\")"
   ]
  },
  {
   "source": [
    "# Comment obtenir une ville de France grâce à notre modèle ?"
   ],
   "cell_type": "markdown",
   "metadata": {}
  },
  {
   "cell_type": "code",
   "execution_count": 9,
   "metadata": {},
   "outputs": [
    {
     "output_type": "execute_result",
     "data": {
      "text/plain": [
       "[('paris', 0.8607033491134644)]"
      ]
     },
     "metadata": {},
     "execution_count": 9
    }
   ],
   "source": [
    "model.wv.most_similar(positive=['bruxelles', 'france'], negative=['belgique'], topn=1)"
   ]
  },
  {
   "cell_type": "code",
   "execution_count": null,
   "metadata": {},
   "outputs": [],
   "source": [
    "model.wv.most_similar(positive=['bruxelles', 'liege', 'france'], negative=['belgique'], topn=1)"
   ]
  },
  {
   "cell_type": "code",
   "execution_count": null,
   "metadata": {},
   "outputs": [],
   "source": []
  }
 ]
}